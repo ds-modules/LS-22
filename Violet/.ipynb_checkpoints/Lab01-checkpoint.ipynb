{
 "cells": [
  {
   "cell_type": "markdown",
   "metadata": {},
   "source": [
    "![voting image](http://www.burntx.com/wp-content/uploads/2018/01/voting-09-768x384.jpg)\n",
    "# <center><font color = #2E5266>Systematic and Statistical Uncertainty </font></center>\n",
    "**<center>The 2016 US Presidential Election and Uncertainty: How did the pollsters get it wrong?</center>**\n",
    "***\n",
    "In 2012, statistician Nate Silver's website, fivethirtyeight.com, was famous for correctly predicting the US election outcome for all 50 sates and the District of Columbia. The same statistical model predicted Hillary Clinton as the winner of the 2016 US Presidential election. This notebook will explore the following questions:\n",
    "\n",
    "- How did FiveThirtyEight make its predictions?\n",
    "- Was the FiveThirtyEight prediction incorrect due to statistical error, systematic error, or both?\n",
    "- Should we say that FiveThirtyEight and other major election analysts \"failed\"?\n",
    "\n",
    "Before we begin, recall the definitions of **<font color = #6E8898>systematic</font>** and **<font color = #6E8898>statistical error</font>**:\n",
    "\n",
    ">**<font color = #6E8898>Systematic error</font>** is is consistent, repeatable error associated with faulty equipment or a flawed experiment design while **<font color = #6E8898>statistical error</font>** is the unknown difference between a calculated value and the true value.\n",
    "\n",
    "\n",
    "In this context, what would systematic vs statistical errors mean for the election? Let's take a look!"
   ]
  },
  {
   "cell_type": "code",
   "execution_count": null,
   "metadata": {},
   "outputs": [],
   "source": [
    "# Hex codes for color palette\n",
    "# dark blue 2E5266\n",
    "# lighter blue 6E8898\n",
    "# blue gray 9FB1BC\n",
    "# gray pink D3D0CB\n",
    "# yellow accent E2C044"
   ]
  },
  {
   "cell_type": "markdown",
   "metadata": {},
   "source": [
    "**will contain the interactive widget**"
   ]
  },
  {
   "cell_type": "markdown",
   "metadata": {},
   "source": [
    "**Question 1**&nbsp;&nbsp;&nbsp;&nbsp;Where could there be sources of statistical error?"
   ]
  },
  {
   "cell_type": "code",
   "execution_count": 2,
   "metadata": {},
   "outputs": [],
   "source": [
    "# Replace this text box with your answer"
   ]
  },
  {
   "cell_type": "markdown",
   "metadata": {},
   "source": [
    "**Question 2**&nbsp;&nbsp;&nbsp;&nbsp;What about systematic error?"
   ]
  },
  {
   "cell_type": "code",
   "execution_count": null,
   "metadata": {},
   "outputs": [],
   "source": []
  },
  {
   "cell_type": "markdown",
   "metadata": {},
   "source": [
    "### To be implemented here: Overview of prediction failure\n",
    "\n",
    "When typing \"2016 election predictions\" in to google search bar, the 4th and 5th autocomplete are respectively “fail” and “wrong”."
   ]
  },
  {
   "cell_type": "markdown",
   "metadata": {},
   "source": [
    "![wrong](google.png)"
   ]
  },
  {
   "cell_type": "markdown",
   "metadata": {},
   "source": [
    "New York Times roundup of election predictions by news organization. All predict a Clinton win, but in many different ways (e.g. “>99% Clinton”, “71% Clinton”, “lean Democrat”, etc). "
   ]
  },
  {
   "cell_type": "markdown",
   "metadata": {},
   "source": [
    "### To be implemented here: Analysts' data source\n",
    "\n",
    "use FiveThirtyEight as example\n",
    "\n",
    "intro to the **gold standards for polling** \n",
    "       \n",
    "       Violet's comment: is there any link of the concept we can refer to?"
   ]
  },
  {
   "cell_type": "markdown",
   "metadata": {},
   "source": [
    "#### widget here\n",
    "What does the widget do?\n",
    "\n",
    "aim - enable students to understand gold standards for polling and what factors can make a polling sample non-representative\n",
    "\n",
    "format - checkbox\n",
    "\n",
    "    less people picking up the phone\n",
    "    selectively polling constituents\n",
    "    using a convenience sample\n",
    "    polling “likely voters” vs registered voters\n",
    "    ... others"
   ]
  },
  {
   "cell_type": "markdown",
   "metadata": {},
   "source": [
    "### To be implemented here: Analysts' methodology\n",
    "    \n",
    "use FiveThirtyEight as example\n",
    "\n",
    "1. import data\n",
    "2. reproduce FiveThirtyEight's model \n",
    "3. show step by step how the model works"
   ]
  },
  {
   "cell_type": "code",
   "execution_count": 5,
   "metadata": {},
   "outputs": [],
   "source": [
    "import pandas as pd "
   ]
  },
  {
   "cell_type": "code",
   "execution_count": 6,
   "metadata": {},
   "outputs": [],
   "source": [
    "data = pd.read_csv('president_general_polls.csv')"
   ]
  },
  {
   "cell_type": "code",
   "execution_count": 7,
   "metadata": {},
   "outputs": [
    {
     "data": {
      "text/html": [
       "<div>\n",
       "<style scoped>\n",
       "    .dataframe tbody tr th:only-of-type {\n",
       "        vertical-align: middle;\n",
       "    }\n",
       "\n",
       "    .dataframe tbody tr th {\n",
       "        vertical-align: top;\n",
       "    }\n",
       "\n",
       "    .dataframe thead th {\n",
       "        text-align: right;\n",
       "    }\n",
       "</style>\n",
       "<table border=\"1\" class=\"dataframe\">\n",
       "  <thead>\n",
       "    <tr style=\"text-align: right;\">\n",
       "      <th></th>\n",
       "      <th>cycle</th>\n",
       "      <th>branch</th>\n",
       "      <th>type</th>\n",
       "      <th>matchup</th>\n",
       "      <th>forecastdate</th>\n",
       "      <th>state</th>\n",
       "      <th>startdate</th>\n",
       "      <th>enddate</th>\n",
       "      <th>pollster</th>\n",
       "      <th>grade</th>\n",
       "      <th>...</th>\n",
       "      <th>adjpoll_clinton</th>\n",
       "      <th>adjpoll_trump</th>\n",
       "      <th>adjpoll_johnson</th>\n",
       "      <th>adjpoll_mcmullin</th>\n",
       "      <th>multiversions</th>\n",
       "      <th>url</th>\n",
       "      <th>poll_id</th>\n",
       "      <th>question_id</th>\n",
       "      <th>createddate</th>\n",
       "      <th>timestamp</th>\n",
       "    </tr>\n",
       "  </thead>\n",
       "  <tbody>\n",
       "    <tr>\n",
       "      <th>0</th>\n",
       "      <td>2016</td>\n",
       "      <td>President</td>\n",
       "      <td>polls-plus</td>\n",
       "      <td>Clinton vs. Trump vs. Johnson</td>\n",
       "      <td>11/8/16</td>\n",
       "      <td>U.S.</td>\n",
       "      <td>11/3/2016</td>\n",
       "      <td>11/6/2016</td>\n",
       "      <td>ABC News/Washington Post</td>\n",
       "      <td>A+</td>\n",
       "      <td>...</td>\n",
       "      <td>45.20163</td>\n",
       "      <td>41.72430</td>\n",
       "      <td>4.626221</td>\n",
       "      <td>NaN</td>\n",
       "      <td>NaN</td>\n",
       "      <td>https://www.washingtonpost.com/news/the-fix/wp...</td>\n",
       "      <td>48630</td>\n",
       "      <td>76192</td>\n",
       "      <td>11/7/16</td>\n",
       "      <td>09:35:33  8 Nov 2016</td>\n",
       "    </tr>\n",
       "    <tr>\n",
       "      <th>1</th>\n",
       "      <td>2016</td>\n",
       "      <td>President</td>\n",
       "      <td>polls-plus</td>\n",
       "      <td>Clinton vs. Trump vs. Johnson</td>\n",
       "      <td>11/8/16</td>\n",
       "      <td>U.S.</td>\n",
       "      <td>11/1/2016</td>\n",
       "      <td>11/7/2016</td>\n",
       "      <td>Google Consumer Surveys</td>\n",
       "      <td>B</td>\n",
       "      <td>...</td>\n",
       "      <td>43.34557</td>\n",
       "      <td>41.21439</td>\n",
       "      <td>5.175792</td>\n",
       "      <td>NaN</td>\n",
       "      <td>NaN</td>\n",
       "      <td>https://datastudio.google.com/u/0/#/org//repor...</td>\n",
       "      <td>48847</td>\n",
       "      <td>76443</td>\n",
       "      <td>11/7/16</td>\n",
       "      <td>09:35:33  8 Nov 2016</td>\n",
       "    </tr>\n",
       "    <tr>\n",
       "      <th>2</th>\n",
       "      <td>2016</td>\n",
       "      <td>President</td>\n",
       "      <td>polls-plus</td>\n",
       "      <td>Clinton vs. Trump vs. Johnson</td>\n",
       "      <td>11/8/16</td>\n",
       "      <td>U.S.</td>\n",
       "      <td>11/2/2016</td>\n",
       "      <td>11/6/2016</td>\n",
       "      <td>Ipsos</td>\n",
       "      <td>A-</td>\n",
       "      <td>...</td>\n",
       "      <td>42.02638</td>\n",
       "      <td>38.81620</td>\n",
       "      <td>6.844734</td>\n",
       "      <td>NaN</td>\n",
       "      <td>NaN</td>\n",
       "      <td>http://projects.fivethirtyeight.com/polls/2016...</td>\n",
       "      <td>48922</td>\n",
       "      <td>76636</td>\n",
       "      <td>11/8/16</td>\n",
       "      <td>09:35:33  8 Nov 2016</td>\n",
       "    </tr>\n",
       "    <tr>\n",
       "      <th>3</th>\n",
       "      <td>2016</td>\n",
       "      <td>President</td>\n",
       "      <td>polls-plus</td>\n",
       "      <td>Clinton vs. Trump vs. Johnson</td>\n",
       "      <td>11/8/16</td>\n",
       "      <td>U.S.</td>\n",
       "      <td>11/4/2016</td>\n",
       "      <td>11/7/2016</td>\n",
       "      <td>YouGov</td>\n",
       "      <td>B</td>\n",
       "      <td>...</td>\n",
       "      <td>45.65676</td>\n",
       "      <td>40.92004</td>\n",
       "      <td>6.069454</td>\n",
       "      <td>NaN</td>\n",
       "      <td>NaN</td>\n",
       "      <td>https://d25d2506sfb94s.cloudfront.net/cumulus_...</td>\n",
       "      <td>48687</td>\n",
       "      <td>76262</td>\n",
       "      <td>11/7/16</td>\n",
       "      <td>09:35:33  8 Nov 2016</td>\n",
       "    </tr>\n",
       "    <tr>\n",
       "      <th>4</th>\n",
       "      <td>2016</td>\n",
       "      <td>President</td>\n",
       "      <td>polls-plus</td>\n",
       "      <td>Clinton vs. Trump vs. Johnson</td>\n",
       "      <td>11/8/16</td>\n",
       "      <td>U.S.</td>\n",
       "      <td>11/3/2016</td>\n",
       "      <td>11/6/2016</td>\n",
       "      <td>Gravis Marketing</td>\n",
       "      <td>B-</td>\n",
       "      <td>...</td>\n",
       "      <td>46.84089</td>\n",
       "      <td>42.33184</td>\n",
       "      <td>3.726098</td>\n",
       "      <td>NaN</td>\n",
       "      <td>NaN</td>\n",
       "      <td>http://www.gravispolls.com/2016/11/final-natio...</td>\n",
       "      <td>48848</td>\n",
       "      <td>76444</td>\n",
       "      <td>11/7/16</td>\n",
       "      <td>09:35:33  8 Nov 2016</td>\n",
       "    </tr>\n",
       "  </tbody>\n",
       "</table>\n",
       "<p>5 rows × 27 columns</p>\n",
       "</div>"
      ],
      "text/plain": [
       "   cycle     branch        type                        matchup forecastdate  \\\n",
       "0   2016  President  polls-plus  Clinton vs. Trump vs. Johnson      11/8/16   \n",
       "1   2016  President  polls-plus  Clinton vs. Trump vs. Johnson      11/8/16   \n",
       "2   2016  President  polls-plus  Clinton vs. Trump vs. Johnson      11/8/16   \n",
       "3   2016  President  polls-plus  Clinton vs. Trump vs. Johnson      11/8/16   \n",
       "4   2016  President  polls-plus  Clinton vs. Trump vs. Johnson      11/8/16   \n",
       "\n",
       "  state  startdate    enddate                  pollster grade  \\\n",
       "0  U.S.  11/3/2016  11/6/2016  ABC News/Washington Post    A+   \n",
       "1  U.S.  11/1/2016  11/7/2016   Google Consumer Surveys     B   \n",
       "2  U.S.  11/2/2016  11/6/2016                     Ipsos    A-   \n",
       "3  U.S.  11/4/2016  11/7/2016                    YouGov     B   \n",
       "4  U.S.  11/3/2016  11/6/2016          Gravis Marketing    B-   \n",
       "\n",
       "           ...           adjpoll_clinton adjpoll_trump  adjpoll_johnson  \\\n",
       "0          ...                  45.20163      41.72430         4.626221   \n",
       "1          ...                  43.34557      41.21439         5.175792   \n",
       "2          ...                  42.02638      38.81620         6.844734   \n",
       "3          ...                  45.65676      40.92004         6.069454   \n",
       "4          ...                  46.84089      42.33184         3.726098   \n",
       "\n",
       "   adjpoll_mcmullin  multiversions  \\\n",
       "0               NaN            NaN   \n",
       "1               NaN            NaN   \n",
       "2               NaN            NaN   \n",
       "3               NaN            NaN   \n",
       "4               NaN            NaN   \n",
       "\n",
       "                                                 url  poll_id  question_id  \\\n",
       "0  https://www.washingtonpost.com/news/the-fix/wp...    48630        76192   \n",
       "1  https://datastudio.google.com/u/0/#/org//repor...    48847        76443   \n",
       "2  http://projects.fivethirtyeight.com/polls/2016...    48922        76636   \n",
       "3  https://d25d2506sfb94s.cloudfront.net/cumulus_...    48687        76262   \n",
       "4  http://www.gravispolls.com/2016/11/final-natio...    48848        76444   \n",
       "\n",
       "   createddate             timestamp  \n",
       "0      11/7/16  09:35:33  8 Nov 2016  \n",
       "1      11/7/16  09:35:33  8 Nov 2016  \n",
       "2      11/8/16  09:35:33  8 Nov 2016  \n",
       "3      11/7/16  09:35:33  8 Nov 2016  \n",
       "4      11/7/16  09:35:33  8 Nov 2016  \n",
       "\n",
       "[5 rows x 27 columns]"
      ]
     },
     "execution_count": 7,
     "metadata": {},
     "output_type": "execute_result"
    }
   ],
   "source": [
    "data.head()"
   ]
  },
  {
   "cell_type": "markdown",
   "metadata": {},
   "source": [
    "### To be implemented: dicussion"
   ]
  },
  {
   "cell_type": "code",
   "execution_count": null,
   "metadata": {},
   "outputs": [],
   "source": []
  }
 ],
 "metadata": {
  "kernelspec": {
   "display_name": "Python 3",
   "language": "python",
   "name": "python3"
  },
  "language_info": {
   "codemirror_mode": {
    "name": "ipython",
    "version": 3
   },
   "file_extension": ".py",
   "mimetype": "text/x-python",
   "name": "python",
   "nbconvert_exporter": "python",
   "pygments_lexer": "ipython3",
   "version": "3.7.1"
  }
 },
 "nbformat": 4,
 "nbformat_minor": 2
}
