{
 "cells": [
  {
   "cell_type": "markdown",
   "metadata": {},
   "source": [
    "<img src=\"http://www.burntx.com/wp-content/uploads/2018/01/voting-09-768x384.jpg\" align=\"center\">\n",
    "\n",
    "# <center><font color = #2E5266>Systematic and Statistical Uncertainty </font></center>\n",
    "**<center>The 2016 US Presidential Election and Uncertainty: How did the pollsters get it wrong?</center>**\n",
    "***\n",
    "Since 2008, statistician Nate Silver's website, **<font color=#2E5266>fivethirtyeight.com</font>** has garnered praise for on a wide variety of topics in current politics and political news. Both the website and founder are most famous for correctly predicting election results -- most significantly the 2012 election in which fivethirtyeight (538) correctly predicted the US election outcome for all 50 sates and the District of Columbia. The same statistical model predicted Hillary Clinton as the winner of the 2016 US Presidential election, however we all know this to not be the reality. So what happened exactly? This notebook will explore the following questions:\n",
    "\n",
    "- How did FiveThirtyEight make its predictions?\n",
    "- Was the FiveThirtyEight prediction incorrect due to statistical error, systematic error, or both?\n",
    "- Should we say that FiveThirtyEight and other major election analysts \"failed\"?\n",
    "\n",
    "Before we begin, recall the definitions of **<font color = #6E8898>systematic</font>** and **<font color = #6E8898>statistical error</font>**:\n",
    "\n",
    ">**<font color = #6E8898>Systematic error</font>** is is consistent, repeatable error associated with faulty equipment or a flawed experiment design while **<font color = #6E8898>statistical error</font>** is the unknown difference between a calculated value and the true value.\n",
    "\n",
    "In the context of the 2016 general election, what would systematic vs statistical errors look like?"
   ]
  },
  {
   "cell_type": "code",
   "execution_count": 2,
   "metadata": {},
   "outputs": [],
   "source": [
    "# Hex codes for color palette\n",
    "# dark blue 2E5266\n",
    "# lighter blue 6E8898\n",
    "# blue gray 9FB1BC\n",
    "# gray pink D3D0CB\n",
    "# yellow accent E2C044"
   ]
  },
  {
   "cell_type": "markdown",
   "metadata": {},
   "source": [
    "<font color=#6E8898>**Comment**</font>: Possibility of issue using widgets. Had to install certain dependencies and packages in order to be able to view the widgets on JupyterLab; might not be the case with datahub. Will have to check with Keeley!"
   ]
  },
  {
   "cell_type": "markdown",
   "metadata": {},
   "source": [
    "**Question 1**&nbsp;&nbsp;&nbsp;&nbsp;Where could there be sources of statistical error?"
   ]
  },
  {
   "cell_type": "code",
   "execution_count": 3,
   "metadata": {},
   "outputs": [],
   "source": [
    "# Replace this text box with your answer"
   ]
  },
  {
   "cell_type": "markdown",
   "metadata": {},
   "source": [
    "**Question 2**&nbsp;&nbsp;&nbsp;&nbsp;What about systematic error?"
   ]
  },
  {
   "cell_type": "code",
   "execution_count": 4,
   "metadata": {},
   "outputs": [],
   "source": [
    "# Replace this text box with your answer"
   ]
  },
  {
   "cell_type": "markdown",
   "metadata": {},
   "source": [
    "### <center><font color = #2E5266>Overview of Prediction Failure</font></center>\n",
    "<img src=\"https://localtvktvi.files.wordpress.com/2016/12/promo305512065.jpg?quality=85&strip=all\" align=\"center\"/>\n",
    "\n",
    "The date is November 9th, 2016. The country is in a flurry as -- seemingly against all the data -- Hillary Clinton loses the 2016 general election. Newsweek [prematurely sends out copies](http://nypost.com/2016/11/09/national-recall-after-newsweek-misfires-with-clinton-cover/) of a magazine depicting Clinton as the country's new Madam President. A multitude of newssites print stories with headlines such as [How Data Failed Us in Calling an Election](https://www.nytimes.com/2016/11/10/technology/the-data-said-clinton-would-win-why-you-shouldnt-have-believed-it.html) and [Why 2016 Election Polls Missed Their Mark](https://www.pewresearch.org/fact-tank/2016/11/09/why-2016-election-polls-missed-their-mark/). In the latter article, Pew Research had the following to say:\n",
    "> The results of Tuesday’s presidential election came as a surprise to nearly everyone who had been following the national and state election polling, which consistently projected Hillary Clinton as defeating Donald Trump. Relying largely on opinion polls, election forecasters put Clinton’s chance of winning at anywhere from 70% to as high as 99%"
   ]
  },
  {
   "cell_type": "markdown",
   "metadata": {},
   "source": [
    "<center>When typing \"2016 election predictions\" into Google's search bar, the 4th and 6th autocomplete entries are \"fail\" and \"wrong\" respectively</center>\n",
    "<img src=\"./assets/google.png\" align=\"center\"/>"
   ]
  },
  {
   "cell_type": "markdown",
   "metadata": {},
   "source": [
    "A New York Times Upshot article <a href=\"https://www.nytimes.com/interactive/2016/upshot/presidential-polls-forecast.html\">provided a roundup of election predictions</a> by news organization. They all predicted a Clinton win, but in varying degrees. Let's take a look!\n",
    "\n",
    "<img src=\"./assets/hillary_polls.png\" align=\"center\"/>\n",
    "\n",
    "**TODO** Possible discussion here?\n",
    "\n",
    "Before we begin, we will be loading libraries to help us process and present tables of information. Don't be intimidated by the code in the cell below, you can simply run it by pressing `shift` + `enter`."
   ]
  },
  {
   "cell_type": "code",
   "execution_count": 69,
   "metadata": {},
   "outputs": [],
   "source": [
    "import pandas as pd\n",
    "import numpy as np\n",
    "import matplotlib.pyplot as plt\n",
    "from scipy import stats\n",
    "import ipywidgets as widgets"
   ]
  },
  {
   "cell_type": "markdown",
   "metadata": {},
   "source": [
    "**TODO** What would a good segue here be?\n",
    "\n",
    "As mentioned before, **fivethirtyeight** has long been esteemed for their uncannily accurate predictions. Their algorithms remain a \"secret sauce\" -- known only to Nate Silver, but what we can do is try and replicate as best we can the polling method employed and work onwards from there. Before we do so, however, we must consider the polling methodology. How can we be so sure that the polling method is sound?\n",
    "\n",
    "A NYT article by the title *<a href=\"https://www.nytimes.com/2019/07/02/upshot/online-polls-analyzing-reliability.html\">No One Picks Up the Phone, but Which Online Polls Are the Answer?</a>* describes this dilemma as follows:\n",
    ">A decade ago, it was fairly easy to tell the difference between a good poll and a bad poll. Most pollsters assumed that high-quality survey research required a high-quality survey design: a so-called probability sample, meaning that everyone in the public had an equal chance of being included in a poll. A poll was either a good probability sample (from random dialing of telephone numbers, for example) or it was not (like an online poll).\n",
    "\n",
    "Nowadays most pollsters rely on statistical adjustments known as \"weighting\" to correct their initial samples. Such is the case in the small case study below. We will be taking a look at a data set of voter demographics from the 2012 election and taking a deeper look into how and what kinds of statistical and systematic errors can affect interpretation."
   ]
  },
  {
   "cell_type": "code",
   "execution_count": 134,
   "metadata": {},
   "outputs": [
    {
     "data": {
      "text/html": [
       "<div>\n",
       "<style scoped>\n",
       "    .dataframe tbody tr th:only-of-type {\n",
       "        vertical-align: middle;\n",
       "    }\n",
       "\n",
       "    .dataframe tbody tr th {\n",
       "        vertical-align: top;\n",
       "    }\n",
       "\n",
       "    .dataframe thead th {\n",
       "        text-align: right;\n",
       "    }\n",
       "</style>\n",
       "<table border=\"1\" class=\"dataframe\">\n",
       "  <thead>\n",
       "    <tr style=\"text-align: right;\">\n",
       "      <th></th>\n",
       "      <th>state</th>\n",
       "      <th>community</th>\n",
       "      <th>region</th>\n",
       "      <th>registered</th>\n",
       "      <th>oftvote</th>\n",
       "      <th>vote</th>\n",
       "      <th>sex</th>\n",
       "      <th>age</th>\n",
       "      <th>educ</th>\n",
       "      <th>racethn</th>\n",
       "      <th>marital</th>\n",
       "      <th>parent</th>\n",
       "      <th>income</th>\n",
       "      <th>party</th>\n",
       "    </tr>\n",
       "  </thead>\n",
       "  <tbody>\n",
       "    <tr>\n",
       "      <th>0</th>\n",
       "      <td>23</td>\n",
       "      <td>U</td>\n",
       "      <td>1</td>\n",
       "      <td>1</td>\n",
       "      <td>2</td>\n",
       "      <td>1</td>\n",
       "      <td>2</td>\n",
       "      <td>52</td>\n",
       "      <td>4</td>\n",
       "      <td>1</td>\n",
       "      <td>3</td>\n",
       "      <td>1</td>\n",
       "      <td>3</td>\n",
       "      <td>2</td>\n",
       "    </tr>\n",
       "    <tr>\n",
       "      <th>1</th>\n",
       "      <td>12</td>\n",
       "      <td>S</td>\n",
       "      <td>3</td>\n",
       "      <td>1</td>\n",
       "      <td>1</td>\n",
       "      <td>1</td>\n",
       "      <td>2</td>\n",
       "      <td>68</td>\n",
       "      <td>7</td>\n",
       "      <td>1</td>\n",
       "      <td>2</td>\n",
       "      <td>2</td>\n",
       "      <td>7</td>\n",
       "      <td>3</td>\n",
       "    </tr>\n",
       "    <tr>\n",
       "      <th>2</th>\n",
       "      <td>51</td>\n",
       "      <td>U</td>\n",
       "      <td>3</td>\n",
       "      <td>1</td>\n",
       "      <td>1</td>\n",
       "      <td>1</td>\n",
       "      <td>2</td>\n",
       "      <td>43</td>\n",
       "      <td>5</td>\n",
       "      <td>2</td>\n",
       "      <td>1</td>\n",
       "      <td>2</td>\n",
       "      <td>6</td>\n",
       "      <td>2</td>\n",
       "    </tr>\n",
       "    <tr>\n",
       "      <th>3</th>\n",
       "      <td>45</td>\n",
       "      <td>U</td>\n",
       "      <td>3</td>\n",
       "      <td>1</td>\n",
       "      <td>1</td>\n",
       "      <td>2</td>\n",
       "      <td>1</td>\n",
       "      <td>39</td>\n",
       "      <td>4</td>\n",
       "      <td>1</td>\n",
       "      <td>1</td>\n",
       "      <td>2</td>\n",
       "      <td>9</td>\n",
       "      <td>1</td>\n",
       "    </tr>\n",
       "    <tr>\n",
       "      <th>4</th>\n",
       "      <td>18</td>\n",
       "      <td>S</td>\n",
       "      <td>2</td>\n",
       "      <td>1</td>\n",
       "      <td>1</td>\n",
       "      <td>1</td>\n",
       "      <td>2</td>\n",
       "      <td>78</td>\n",
       "      <td>8</td>\n",
       "      <td>1</td>\n",
       "      <td>1</td>\n",
       "      <td>2</td>\n",
       "      <td>6</td>\n",
       "      <td>2</td>\n",
       "    </tr>\n",
       "  </tbody>\n",
       "</table>\n",
       "</div>"
      ],
      "text/plain": [
       "   state community  region  registered  oftvote  vote  sex  age  educ  \\\n",
       "0     23         U       1           1        2     1    2   52     4   \n",
       "1     12         S       3           1        1     1    2   68     7   \n",
       "2     51         U       3           1        1     1    2   43     5   \n",
       "3     45         U       3           1        1     2    1   39     4   \n",
       "4     18         S       2           1        1     1    2   78     8   \n",
       "\n",
       "   racethn marital parent income  party  \n",
       "0        1       3      1      3      2  \n",
       "1        1       2      2      7      3  \n",
       "2        2       1      2      6      2  \n",
       "3        1       1      2      9      1  \n",
       "4        1       1      2      6      2  "
      ]
     },
     "execution_count": 134,
     "metadata": {},
     "output_type": "execute_result"
    }
   ],
   "source": [
    "presidential_polls = pd.read_csv('./data/2012_election_weekend.csv').drop(['psraid'],axis=1)\n",
    "presidential_polls['educ']=pd.to_numeric(presidential_polls.educ)\n",
    "presidential_polls = presidential_polls[presidential_polls['oftvote'] != ' ']\n",
    "presidential_polls['oftvote']=pd.to_numeric(presidential_polls.oftvote)\n",
    "presidential_polls.head()"
   ]
  },
  {
   "cell_type": "markdown",
   "metadata": {},
   "source": [
    "After running the cell above, you should be looking at the first five entries of a <a href=\"https://www.people-press.org/dataset/november-2012-election-weekend-survey/\"> 2012 Election Weekend poll</a> taken by the Pew Research Center. Below we have provided a key (or \"dictionary\") with what each column represents as well as all the possible values.\n",
    "\n",
    "| Column | Description | Possible Values |\n",
    "|--------|-----------------|-----------------|\n",
    "| state  | State FIPS code | |\n",
    "| community | Community type | R = rural<br>S = suburban<br>U = urban|\n",
    "| region | US Census region | 1 = Northeast<br>2 = Midwest<br>3 = South<br>4 = West |\n",
    "| registered | Registered to vote | 1 = Registered/Plan To/North Dakota<br>2 = Not Registered |\n",
    "| oftvote | How often do you vote? | 1 = always<br>2 = Nearly Always<br>3 = Part of the Time<br>4 = Seldom<br>5 = Never |\n",
    "| vote | Presidential choice | 1 = Obama/lean Obama<br>2 = Romney/lean Romney<br>3 = Other<br>9 = Refused/Don't Know |\n",
    "| sex | Sex | 1 = male<br>2 = female |\n",
    "| age | Age | # = Age<br>97 = 97 or above<br>99 = Refused/Don't Know |\n",
    "| educ | Level of Education | 1 = Less than HS<br>2 = Some HS<br>3 = HS grad<br>4 = Some college<br>5 = Two-Year degree<br>6 = Four-Year degree<br>7 = Some post grad<br>8 = Post-grad degree<br>9 = Refused/Don't Know |\n",
    "| racethn | Race/Ethnicity | 1 = White, non-Hisp<br>2 = Black, non-hisp<br>3 = Hispanic<br>4 = Other<br>9 = Refused/Don't Know |\n",
    "| marital | Marital Status | 1 = Married<br>2 = Living w/ Partner<br>3 = Divorced<br>4 = Separated<br>5 = Widowed<br>6 = Never been married<br>9 = Refused/Don't Know |\n",
    "| parent | Parent or guardian | 1 = Y<br>2 = N<br>9 = Refused |\n",
    "| income | Annual Income | 1 = <10k<br>2 = 10-20k<br>3 = 20-30k<br>4 = 30-40k<br>5 = 40-50k<br>6 = 50-75k<br>7 = 75-100k<br>8 = 100-150k<br>9 = >150k<br>10 = Refused/Don't Know |\n",
    "| party | Party Preference | 1 = Republican<br>2 = Democrat<br>3 = Independent<br>4 = No preference<br>5 = Other party<br>9 = Refused/Don't Know |\n",
    "\n",
    "Let's take a look at who we expect to win the 2012 presidential electon given our dataset's 'oftvote' column:"
   ]
  },
  {
   "cell_type": "code",
   "execution_count": 19,
   "metadata": {},
   "outputs": [
    {
     "data": {
      "text/plain": [
       "1    51.323722\n",
       "2    39.685452\n",
       "9     6.238532\n",
       "3     2.752294\n",
       "Name: vote, dtype: float64"
      ]
     },
     "execution_count": 19,
     "metadata": {},
     "output_type": "execute_result"
    }
   ],
   "source": [
    "# Just run this cell!\n",
    "def poll_results(df):\n",
    "    p = df['vote'].value_counts(normalize=True) * 100\n",
    "    return p\n",
    "poll_results(presidential_polls)"
   ]
  },
  {
   "cell_type": "markdown",
   "metadata": {},
   "source": [
    "Given our key above, we notice that the majority of voters seem to be leaning Democratic, with a vote preference for Obama. In reality, the 2012 election was indeed won by President Obama 51.1% to Romney's 47.2%! Coincidentally, the percentage seen here is very close to what is accepted as the 2012 election's popular vote."
   ]
  },
  {
   "cell_type": "markdown",
   "metadata": {},
   "source": [
    "***\n",
    "\n",
    "**TODO**: Should I go over bootstrapping? Also, how familiar are students with the terms convenience sampling, etc.\n",
    "\n",
    "Awesome! Now that we have our dataset ready for action, let's simulate taking samples! Our dataset contains only 3,815 entries. This may seem large but considering the population of the United States, it is a very very small sample of our total population. This is why taking a sample *representative* of the general population is so important. A sampling method is called **biased** if it systematically favors some outcomes over others. Bias can be intentional, but often it is not.\n",
    "\n",
    "Let us consider, however, a situation in which a pollster collects data from everyone on a University campus. How might that skew what we expect from election results? Use the widget below to find out! Clicking a checkbox will alter the way a sample is taken from our \"population\"."
   ]
  },
  {
   "cell_type": "code",
   "execution_count": 167,
   "metadata": {},
   "outputs": [
    {
     "data": {
      "text/plain": [
       "1    47.739362\n",
       "2    44.680851\n",
       "3     4.920213\n",
       "9     2.659574\n",
       "Name: vote, dtype: float64"
      ]
     },
     "execution_count": 167,
     "metadata": {},
     "output_type": "execute_result"
    }
   ],
   "source": [
    "# Functions that simulate different methodologies\n",
    "# Include descriptions\n",
    "def convenience_parents():\n",
    "    p = presidential_polls[presidential_polls['parent'] == '1']\n",
    "    return poll_results(p)\n",
    "def convenience_rural():\n",
    "    p = presidential_polls[presidential_polls['community'] == 'R']\n",
    "    return poll_results(p)\n",
    "def convenience_higheredu():\n",
    "    p = presidential_polls[presidential_polls['educ'] > 6]\n",
    "    return poll_results(p)\n",
    "def convenience_ca():\n",
    "    p = presidential_polls[presidential_polls['state'] == 6]\n",
    "    return poll_results(p)\n",
    "def convenience_al():\n",
    "    p = presidential_polls[presidential_polls['state'] == 1]\n",
    "    return poll_results(p)\n",
    "def frequent_voters():\n",
    "    p = presidential_polls[presidential_polls['oftvote'] < 3]\n",
    "    return poll_results(p)\n",
    "def registered_ind():\n",
    "    p = presidential_polls[presidential_polls['party'] == 3]\n",
    "    return poll_results(p)\n",
    "def srs():\n",
    "    p = presidential_polls.sample(n=200)\n",
    "    return poll_results(p)\n",
    "\n",
    "convenience_parents()"
   ]
  },
  {
   "cell_type": "code",
   "execution_count": 168,
   "metadata": {},
   "outputs": [
    {
     "data": {
      "application/vnd.jupyter.widget-view+json": {
       "model_id": "fc94694a233e47108ae89843eba38e7e",
       "version_major": 2,
       "version_minor": 0
      },
      "text/plain": [
       "HBox(children=(VBox(children=(Button(description='condition1', layout=Layout(width='100%'), style=ButtonStyle(…"
      ]
     },
     "metadata": {},
     "output_type": "display_data"
    }
   ],
   "source": [
    "# Creating widgets\n",
    "# Convenience\n",
    "# Change descriptions on buttons!\n",
    "descriptions = ['condition1', 'condition2', 'condition3', 'condition4', 'condition5', 'condition6']\n",
    "items = [widgets.Button(description=desc, layout=widgets.Layout(width='100%')) for desc in descriptions]\n",
    "for i in range(0, len(descriptions)):\n",
    "    items[i].style.button_color = '#9FB1BC'\n",
    "left_box = widgets.VBox([items[0], items[1], items[2]])\n",
    "right_box = widgets.VBox([items[3], items[4], items[5]])\n",
    "convenience = widgets.HBox([left_box, right_box])\n",
    "\n",
    "# Linking checkbox and action\n",
    "def on_button_click(b):\n",
    "    convenience_parents()\n",
    "out = widgets.Output()\n",
    "items[0].on_click(on_button_click)\n",
    "convenience"
   ]
  },
  {
   "cell_type": "markdown",
   "metadata": {},
   "source": [
    "**TODO**: Mess with widget formatting to allow for titles for the different categories. Anything to add? (Ask Sarah and Emlen)\n",
    "\n",
    "Interesting! As you might have noticed, the sampling methods can alter the predicted election results by a little to a lot! "
   ]
  },
  {
   "cell_type": "markdown",
   "metadata": {},
   "source": [
    "### To be implemented here: Analysts' methodology\n",
    "    \n",
    "use FiveThirtyEight as example\n",
    "\n",
    "1. import data\n",
    "2. reproduce FiveThirtyEight's model \n",
    "3. show step by step how the model works"
   ]
  },
  {
   "cell_type": "markdown",
   "metadata": {},
   "source": [
    "### To be implemented: dicussion"
   ]
  },
  {
   "cell_type": "code",
   "execution_count": null,
   "metadata": {},
   "outputs": [],
   "source": []
  }
 ],
 "metadata": {
  "kernelspec": {
   "display_name": "Python 3",
   "language": "python",
   "name": "python3"
  },
  "language_info": {
   "codemirror_mode": {
    "name": "ipython",
    "version": 3
   },
   "file_extension": ".py",
   "mimetype": "text/x-python",
   "name": "python",
   "nbconvert_exporter": "python",
   "pygments_lexer": "ipython3",
   "version": "3.7.3"
  }
 },
 "nbformat": 4,
 "nbformat_minor": 2
}
