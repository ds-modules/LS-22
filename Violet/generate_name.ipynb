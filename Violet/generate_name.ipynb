{
 "cells": [
  {
   "cell_type": "code",
   "execution_count": 1,
   "metadata": {},
   "outputs": [],
   "source": [
    "input = 'vote_analysis_demo.csv'"
   ]
  },
  {
   "cell_type": "code",
   "execution_count": 2,
   "metadata": {},
   "outputs": [
    {
     "name": "stdout",
     "output_type": "stream",
     "text": [
      "Collecting names\n",
      "\u001b[?25l  Downloading https://files.pythonhosted.org/packages/44/4e/f9cb7ef2df0250f4ba3334fbdabaa94f9c88097089763d8e85ada8092f84/names-0.3.0.tar.gz (789kB)\n",
      "\u001b[K     |████████████████████████████████| 798kB 2.4MB/s eta 0:00:01\n",
      "\u001b[?25hBuilding wheels for collected packages: names\n",
      "  Building wheel for names (setup.py) ... \u001b[?25ldone\n",
      "\u001b[?25h  Stored in directory: /Users/violetyao/Library/Caches/pip/wheels/f9/a5/e1/be3e0aaa6fa285575078fa2aafd9959b45bdbc8de8a6803aeb\n",
      "Successfully built names\n",
      "Installing collected packages: names\n",
      "Successfully installed names-0.3.0\n",
      "\u001b[33mWARNING: You are using pip version 19.1.1, however version 19.2.1 is available.\n",
      "You should consider upgrading via the 'pip install --upgrade pip' command.\u001b[0m\n"
     ]
    }
   ],
   "source": [
    "!pip install names"
   ]
  },
  {
   "cell_type": "code",
   "execution_count": 3,
   "metadata": {},
   "outputs": [],
   "source": [
    "import pandas as pd"
   ]
  },
  {
   "cell_type": "code",
   "execution_count": 4,
   "metadata": {},
   "outputs": [],
   "source": [
    "df = pd.read_csv(input)"
   ]
  },
  {
   "cell_type": "code",
   "execution_count": 5,
   "metadata": {},
   "outputs": [
    {
     "data": {
      "text/html": [
       "<div>\n",
       "<style scoped>\n",
       "    .dataframe tbody tr th:only-of-type {\n",
       "        vertical-align: middle;\n",
       "    }\n",
       "\n",
       "    .dataframe tbody tr th {\n",
       "        vertical-align: top;\n",
       "    }\n",
       "\n",
       "    .dataframe thead th {\n",
       "        text-align: right;\n",
       "    }\n",
       "</style>\n",
       "<table border=\"1\" class=\"dataframe\">\n",
       "  <thead>\n",
       "    <tr style=\"text-align: right;\">\n",
       "      <th></th>\n",
       "      <th>Voter Name</th>\n",
       "      <th>Vote</th>\n",
       "      <th>Male</th>\n",
       "      <th>18-49</th>\n",
       "      <th>50</th>\n",
       "      <th>White</th>\n",
       "      <th>Black</th>\n",
       "      <th>Hispanic</th>\n",
       "      <th>College Grad</th>\n",
       "      <th>$75k +</th>\n",
       "      <th>$30-75k</th>\n",
       "      <th>Less Than $30k</th>\n",
       "      <th>Registered</th>\n",
       "    </tr>\n",
       "  </thead>\n",
       "  <tbody>\n",
       "    <tr>\n",
       "      <th>0</th>\n",
       "      <td>NaN</td>\n",
       "      <td>1</td>\n",
       "      <td>1</td>\n",
       "      <td>1</td>\n",
       "      <td>0</td>\n",
       "      <td>1</td>\n",
       "      <td>0</td>\n",
       "      <td>0</td>\n",
       "      <td>1</td>\n",
       "      <td>0</td>\n",
       "      <td>1</td>\n",
       "      <td>0</td>\n",
       "      <td>NaN</td>\n",
       "    </tr>\n",
       "    <tr>\n",
       "      <th>1</th>\n",
       "      <td>NaN</td>\n",
       "      <td>1</td>\n",
       "      <td>1</td>\n",
       "      <td>1</td>\n",
       "      <td>0</td>\n",
       "      <td>1</td>\n",
       "      <td>0</td>\n",
       "      <td>0</td>\n",
       "      <td>1</td>\n",
       "      <td>0</td>\n",
       "      <td>1</td>\n",
       "      <td>0</td>\n",
       "      <td>NaN</td>\n",
       "    </tr>\n",
       "    <tr>\n",
       "      <th>2</th>\n",
       "      <td>NaN</td>\n",
       "      <td>1</td>\n",
       "      <td>1</td>\n",
       "      <td>1</td>\n",
       "      <td>0</td>\n",
       "      <td>1</td>\n",
       "      <td>0</td>\n",
       "      <td>0</td>\n",
       "      <td>1</td>\n",
       "      <td>1</td>\n",
       "      <td>0</td>\n",
       "      <td>0</td>\n",
       "      <td>NaN</td>\n",
       "    </tr>\n",
       "    <tr>\n",
       "      <th>3</th>\n",
       "      <td>NaN</td>\n",
       "      <td>1</td>\n",
       "      <td>1</td>\n",
       "      <td>1</td>\n",
       "      <td>0</td>\n",
       "      <td>1</td>\n",
       "      <td>0</td>\n",
       "      <td>0</td>\n",
       "      <td>0</td>\n",
       "      <td>1</td>\n",
       "      <td>0</td>\n",
       "      <td>0</td>\n",
       "      <td>NaN</td>\n",
       "    </tr>\n",
       "    <tr>\n",
       "      <th>4</th>\n",
       "      <td>NaN</td>\n",
       "      <td>1</td>\n",
       "      <td>1</td>\n",
       "      <td>1</td>\n",
       "      <td>0</td>\n",
       "      <td>1</td>\n",
       "      <td>0</td>\n",
       "      <td>0</td>\n",
       "      <td>0</td>\n",
       "      <td>1</td>\n",
       "      <td>0</td>\n",
       "      <td>0</td>\n",
       "      <td>NaN</td>\n",
       "    </tr>\n",
       "  </tbody>\n",
       "</table>\n",
       "</div>"
      ],
      "text/plain": [
       "   Voter Name  Vote  Male  18-49  50  White  Black  Hispanic  College Grad  \\\n",
       "0         NaN     1     1      1   0      1      0         0             1   \n",
       "1         NaN     1     1      1   0      1      0         0             1   \n",
       "2         NaN     1     1      1   0      1      0         0             1   \n",
       "3         NaN     1     1      1   0      1      0         0             0   \n",
       "4         NaN     1     1      1   0      1      0         0             0   \n",
       "\n",
       "   $75k +  $30-75k  Less Than $30k  Registered  \n",
       "0       0        1               0         NaN  \n",
       "1       0        1               0         NaN  \n",
       "2       1        0               0         NaN  \n",
       "3       1        0               0         NaN  \n",
       "4       1        0               0         NaN  "
      ]
     },
     "execution_count": 5,
     "metadata": {},
     "output_type": "execute_result"
    }
   ],
   "source": [
    "df.head()"
   ]
  },
  {
   "cell_type": "code",
   "execution_count": 37,
   "metadata": {},
   "outputs": [
    {
     "ename": "IndexError",
     "evalue": "single positional indexer is out-of-bounds",
     "output_type": "error",
     "traceback": [
      "\u001b[0;31m---------------------------------------------------------------------------\u001b[0m",
      "\u001b[0;31mIndexError\u001b[0m                                Traceback (most recent call last)",
      "\u001b[0;32m<ipython-input-37-aebac14adc6b>\u001b[0m in \u001b[0;36m<module>\u001b[0;34m\u001b[0m\n\u001b[1;32m      1\u001b[0m \u001b[0;32mfor\u001b[0m \u001b[0mi\u001b[0m \u001b[0;32min\u001b[0m \u001b[0mrange\u001b[0m\u001b[0;34m(\u001b[0m\u001b[0;36m1\u001b[0m\u001b[0;34m,\u001b[0m \u001b[0mlen\u001b[0m\u001b[0;34m(\u001b[0m\u001b[0mlines\u001b[0m\u001b[0;34m)\u001b[0m\u001b[0;34m)\u001b[0m\u001b[0;34m:\u001b[0m\u001b[0;34m\u001b[0m\u001b[0;34m\u001b[0m\u001b[0m\n\u001b[0;32m----> 2\u001b[0;31m     \u001b[0mdf\u001b[0m\u001b[0;34m.\u001b[0m\u001b[0miloc\u001b[0m\u001b[0;34m[\u001b[0m\u001b[0mi\u001b[0m\u001b[0;34m,\u001b[0m\u001b[0;36m0\u001b[0m\u001b[0;34m]\u001b[0m \u001b[0;34m=\u001b[0m \u001b[0mnames\u001b[0m\u001b[0;34m.\u001b[0m\u001b[0mget_full_name\u001b[0m\u001b[0;34m(\u001b[0m\u001b[0;34m)\u001b[0m\u001b[0;34m\u001b[0m\u001b[0;34m\u001b[0m\u001b[0m\n\u001b[0m",
      "\u001b[0;32m~/anaconda3/lib/python3.7/site-packages/pandas/core/indexing.py\u001b[0m in \u001b[0;36m__setitem__\u001b[0;34m(self, key, value)\u001b[0m\n\u001b[1;32m    186\u001b[0m         \u001b[0;32melse\u001b[0m\u001b[0;34m:\u001b[0m\u001b[0;34m\u001b[0m\u001b[0;34m\u001b[0m\u001b[0m\n\u001b[1;32m    187\u001b[0m             \u001b[0mkey\u001b[0m \u001b[0;34m=\u001b[0m \u001b[0mcom\u001b[0m\u001b[0;34m.\u001b[0m\u001b[0m_apply_if_callable\u001b[0m\u001b[0;34m(\u001b[0m\u001b[0mkey\u001b[0m\u001b[0;34m,\u001b[0m \u001b[0mself\u001b[0m\u001b[0;34m.\u001b[0m\u001b[0mobj\u001b[0m\u001b[0;34m)\u001b[0m\u001b[0;34m\u001b[0m\u001b[0;34m\u001b[0m\u001b[0m\n\u001b[0;32m--> 188\u001b[0;31m         \u001b[0mindexer\u001b[0m \u001b[0;34m=\u001b[0m \u001b[0mself\u001b[0m\u001b[0;34m.\u001b[0m\u001b[0m_get_setitem_indexer\u001b[0m\u001b[0;34m(\u001b[0m\u001b[0mkey\u001b[0m\u001b[0;34m)\u001b[0m\u001b[0;34m\u001b[0m\u001b[0;34m\u001b[0m\u001b[0m\n\u001b[0m\u001b[1;32m    189\u001b[0m         \u001b[0mself\u001b[0m\u001b[0;34m.\u001b[0m\u001b[0m_setitem_with_indexer\u001b[0m\u001b[0;34m(\u001b[0m\u001b[0mindexer\u001b[0m\u001b[0;34m,\u001b[0m \u001b[0mvalue\u001b[0m\u001b[0;34m)\u001b[0m\u001b[0;34m\u001b[0m\u001b[0;34m\u001b[0m\u001b[0m\n\u001b[1;32m    190\u001b[0m \u001b[0;34m\u001b[0m\u001b[0m\n",
      "\u001b[0;32m~/anaconda3/lib/python3.7/site-packages/pandas/core/indexing.py\u001b[0m in \u001b[0;36m_get_setitem_indexer\u001b[0;34m(self, key)\u001b[0m\n\u001b[1;32m    164\u001b[0m         \u001b[0;32mif\u001b[0m \u001b[0misinstance\u001b[0m\u001b[0;34m(\u001b[0m\u001b[0mkey\u001b[0m\u001b[0;34m,\u001b[0m \u001b[0mtuple\u001b[0m\u001b[0;34m)\u001b[0m\u001b[0;34m:\u001b[0m\u001b[0;34m\u001b[0m\u001b[0;34m\u001b[0m\u001b[0m\n\u001b[1;32m    165\u001b[0m             \u001b[0;32mtry\u001b[0m\u001b[0;34m:\u001b[0m\u001b[0;34m\u001b[0m\u001b[0;34m\u001b[0m\u001b[0m\n\u001b[0;32m--> 166\u001b[0;31m                 \u001b[0;32mreturn\u001b[0m \u001b[0mself\u001b[0m\u001b[0;34m.\u001b[0m\u001b[0m_convert_tuple\u001b[0m\u001b[0;34m(\u001b[0m\u001b[0mkey\u001b[0m\u001b[0;34m,\u001b[0m \u001b[0mis_setter\u001b[0m\u001b[0;34m=\u001b[0m\u001b[0;32mTrue\u001b[0m\u001b[0;34m)\u001b[0m\u001b[0;34m\u001b[0m\u001b[0;34m\u001b[0m\u001b[0m\n\u001b[0m\u001b[1;32m    167\u001b[0m             \u001b[0;32mexcept\u001b[0m \u001b[0mIndexingError\u001b[0m\u001b[0;34m:\u001b[0m\u001b[0;34m\u001b[0m\u001b[0;34m\u001b[0m\u001b[0m\n\u001b[1;32m    168\u001b[0m                 \u001b[0;32mpass\u001b[0m\u001b[0;34m\u001b[0m\u001b[0;34m\u001b[0m\u001b[0m\n",
      "\u001b[0;32m~/anaconda3/lib/python3.7/site-packages/pandas/core/indexing.py\u001b[0m in \u001b[0;36m_convert_tuple\u001b[0;34m(self, key, is_setter)\u001b[0m\n\u001b[1;32m    245\u001b[0m                 \u001b[0;32mif\u001b[0m \u001b[0mi\u001b[0m \u001b[0;34m>=\u001b[0m \u001b[0mself\u001b[0m\u001b[0;34m.\u001b[0m\u001b[0mobj\u001b[0m\u001b[0;34m.\u001b[0m\u001b[0mndim\u001b[0m\u001b[0;34m:\u001b[0m\u001b[0;34m\u001b[0m\u001b[0;34m\u001b[0m\u001b[0m\n\u001b[1;32m    246\u001b[0m                     \u001b[0;32mraise\u001b[0m \u001b[0mIndexingError\u001b[0m\u001b[0;34m(\u001b[0m\u001b[0;34m'Too many indexers'\u001b[0m\u001b[0;34m)\u001b[0m\u001b[0;34m\u001b[0m\u001b[0;34m\u001b[0m\u001b[0m\n\u001b[0;32m--> 247\u001b[0;31m                 \u001b[0midx\u001b[0m \u001b[0;34m=\u001b[0m \u001b[0mself\u001b[0m\u001b[0;34m.\u001b[0m\u001b[0m_convert_to_indexer\u001b[0m\u001b[0;34m(\u001b[0m\u001b[0mk\u001b[0m\u001b[0;34m,\u001b[0m \u001b[0maxis\u001b[0m\u001b[0;34m=\u001b[0m\u001b[0mi\u001b[0m\u001b[0;34m,\u001b[0m \u001b[0mis_setter\u001b[0m\u001b[0;34m=\u001b[0m\u001b[0mis_setter\u001b[0m\u001b[0;34m)\u001b[0m\u001b[0;34m\u001b[0m\u001b[0;34m\u001b[0m\u001b[0m\n\u001b[0m\u001b[1;32m    248\u001b[0m                 \u001b[0mkeyidx\u001b[0m\u001b[0;34m.\u001b[0m\u001b[0mappend\u001b[0m\u001b[0;34m(\u001b[0m\u001b[0midx\u001b[0m\u001b[0;34m)\u001b[0m\u001b[0;34m\u001b[0m\u001b[0;34m\u001b[0m\u001b[0m\n\u001b[1;32m    249\u001b[0m         \u001b[0;32mreturn\u001b[0m \u001b[0mtuple\u001b[0m\u001b[0;34m(\u001b[0m\u001b[0mkeyidx\u001b[0m\u001b[0;34m)\u001b[0m\u001b[0;34m\u001b[0m\u001b[0;34m\u001b[0m\u001b[0m\n",
      "\u001b[0;32m~/anaconda3/lib/python3.7/site-packages/pandas/core/indexing.py\u001b[0m in \u001b[0;36m_convert_to_indexer\u001b[0;34m(self, obj, axis, is_setter)\u001b[0m\n\u001b[1;32m   2117\u001b[0m \u001b[0;34m\u001b[0m\u001b[0m\n\u001b[1;32m   2118\u001b[0m         \u001b[0;32mtry\u001b[0m\u001b[0;34m:\u001b[0m\u001b[0;34m\u001b[0m\u001b[0;34m\u001b[0m\u001b[0m\n\u001b[0;32m-> 2119\u001b[0;31m             \u001b[0mself\u001b[0m\u001b[0;34m.\u001b[0m\u001b[0m_validate_key\u001b[0m\u001b[0;34m(\u001b[0m\u001b[0mobj\u001b[0m\u001b[0;34m,\u001b[0m \u001b[0maxis\u001b[0m\u001b[0;34m)\u001b[0m\u001b[0;34m\u001b[0m\u001b[0;34m\u001b[0m\u001b[0m\n\u001b[0m\u001b[1;32m   2120\u001b[0m             \u001b[0;32mreturn\u001b[0m \u001b[0mobj\u001b[0m\u001b[0;34m\u001b[0m\u001b[0;34m\u001b[0m\u001b[0m\n\u001b[1;32m   2121\u001b[0m         \u001b[0;32mexcept\u001b[0m \u001b[0mValueError\u001b[0m\u001b[0;34m:\u001b[0m\u001b[0;34m\u001b[0m\u001b[0;34m\u001b[0m\u001b[0m\n",
      "\u001b[0;32m~/anaconda3/lib/python3.7/site-packages/pandas/core/indexing.py\u001b[0m in \u001b[0;36m_validate_key\u001b[0;34m(self, key, axis)\u001b[0m\n\u001b[1;32m   1955\u001b[0m             \u001b[0;32mreturn\u001b[0m\u001b[0;34m\u001b[0m\u001b[0;34m\u001b[0m\u001b[0m\n\u001b[1;32m   1956\u001b[0m         \u001b[0;32melif\u001b[0m \u001b[0mis_integer\u001b[0m\u001b[0;34m(\u001b[0m\u001b[0mkey\u001b[0m\u001b[0;34m)\u001b[0m\u001b[0;34m:\u001b[0m\u001b[0;34m\u001b[0m\u001b[0;34m\u001b[0m\u001b[0m\n\u001b[0;32m-> 1957\u001b[0;31m             \u001b[0mself\u001b[0m\u001b[0;34m.\u001b[0m\u001b[0m_validate_integer\u001b[0m\u001b[0;34m(\u001b[0m\u001b[0mkey\u001b[0m\u001b[0;34m,\u001b[0m \u001b[0maxis\u001b[0m\u001b[0;34m)\u001b[0m\u001b[0;34m\u001b[0m\u001b[0;34m\u001b[0m\u001b[0m\n\u001b[0m\u001b[1;32m   1958\u001b[0m         \u001b[0;32melif\u001b[0m \u001b[0misinstance\u001b[0m\u001b[0;34m(\u001b[0m\u001b[0mkey\u001b[0m\u001b[0;34m,\u001b[0m \u001b[0mtuple\u001b[0m\u001b[0;34m)\u001b[0m\u001b[0;34m:\u001b[0m\u001b[0;34m\u001b[0m\u001b[0;34m\u001b[0m\u001b[0m\n\u001b[1;32m   1959\u001b[0m             \u001b[0;31m# a tuple should already have been caught by this point\u001b[0m\u001b[0;34m\u001b[0m\u001b[0;34m\u001b[0m\u001b[0;34m\u001b[0m\u001b[0m\n",
      "\u001b[0;32m~/anaconda3/lib/python3.7/site-packages/pandas/core/indexing.py\u001b[0m in \u001b[0;36m_validate_integer\u001b[0;34m(self, key, axis)\u001b[0m\n\u001b[1;32m   2007\u001b[0m         \u001b[0ml\u001b[0m \u001b[0;34m=\u001b[0m \u001b[0mlen\u001b[0m\u001b[0;34m(\u001b[0m\u001b[0max\u001b[0m\u001b[0;34m)\u001b[0m\u001b[0;34m\u001b[0m\u001b[0;34m\u001b[0m\u001b[0m\n\u001b[1;32m   2008\u001b[0m         \u001b[0;32mif\u001b[0m \u001b[0mkey\u001b[0m \u001b[0;34m>=\u001b[0m \u001b[0ml\u001b[0m \u001b[0;32mor\u001b[0m \u001b[0mkey\u001b[0m \u001b[0;34m<\u001b[0m \u001b[0;34m-\u001b[0m\u001b[0ml\u001b[0m\u001b[0;34m:\u001b[0m\u001b[0;34m\u001b[0m\u001b[0;34m\u001b[0m\u001b[0m\n\u001b[0;32m-> 2009\u001b[0;31m             \u001b[0;32mraise\u001b[0m \u001b[0mIndexError\u001b[0m\u001b[0;34m(\u001b[0m\u001b[0;34m\"single positional indexer is out-of-bounds\"\u001b[0m\u001b[0;34m)\u001b[0m\u001b[0;34m\u001b[0m\u001b[0;34m\u001b[0m\u001b[0m\n\u001b[0m\u001b[1;32m   2010\u001b[0m \u001b[0;34m\u001b[0m\u001b[0m\n\u001b[1;32m   2011\u001b[0m     \u001b[0;32mdef\u001b[0m \u001b[0m_getitem_tuple\u001b[0m\u001b[0;34m(\u001b[0m\u001b[0mself\u001b[0m\u001b[0;34m,\u001b[0m \u001b[0mtup\u001b[0m\u001b[0;34m)\u001b[0m\u001b[0;34m:\u001b[0m\u001b[0;34m\u001b[0m\u001b[0;34m\u001b[0m\u001b[0m\n",
      "\u001b[0;31mIndexError\u001b[0m: single positional indexer is out-of-bounds"
     ]
    }
   ],
   "source": [
    "for i in range(1, len(lines)):\n",
    "    df.iloc[i,0] = names.get_full_name()"
   ]
  },
  {
   "cell_type": "code",
   "execution_count": 39,
   "metadata": {},
   "outputs": [],
   "source": [
    "df.to_csv(\"vote_random_names\")"
   ]
  },
  {
   "cell_type": "code",
   "execution_count": 6,
   "metadata": {},
   "outputs": [],
   "source": [
    "with open(input, 'r') as dat:\n",
    "    lines = dat.readlines()"
   ]
  },
  {
   "cell_type": "code",
   "execution_count": 7,
   "metadata": {
    "scrolled": true
   },
   "outputs": [
    {
     "data": {
      "text/plain": [
       "['Voter Name,Vote,Male,18-49,50,White,Black,Hispanic,College Grad,$75k +,$30-75k,Less Than $30k,Registered\\n',\n",
       " ',1,1,1,0,1,0,0,1,0,1,0,\\n',\n",
       " ',1,1,1,0,1,0,0,1,0,1,0,\\n',\n",
       " ',1,1,1,0,1,0,0,1,1,0,0,\\n',\n",
       " ',1,1,1,0,1,0,0,0,1,0,0,\\n',\n",
       " ',1,1,1,0,1,0,0,0,1,0,0,\\n',\n",
       " ',1,1,0,1,1,0,0,1,1,0,0,\\n',\n",
       " ',1,1,0,1,1,0,0,1,1,0,0,\\n',\n",
       " ',1,1,0,1,1,0,0,1,1,0,0,\\n',\n",
       " ',1,1,0,1,1,0,0,0,0,1,0,\\n',\n",
       " ',1,1,0,1,1,0,0,0,0,1,0,\\n',\n",
       " ',1,1,0,1,1,0,0,0,0,1,0,\\n',\n",
       " ',1,1,1,0,0,1,0,0,0,1,0,\\n',\n",
       " ',1,1,1,0,0,1,0,0,0,0,1,\\n',\n",
       " ',1,1,0,1,0,1,0,1,1,0,0,\\n',\n",
       " ',1,1,1,0,0,0,1,0,0,0,1,\\n',\n",
       " ',1,1,1,0,0,0,1,0,0,0,1,\\n',\n",
       " ',1,1,0,1,0,0,1,0,0,1,0,\\n',\n",
       " ',1,1,0,1,0,0,1,1,1,0,0,\\n',\n",
       " ',1,0,1,0,1,0,0,1,0,1,0,\\n',\n",
       " ',1,0,1,0,1,0,0,1,0,1,0,\\n',\n",
       " ',1,0,1,0,1,0,0,1,0,0,1,\\n',\n",
       " ',1,0,1,0,1,0,0,1,0,0,1,\\n',\n",
       " ',1,0,1,0,1,0,0,1,0,0,1,\\n',\n",
       " ',1,0,1,0,1,0,0,1,0,1,0,\\n',\n",
       " ',1,0,1,0,1,0,0,1,0,1,0,\\n',\n",
       " ',1,0,1,0,1,0,0,0,0,0,1,\\n',\n",
       " ',1,0,1,0,1,0,0,0,1,0,0,\\n',\n",
       " ',1,0,0,1,1,0,0,1,1,0,0,\\n',\n",
       " ',1,0,0,1,1,0,0,1,1,0,0,\\n',\n",
       " ',1,0,0,1,1,0,0,1,1,0,0,\\n',\n",
       " ',1,0,0,1,1,0,0,0,1,0,0,\\n',\n",
       " ',1,0,0,1,1,0,0,0,0,0,1,\\n',\n",
       " ',1,0,0,1,1,0,0,0,0,1,0,\\n',\n",
       " ',1,0,0,1,1,0,0,0,0,1,0,\\n',\n",
       " ',1,0,0,1,1,0,0,0,1,0,0,\\n',\n",
       " ',1,0,0,1,1,0,0,0,0,0,1,\\n',\n",
       " ',1,0,1,0,0,1,0,1,0,0,1,\\n',\n",
       " ',1,0,1,0,0,1,0,0,0,1,0,\\n',\n",
       " ',1,0,1,0,0,1,0,0,0,0,1,\\n',\n",
       " ',1,0,0,1,0,1,0,0,0,0,1,\\n',\n",
       " ',1,0,0,1,0,1,0,0,0,1,0,\\n',\n",
       " ',1,0,1,0,0,0,1,1,0,1,0,\\n',\n",
       " ',1,0,1,0,0,0,1,1,0,0,1,\\n',\n",
       " ',1,0,0,1,0,0,1,0,1,0,0,\\n',\n",
       " ',0,1,1,0,1,0,0,1,1,0,0,\\n',\n",
       " ',0,1,1,0,1,0,0,1,1,0,0,\\n',\n",
       " ',0,1,1,0,1,0,0,1,0,1,0,\\n',\n",
       " ',0,1,1,0,1,0,0,0,0,1,0,\\n',\n",
       " ',0,1,1,0,1,0,0,0,0,1,0,\\n',\n",
       " ',0,1,1,0,1,0,0,0,0,1,0,\\n',\n",
       " ',0,1,1,0,1,0,0,0,0,0,1,\\n',\n",
       " ',0,1,1,0,1,0,0,0,0,0,1,\\n',\n",
       " ',0,1,0,1,1,0,0,1,1,0,0,\\n',\n",
       " ',0,1,0,1,1,0,0,1,1,0,0,\\n',\n",
       " ',0,1,0,1,1,0,0,1,1,0,0,\\n',\n",
       " ',0,1,0,1,1,0,0,0,1,0,0,\\n',\n",
       " ',0,1,0,1,1,0,0,0,1,0,0,\\n',\n",
       " ',0,1,0,1,1,0,0,0,1,0,0,\\n',\n",
       " ',0,1,0,1,1,0,0,0,0,1,0,\\n',\n",
       " ',0,1,0,1,1,0,0,0,0,1,0,\\n',\n",
       " ',0,1,0,1,1,0,0,0,1,0,0,\\n',\n",
       " ',0,1,0,1,1,0,0,0,1,0,0,\\n',\n",
       " ',0,1,0,1,1,0,0,0,0,1,0,\\n',\n",
       " ',0,1,0,1,1,0,0,0,0,1,0,\\n',\n",
       " ',0,1,0,1,0,1,0,1,1,0,0,\\n',\n",
       " ',0,1,1,0,0,0,1,0,0,1,0,\\n',\n",
       " ',0,0,1,0,1,0,0,1,0,1,0,\\n',\n",
       " ',0,0,1,0,1,0,0,1,0,1,0,\\n',\n",
       " ',0,0,1,0,1,0,0,1,0,0,1,\\n',\n",
       " ',0,0,1,0,1,0,0,0,0,0,1,\\n',\n",
       " ',0,0,1,0,1,0,0,0,0,0,1,\\n',\n",
       " ',0,0,0,1,1,0,0,1,1,0,0,\\n',\n",
       " ',0,0,0,1,1,0,0,1,1,0,0,\\n',\n",
       " ',0,0,0,1,1,0,0,1,0,1,0,\\n',\n",
       " ',0,0,0,1,1,0,0,0,0,1,0,\\n',\n",
       " ',0,0,0,1,1,0,0,0,0,0,1,\\n',\n",
       " ',0,0,0,1,1,0,0,0,1,0,0,\\n',\n",
       " ',0,0,0,1,1,0,0,0,0,0,1,\\n',\n",
       " ',0,0,0,1,1,0,0,0,0,0,1,\\n',\n",
       " ',0,0,0,1,1,0,0,0,0,0,1,\\n',\n",
       " ',0,0,0,1,1,0,0,0,0,0,1,\\n',\n",
       " ',0,0,0,1,1,0,0,0,0,0,1,\\n',\n",
       " ',0,0,0,1,1,0,0,0,0,1,0,\\n',\n",
       " ',0,0,0,1,1,0,0,0,0,1,0,\\n',\n",
       " ',0,0,0,1,1,0,0,0,0,1,0,\\n',\n",
       " ',0,0,0,1,1,0,0,0,0,0,1,\\n',\n",
       " ',0,0,1,0,0,0,1,0,0,0,1,']"
      ]
     },
     "execution_count": 7,
     "metadata": {},
     "output_type": "execute_result"
    }
   ],
   "source": [
    "lines"
   ]
  },
  {
   "cell_type": "code",
   "execution_count": 8,
   "metadata": {},
   "outputs": [
    {
     "data": {
      "text/plain": [
       "88"
      ]
     },
     "execution_count": 8,
     "metadata": {},
     "output_type": "execute_result"
    }
   ],
   "source": [
    "len(lines)"
   ]
  },
  {
   "cell_type": "code",
   "execution_count": 18,
   "metadata": {},
   "outputs": [],
   "source": [
    "for i in range(1, len(lines)):\n",
    "    lines[i] = names.get_full_name() + lines[i]"
   ]
  },
  {
   "cell_type": "code",
   "execution_count": 19,
   "metadata": {
    "scrolled": true
   },
   "outputs": [
    {
     "data": {
      "text/plain": [
       "['Voter Name,Vote,Male,18-49,50,White,Black,Hispanic,College Grad,$75k +,$30-75k,Less Than $30k,Registered\\n',\n",
       " 'Thomas Metzger,1,1,1,0,1,0,0,1,0,1,0,\\n',\n",
       " 'Alonzo Huot,1,1,1,0,1,0,0,1,0,1,0,\\n',\n",
       " 'Clifford Kirkland,1,1,1,0,1,0,0,1,1,0,0,\\n',\n",
       " 'Reina Williams,1,1,1,0,1,0,0,0,1,0,0,\\n',\n",
       " 'Brenda Smith,1,1,1,0,1,0,0,0,1,0,0,\\n',\n",
       " 'Richard Price,1,1,0,1,1,0,0,1,1,0,0,\\n',\n",
       " 'Melissa Seal,1,1,0,1,1,0,0,1,1,0,0,\\n',\n",
       " 'Larry Dennis,1,1,0,1,1,0,0,1,1,0,0,\\n',\n",
       " 'Alda Colon,1,1,0,1,1,0,0,0,0,1,0,\\n',\n",
       " 'Leona Kenneally,1,1,0,1,1,0,0,0,0,1,0,\\n',\n",
       " 'Edris Dearman,1,1,0,1,1,0,0,0,0,1,0,\\n',\n",
       " 'Latonya Carter,1,1,1,0,0,1,0,0,0,1,0,\\n',\n",
       " 'James Hamel,1,1,1,0,0,1,0,0,0,0,1,\\n',\n",
       " 'James Morrison,1,1,0,1,0,1,0,1,1,0,0,\\n',\n",
       " 'Rachel Duty,1,1,1,0,0,0,1,0,0,0,1,\\n',\n",
       " 'Dennis Dowdy,1,1,1,0,0,0,1,0,0,0,1,\\n',\n",
       " 'Maria Mcleary,1,1,0,1,0,0,1,0,0,1,0,\\n',\n",
       " 'Salvatore Harper,1,1,0,1,0,0,1,1,1,0,0,\\n',\n",
       " 'Eunice Yates,1,0,1,0,1,0,0,1,0,1,0,\\n',\n",
       " 'Donna Richard,1,0,1,0,1,0,0,1,0,1,0,\\n',\n",
       " 'Henry Maynard,1,0,1,0,1,0,0,1,0,0,1,\\n',\n",
       " 'Alyce Kowalchuk,1,0,1,0,1,0,0,1,0,0,1,\\n',\n",
       " 'Irene Patterson,1,0,1,0,1,0,0,1,0,0,1,\\n',\n",
       " 'Rufus Bell,1,0,1,0,1,0,0,1,0,1,0,\\n',\n",
       " 'Paul Villegas,1,0,1,0,1,0,0,1,0,1,0,\\n',\n",
       " 'Kimberly Thomas,1,0,1,0,1,0,0,0,0,0,1,\\n',\n",
       " 'Alice Kjellman,1,0,1,0,1,0,0,0,1,0,0,\\n',\n",
       " 'James Bloom,1,0,0,1,1,0,0,1,1,0,0,\\n',\n",
       " 'Norman Freeman,1,0,0,1,1,0,0,1,1,0,0,\\n',\n",
       " 'Ollie Gibson,1,0,0,1,1,0,0,1,1,0,0,\\n',\n",
       " 'Debra Saxton,1,0,0,1,1,0,0,0,1,0,0,\\n',\n",
       " 'Lucille Aki,1,0,0,1,1,0,0,0,0,0,1,\\n',\n",
       " 'Jamie Connelly,1,0,0,1,1,0,0,0,0,1,0,\\n',\n",
       " 'William Martinez,1,0,0,1,1,0,0,0,0,1,0,\\n',\n",
       " 'David Oneill,1,0,0,1,1,0,0,0,1,0,0,\\n',\n",
       " 'Keith Manfred,1,0,0,1,1,0,0,0,0,0,1,\\n',\n",
       " 'Jill Parga,1,0,1,0,0,1,0,1,0,0,1,\\n',\n",
       " 'Michael Mcdonell,1,0,1,0,0,1,0,0,0,1,0,\\n',\n",
       " 'Jon Martin,1,0,1,0,0,1,0,0,0,0,1,\\n',\n",
       " 'Marlon Wall,1,0,0,1,0,1,0,0,0,0,1,\\n',\n",
       " 'Wilford Guerra,1,0,0,1,0,1,0,0,0,1,0,\\n',\n",
       " 'Patrick Phillips,1,0,1,0,0,0,1,1,0,1,0,\\n',\n",
       " 'John Hammonds,1,0,1,0,0,0,1,1,0,0,1,\\n',\n",
       " 'Mary Jackson,1,0,0,1,0,0,1,0,1,0,0,\\n',\n",
       " 'Nicholas Harmon,0,1,1,0,1,0,0,1,1,0,0,\\n',\n",
       " 'Christopher Cross,0,1,1,0,1,0,0,1,1,0,0,\\n',\n",
       " 'Larry Lee,0,1,1,0,1,0,0,1,0,1,0,\\n',\n",
       " 'Sandra Clark,0,1,1,0,1,0,0,0,0,1,0,\\n',\n",
       " 'Evelyn Kieffer,0,1,1,0,1,0,0,0,0,1,0,\\n',\n",
       " 'Leonardo Whitton,0,1,1,0,1,0,0,0,0,1,0,\\n',\n",
       " 'Harold Kleber,0,1,1,0,1,0,0,0,0,0,1,\\n',\n",
       " 'Randy Flahive,0,1,1,0,1,0,0,0,0,0,1,\\n',\n",
       " 'Joseph Sweeny,0,1,0,1,1,0,0,1,1,0,0,\\n',\n",
       " 'Melinda Long,0,1,0,1,1,0,0,1,1,0,0,\\n',\n",
       " 'Ambrose Newberry,0,1,0,1,1,0,0,1,1,0,0,\\n',\n",
       " 'Daniel Davila,0,1,0,1,1,0,0,0,1,0,0,\\n',\n",
       " 'Andrew Crawford,0,1,0,1,1,0,0,0,1,0,0,\\n',\n",
       " 'Angela Smith,0,1,0,1,1,0,0,0,1,0,0,\\n',\n",
       " 'Terrance Grubbs,0,1,0,1,1,0,0,0,0,1,0,\\n',\n",
       " 'Joseph Bearden,0,1,0,1,1,0,0,0,0,1,0,\\n',\n",
       " 'Sean Makris,0,1,0,1,1,0,0,0,1,0,0,\\n',\n",
       " 'Margarita Donovan,0,1,0,1,1,0,0,0,1,0,0,\\n',\n",
       " 'Cassie Aquino,0,1,0,1,1,0,0,0,0,1,0,\\n',\n",
       " 'Jason Wiseman,0,1,0,1,1,0,0,0,0,1,0,\\n',\n",
       " 'Ryan Miller,0,1,0,1,0,1,0,1,1,0,0,\\n',\n",
       " 'Elizabeth Dillard,0,1,1,0,0,0,1,0,0,1,0,\\n',\n",
       " 'Thomas Savino,0,0,1,0,1,0,0,1,0,1,0,\\n',\n",
       " 'Wendolyn Morris,0,0,1,0,1,0,0,1,0,1,0,\\n',\n",
       " 'Judy Lazar,0,0,1,0,1,0,0,1,0,0,1,\\n',\n",
       " 'Constance Carpenter,0,0,1,0,1,0,0,0,0,0,1,\\n',\n",
       " 'Jennifer Merriweather,0,0,1,0,1,0,0,0,0,0,1,\\n',\n",
       " 'Eugene Thompson,0,0,0,1,1,0,0,1,1,0,0,\\n',\n",
       " 'John Kipping,0,0,0,1,1,0,0,1,1,0,0,\\n',\n",
       " 'Thomas Truett,0,0,0,1,1,0,0,1,0,1,0,\\n',\n",
       " 'Trudi Holmes,0,0,0,1,1,0,0,0,0,1,0,\\n',\n",
       " 'Jeremy Hopkins,0,0,0,1,1,0,0,0,0,0,1,\\n',\n",
       " 'Roger Vue,0,0,0,1,1,0,0,0,1,0,0,\\n',\n",
       " 'Brandon Morrison,0,0,0,1,1,0,0,0,0,0,1,\\n',\n",
       " 'Sarah Kapur,0,0,0,1,1,0,0,0,0,0,1,\\n',\n",
       " 'Shirley Mitchell,0,0,0,1,1,0,0,0,0,0,1,\\n',\n",
       " 'Deborah Lim,0,0,0,1,1,0,0,0,0,0,1,\\n',\n",
       " 'Pearlie Baine,0,0,0,1,1,0,0,0,0,0,1,\\n',\n",
       " 'Gregg Jones,0,0,0,1,1,0,0,0,0,1,0,\\n',\n",
       " 'Eli Predovich,0,0,0,1,1,0,0,0,0,1,0,\\n',\n",
       " 'Michelle Peoples,0,0,0,1,1,0,0,0,0,1,0,\\n',\n",
       " 'Louis Treston,0,0,0,1,1,0,0,0,0,0,1,\\n',\n",
       " 'Anne Towry,0,0,1,0,0,0,1,0,0,0,1,']"
      ]
     },
     "execution_count": 19,
     "metadata": {},
     "output_type": "execute_result"
    }
   ],
   "source": [
    "lines"
   ]
  },
  {
   "cell_type": "code",
   "execution_count": 10,
   "metadata": {},
   "outputs": [],
   "source": [
    "import names"
   ]
  },
  {
   "cell_type": "code",
   "execution_count": 11,
   "metadata": {},
   "outputs": [
    {
     "data": {
      "text/plain": [
       "'Kevin Sutterfield'"
      ]
     },
     "execution_count": 11,
     "metadata": {},
     "output_type": "execute_result"
    }
   ],
   "source": [
    "names.get_full_name()"
   ]
  },
  {
   "cell_type": "code",
   "execution_count": 21,
   "metadata": {},
   "outputs": [],
   "source": [
    "import csv"
   ]
  },
  {
   "cell_type": "code",
   "execution_count": 26,
   "metadata": {},
   "outputs": [],
   "source": [
    "with open('output.csv', 'a') as the_file:\n",
    "    for i in range(1, len(lines)):\n",
    "        the_file.write(lines[i])"
   ]
  },
  {
   "cell_type": "code",
   "execution_count": 23,
   "metadata": {},
   "outputs": [
    {
     "data": {
      "text/plain": [
       "'Robert DonawayThomas Metzger,1,1,1,0,1,0,0,1,0,1,0,\\n'"
      ]
     },
     "execution_count": 23,
     "metadata": {},
     "output_type": "execute_result"
    }
   ],
   "source": [
    "names.get_full_name() + lines[1]"
   ]
  },
  {
   "cell_type": "code",
   "execution_count": 27,
   "metadata": {},
   "outputs": [
    {
     "data": {
      "text/plain": [
       "'Thomas Metzger,1,1,1,0,1,0,0,1,0,1,0,\\n'"
      ]
     },
     "execution_count": 27,
     "metadata": {},
     "output_type": "execute_result"
    }
   ],
   "source": [
    "lines[1]"
   ]
  },
  {
   "cell_type": "code",
   "execution_count": 31,
   "metadata": {},
   "outputs": [
    {
     "name": "stdout",
     "output_type": "stream",
     "text": [
      "=====\n",
      "<class 'pandas.core.series.Series'>\n",
      "=====\n",
      "<class 'pandas.core.series.Series'>\n",
      "=====\n",
      "<class 'pandas.core.series.Series'>\n",
      "=====\n",
      "<class 'pandas.core.series.Series'>\n",
      "=====\n",
      "<class 'pandas.core.series.Series'>\n",
      "=====\n",
      "<class 'pandas.core.series.Series'>\n",
      "=====\n",
      "<class 'pandas.core.series.Series'>\n",
      "=====\n",
      "<class 'pandas.core.series.Series'>\n",
      "=====\n",
      "<class 'pandas.core.series.Series'>\n",
      "=====\n",
      "<class 'pandas.core.series.Series'>\n",
      "=====\n",
      "<class 'pandas.core.series.Series'>\n",
      "=====\n",
      "<class 'pandas.core.series.Series'>\n",
      "=====\n",
      "<class 'pandas.core.series.Series'>\n",
      "=====\n",
      "<class 'pandas.core.series.Series'>\n",
      "=====\n",
      "<class 'pandas.core.series.Series'>\n",
      "=====\n",
      "<class 'pandas.core.series.Series'>\n",
      "=====\n",
      "<class 'pandas.core.series.Series'>\n",
      "=====\n",
      "<class 'pandas.core.series.Series'>\n",
      "=====\n",
      "<class 'pandas.core.series.Series'>\n",
      "=====\n",
      "<class 'pandas.core.series.Series'>\n",
      "=====\n",
      "<class 'pandas.core.series.Series'>\n",
      "=====\n",
      "<class 'pandas.core.series.Series'>\n",
      "=====\n",
      "<class 'pandas.core.series.Series'>\n",
      "=====\n",
      "<class 'pandas.core.series.Series'>\n",
      "=====\n",
      "<class 'pandas.core.series.Series'>\n",
      "=====\n",
      "<class 'pandas.core.series.Series'>\n",
      "=====\n",
      "<class 'pandas.core.series.Series'>\n",
      "=====\n",
      "<class 'pandas.core.series.Series'>\n",
      "=====\n",
      "<class 'pandas.core.series.Series'>\n",
      "=====\n",
      "<class 'pandas.core.series.Series'>\n",
      "=====\n",
      "<class 'pandas.core.series.Series'>\n",
      "=====\n",
      "<class 'pandas.core.series.Series'>\n",
      "=====\n",
      "<class 'pandas.core.series.Series'>\n",
      "=====\n",
      "<class 'pandas.core.series.Series'>\n",
      "=====\n",
      "<class 'pandas.core.series.Series'>\n",
      "=====\n",
      "<class 'pandas.core.series.Series'>\n",
      "=====\n",
      "<class 'pandas.core.series.Series'>\n",
      "=====\n",
      "<class 'pandas.core.series.Series'>\n",
      "=====\n",
      "<class 'pandas.core.series.Series'>\n",
      "=====\n",
      "<class 'pandas.core.series.Series'>\n",
      "=====\n",
      "<class 'pandas.core.series.Series'>\n",
      "=====\n",
      "<class 'pandas.core.series.Series'>\n",
      "=====\n",
      "<class 'pandas.core.series.Series'>\n",
      "=====\n",
      "<class 'pandas.core.series.Series'>\n",
      "=====\n",
      "<class 'pandas.core.series.Series'>\n",
      "=====\n",
      "<class 'pandas.core.series.Series'>\n",
      "=====\n",
      "<class 'pandas.core.series.Series'>\n",
      "=====\n",
      "<class 'pandas.core.series.Series'>\n",
      "=====\n",
      "<class 'pandas.core.series.Series'>\n",
      "=====\n",
      "<class 'pandas.core.series.Series'>\n",
      "=====\n",
      "<class 'pandas.core.series.Series'>\n",
      "=====\n",
      "<class 'pandas.core.series.Series'>\n",
      "=====\n",
      "<class 'pandas.core.series.Series'>\n",
      "=====\n",
      "<class 'pandas.core.series.Series'>\n",
      "=====\n",
      "<class 'pandas.core.series.Series'>\n",
      "=====\n",
      "<class 'pandas.core.series.Series'>\n",
      "=====\n",
      "<class 'pandas.core.series.Series'>\n",
      "=====\n",
      "<class 'pandas.core.series.Series'>\n",
      "=====\n",
      "<class 'pandas.core.series.Series'>\n",
      "=====\n",
      "<class 'pandas.core.series.Series'>\n",
      "=====\n",
      "<class 'pandas.core.series.Series'>\n",
      "=====\n",
      "<class 'pandas.core.series.Series'>\n",
      "=====\n",
      "<class 'pandas.core.series.Series'>\n",
      "=====\n",
      "<class 'pandas.core.series.Series'>\n",
      "=====\n",
      "<class 'pandas.core.series.Series'>\n",
      "=====\n",
      "<class 'pandas.core.series.Series'>\n",
      "=====\n",
      "<class 'pandas.core.series.Series'>\n",
      "=====\n",
      "<class 'pandas.core.series.Series'>\n",
      "=====\n",
      "<class 'pandas.core.series.Series'>\n",
      "=====\n",
      "<class 'pandas.core.series.Series'>\n",
      "=====\n",
      "<class 'pandas.core.series.Series'>\n",
      "=====\n",
      "<class 'pandas.core.series.Series'>\n",
      "=====\n",
      "<class 'pandas.core.series.Series'>\n",
      "=====\n",
      "<class 'pandas.core.series.Series'>\n",
      "=====\n",
      "<class 'pandas.core.series.Series'>\n",
      "=====\n",
      "<class 'pandas.core.series.Series'>\n",
      "=====\n",
      "<class 'pandas.core.series.Series'>\n",
      "=====\n",
      "<class 'pandas.core.series.Series'>\n",
      "=====\n",
      "<class 'pandas.core.series.Series'>\n",
      "=====\n",
      "<class 'pandas.core.series.Series'>\n",
      "=====\n",
      "<class 'pandas.core.series.Series'>\n",
      "=====\n",
      "<class 'pandas.core.series.Series'>\n",
      "=====\n",
      "<class 'pandas.core.series.Series'>\n",
      "=====\n",
      "<class 'pandas.core.series.Series'>\n",
      "=====\n",
      "<class 'pandas.core.series.Series'>\n",
      "=====\n",
      "<class 'pandas.core.series.Series'>\n",
      "=====\n",
      "<class 'pandas.core.series.Series'>\n"
     ]
    }
   ],
   "source": []
  },
  {
   "cell_type": "code",
   "execution_count": null,
   "metadata": {},
   "outputs": [],
   "source": []
  }
 ],
 "metadata": {
  "kernelspec": {
   "display_name": "Python 3",
   "language": "python",
   "name": "python3"
  },
  "language_info": {
   "codemirror_mode": {
    "name": "ipython",
    "version": 3
   },
   "file_extension": ".py",
   "mimetype": "text/x-python",
   "name": "python",
   "nbconvert_exporter": "python",
   "pygments_lexer": "ipython3",
   "version": "3.7.1"
  }
 },
 "nbformat": 4,
 "nbformat_minor": 2
}
