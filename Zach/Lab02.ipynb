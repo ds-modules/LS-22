{
 "cells": [
  {
   "cell_type": "markdown",
   "metadata": {},
   "source": [
    "![Spam email image](https://www.howtogeek.com/wp-content/uploads/2019/04/xemail-bomb.jpg.pagespeed.gp+jp+jw+pj+ws+js+rj+rp+rw+ri+cp+md.ic.UUnEG5yZbp.jpg)\n",
    "# <center><font color = #2E5266>Error Types and Costs: Case Studies</font></center>\n",
    "<center>Statistical models can help us understand and make predictions about the world. But, no model is perfect. Through two real-life case studies of applied machine learning, we will explore how type I and type II errors have consequences for decision-making in different contexts, and how trying to reduce one type can increase another.</center>\n",
    "\n",
    "***\n",
    "\n",
    "First we will load some Python libraries to help us run the code we'll be using for this notebook! No need to edit or alter anything, just hit `shift` + `enter` to run it!"
   ]
  },
  {
   "cell_type": "code",
   "execution_count": 1,
   "metadata": {},
   "outputs": [],
   "source": [
    "# This cell block just loads in helpful libraries that will help us run the code we need to!\n",
    "from datascience import * # The data science library provides helpful tools for loading tables!\n",
    "import matplotlib.pyplot as plt # This library will help us create plots!\n",
    "%matplotlib inline\n",
    "import ipywidgets as widgets # Allows for us to create interactive user interfaces where you won't have to code!\n",
    "from ipywidgets import interact, fixed, Layout\n",
    "import numpy as np # Mathematical functions\n",
    "import string # Text functions\n",
    "import random # Random number generators!\n",
    "import sklearn.metrics as sk # Machine learning models!"
   ]
  },
  {
   "cell_type": "markdown",
   "metadata": {},
   "source": [
    "***\n",
    "### <font color = #2E5266>Confusion Matrices</font>\n",
    "To begin, we will explore what is called a <font color = #6E8898>confusion matrix</font>. Now, don't be *confused* by the confusion matrix. We will explore what exactly it is below.\n",
    "\n",
    "By definition, a confusion matrix is a table used to describe the performance of a <font color = #6E8898>classification model</font> on a set of test data for which true values are known. Mathematically speaking, a confusion matrix $C$ is such that a cell at position $(1,3)$ called $C_{(1,3)}$ is known to be in group 1 and predicted to be in group 3.\n",
    "<img src='data/matrix_c.png' width=25% height=25%><br>\n",
    "This definiton might not be very intuitive at first glance, so let's consider a real-life application of a confusion matrix. Let us consider a situation in which we must be able to diagnose whether or not someone has breast cancer. We can build a <font color = #6E8898>classifier</font> to try and determine this. Let's assume that we've gone ahead and built this classifier already and are in the progress of testing whether or not it is able to accurately determine whether or not someone has breast cancer.\n",
    "\n",
    "Let us assume that we test out our classifier on a group of 165 people ($n=165$). Let's take a look at what a generated confusion matrix might look like. Again, no need to modify anything in the code cell, just make sure to run it!"
   ]
  },
  {
   "cell_type": "code",
   "execution_count": 2,
   "metadata": {},
   "outputs": [
    {
     "data": {
      "text/html": [
       "<table border=\"1\" class=\"dataframe\">\n",
       "    <thead>\n",
       "        <tr>\n",
       "            <th> </th> <th>Predicted False</th> <th>Predicted True</th>\n",
       "        </tr>\n",
       "    </thead>\n",
       "    <tbody>\n",
       "        <tr>\n",
       "            <td>Actual False</td> <td>50             </td> <td>10            </td>\n",
       "        </tr>\n",
       "        <tr>\n",
       "            <td>Actual True </td> <td>5              </td> <td>100           </td>\n",
       "        </tr>\n",
       "    </tbody>\n",
       "</table>"
      ],
      "text/plain": [
       "             | Predicted False | Predicted True\n",
       "Actual False | 50              | 10\n",
       "Actual True  | 5               | 100"
      ]
     },
     "execution_count": 2,
     "metadata": {},
     "output_type": "execute_result"
    }
   ],
   "source": [
    "# This first line of code will create a brand new table, while the second line will populate the table with simulated data.\n",
    "t = Table()\n",
    "t.with_columns(\" \", [\"Actual False\", \"Actual True\"], \"Predicted False\", [50,5], \n",
    "                      \"Predicted True\", [10,100])"
   ]
  },
  {
   "cell_type": "markdown",
   "metadata": {},
   "source": [
    "<font color = #2E5266>What can we learn from this matrix?</font>\n",
    "* There are two possible predicted classes, true and false\n",
    "* The classifier made a total of 165 predictions (aka the sum of all the entries)\n",
    "* Out of 165 cases, the classifier predicted true 110 times and false 55 times\n",
    "* In reality, there were 105 true and 60 false\n",
    "\n",
    "This confusion matrix divides the data into four categories which we can discuss now:\n",
    "1. True positives - In which the patient has breast cancer and we accurately determined that they do\n",
    "2. True negatives - In which the patient does not have breast cancer and we have accurately determined they do not\n",
    "3. False positives (<font color = #6E8898>Type I Error</font>) - In which the patient does not have breast cancer but we have classified them as having the disease\n",
    "4. False negative (<font color = #6E8898>Type II Error</font>) - In which the patient has breast cancer but we have classified them as not having the disease\n",
    "<img src='data/error_types_chart.png' width=50% height=50%>"
   ]
  },
  {
   "cell_type": "markdown",
   "metadata": {},
   "source": [
    "### <font color = #2E5266>The Implications of Error</font>\n",
    "Consider now what the results of these two errors in this context would look like. In a <font color = #6E8898>Type I Error</font> situation, a patient would be told that they have breast cancer. This could cause emotional distress in the very least and might also result in unnecessary medical procedures which are time consuming and expensive. On the other hand a <font color = #6E8898>Type II Error</font> would result in a patient suffering from breast cancer being told that they do not have the disease and this could cause a considerable amount of harm to that individual's health. And these errors are not limited to this context. Other situations in which these errors can cause severe implications can include errors in criminal identification, other disease detection, and online fraud detection. More mundane examples could include weather and commute/navigation predictions.\n",
    "\n",
    "### <font color = #2E5266>Measuring Accuracy</font>\n",
    "Given a confusion matrix, we can also calculate a number of helpful statistics such as <font color = #6E8898>accuracy</font>, <font color = #6E8898>precision</font>, and <font color = #6E8898>recall</font>. Let us first consider accuracy, or how often the classifier is correct. This can be calculated by taking all the individuals we classified correctly (i.e. True Positives and True Negatives) and dividing by the total number of individuals.\n",
    "\n",
    "$\\frac{True Positive + True Negative}{Total}$ = $\\frac{50 + 100}{165} \\approx 90.9\\%$\n",
    "\n",
    "*That's not bad!* you might think, however accuracy is not always the only indicator you should be using to determine whether a classifier is working as you'd like it to. Let's now consider <font color = #6E8898>precision</font> whose formal definition is <font color = #6E8898>the percentage of results which are relevant</font>. Precision can be calculated via the following formula:\n",
    "\n",
    "$\\frac{True Positive}{True Positive + False Positive}$ = $\\frac{100}{100+10} \\approx 90.9\\%$\n",
    "\n",
    "Relatedly, <font color = #6E8898>recall</font> refers to the <font color = #6E8898>percentage of total relevant results correctly classified by your model</font>. Recall can be calculated as follows:\n",
    "\n",
    "$\\frac{True Positive}{True Positive + False Negative}$ = $\\frac{100}{100+5} \\approx 95.2\\%$"
   ]
  },
  {
   "cell_type": "markdown",
   "metadata": {},
   "source": [
    "## <font color = #2E5266>First Case Study</font>"
   ]
  },
  {
   "cell_type": "markdown",
   "metadata": {},
   "source": [
    "In our first case study, we will be classifying e-mails as either spam (no, not the meat) or ham (also not the meat). In e-mail classification jargon, spam are irrelevant or innappropriate messages sent to a large number of recipients whilst ham are the real deal. The dataset we will be using is the [SMS Spam Collection v.1](https://archive.ics.uci.edu/ml/datasets/sms+spam+collection) which is comprised of a total of 4,827 SMS legitimate messages (86.6%) and a total of 747 (13.4%) spam messages. These messages have been compiled from several different sources and if you want to read more about where these messages were taken from, feel free to click the link! Below we will describe the dataset further.\n",
    "\n",
    "The raw dataset in the form of a `.csv` (or *comma separated values*) file. It's not important to understand exactly what a `.csv` file is, but it means the different columns of data are separated by commas! The commas allow for us to read in raw data and convert it into a table, which we will do below."
   ]
  },
  {
   "cell_type": "markdown",
   "metadata": {},
   "source": [
    "Upon reading in the table below, we can see that there are two columns: **Class** and **Text**! The class column contains the classification of the message, while the text column contains the actual text message."
   ]
  },
  {
   "cell_type": "code",
   "execution_count": 3,
   "metadata": {},
   "outputs": [
    {
     "data": {
      "text/html": [
       "<table border=\"1\" class=\"dataframe\">\n",
       "    <thead>\n",
       "        <tr>\n",
       "            <th>Class</th> <th>Text</th>\n",
       "        </tr>\n",
       "    </thead>\n",
       "    <tbody>\n",
       "        <tr>\n",
       "            <td>ham  </td> <td>Go until jurong point, crazy.. Available only in bugis n ...</td>\n",
       "        </tr>\n",
       "        <tr>\n",
       "            <td>ham  </td> <td>Ok lar... Joking wif u oni...                               </td>\n",
       "        </tr>\n",
       "        <tr>\n",
       "            <td>spam </td> <td>Free entry in 2 a wkly comp to win FA Cup final tkts 21s ...</td>\n",
       "        </tr>\n",
       "        <tr>\n",
       "            <td>ham  </td> <td>U dun say so early hor... U c already then say...           </td>\n",
       "        </tr>\n",
       "        <tr>\n",
       "            <td>ham  </td> <td>Nah I don't think he goes to usf, he lives around here t ...</td>\n",
       "        </tr>\n",
       "    </tbody>\n",
       "</table>\n",
       "<p>... (5424 rows omitted)</p>"
      ],
      "text/plain": [
       "<IPython.core.display.HTML object>"
      ]
     },
     "metadata": {},
     "output_type": "display_data"
    }
   ],
   "source": [
    "# The command below takes in a .csv file and converts it into a table!\n",
    "raw_data = Table.read_table(\"data/SMSSpamCollection.csv\")\n",
    "# This command allows for us to see only a sneak-peek of the entries.\n",
    "# Instead of seeing hundreds of rows, we will see only five.\n",
    "raw_data.show(5)"
   ]
  },
  {
   "cell_type": "markdown",
   "metadata": {},
   "source": [
    "You can see that we actually have 5,429 rows in our table. Run the cell below and click the button to randomly select one of these messages and print it out!"
   ]
  },
  {
   "cell_type": "code",
   "execution_count": 4,
   "metadata": {
    "scrolled": true
   },
   "outputs": [
    {
     "data": {
      "application/vnd.jupyter.widget-view+json": {
       "model_id": "1c99460e77d7403890621f4adcacbce2",
       "version_major": 2,
       "version_minor": 0
      },
      "text/plain": [
       "VBox(children=(Button(description='My Button', style=ButtonStyle()), Output()))"
      ]
     },
     "metadata": {},
     "output_type": "display_data"
    }
   ],
   "source": [
    "# You can ignore this scary code!\n",
    "button = widgets.Button(description='My Button')\n",
    "out = widgets.Output()\n",
    "def on_button_clicked(_):\n",
    "    samp_text = raw_data.sample(1).column(1)\n",
    "    # \"linking function with output\"\n",
    "    with out:\n",
    "      # what happens when we press the button\n",
    "      print(samp_text)\n",
    "# linking button and function together using a button's method\n",
    "button.on_click(on_button_clicked)\n",
    "# displaying button and its output together\n",
    "widgets.VBox([button,out])"
   ]
  },
  {
   "cell_type": "markdown",
   "metadata": {},
   "source": [
    "***\n",
    "### <font color = #2E5266>Getting Started with the Data</font>\n",
    "\n",
    "We will now begin the work to classify our emails! As you saw, our data set contains **both** spam and ham emails. In order to build our classifier, we will perform the following steps:\n",
    "\n",
    "* Clean the data (this has been done for you!)\n",
    "* Divide the data into testing and training data\n",
    "* Find attributes that help determine whether an email is spam or ham\n",
    "* Train a computer to use these attributes to distinguish spam emails\n",
    "* Test our model!\n",
    "\n",
    "It may sound overwhelming now, but once we walk you through the process you will be surprised at how easy it is! And it yields such cool results."
   ]
  },
  {
   "cell_type": "markdown",
   "metadata": {},
   "source": [
    "You might be wondering why we would try and classify data that has already been labeled. The idea is to take data that has been manually labeled as either spam or ham and use it to test how accurate our classifier is. For our model, we will be using 90% of the data to train and 10% of the data to test! The training data will be fed into our model and we will save our testing data measure accuracy at the end of training!"
   ]
  },
  {
   "cell_type": "code",
   "execution_count": 5,
   "metadata": {},
   "outputs": [
    {
     "data": {
      "text/html": [
       "<table border=\"1\" class=\"dataframe\">\n",
       "    <thead>\n",
       "        <tr>\n",
       "            <th>Class</th> <th>Text</th>\n",
       "        </tr>\n",
       "    </thead>\n",
       "    <tbody>\n",
       "        <tr>\n",
       "            <td>ham  </td> <td>It is a good thing I'm now getting the connection to bw     </td>\n",
       "        </tr>\n",
       "        <tr>\n",
       "            <td>ham  </td> <td>So how's scotland. Hope you are not over showing your JJ ...</td>\n",
       "        </tr>\n",
       "        <tr>\n",
       "            <td>ham  </td> <td>Jus finish my lunch on my way home lor... I tot u dun wa ...</td>\n",
       "        </tr>\n",
       "        <tr>\n",
       "            <td>ham  </td> <td>Yeah we do totes. When u wanna?                             </td>\n",
       "        </tr>\n",
       "        <tr>\n",
       "            <td>ham  </td> <td>Yun buying... But school got offer 2000 plus only...        </td>\n",
       "        </tr>\n",
       "    </tbody>\n",
       "</table>\n",
       "<p>... (537 rows omitted)</p>"
      ],
      "text/plain": [
       "<IPython.core.display.HTML object>"
      ]
     },
     "metadata": {},
     "output_type": "display_data"
    }
   ],
   "source": [
    "# Splitting the data!\n",
    "# Randomizing what rows will be taken for testing!\n",
    "testing = random.sample(range(raw_data.num_rows), raw_data.num_rows//10)\n",
    "\n",
    "# Selecting the rows not in testing to be in our training data!\n",
    "training = [i for i in range(raw_data.num_rows) if i not in testing]\n",
    "\n",
    "# Outputting the contents of our testing data:\n",
    "testing = raw_data.take[testing]\n",
    "testing.show(5)"
   ]
  },
  {
   "cell_type": "code",
   "execution_count": 6,
   "metadata": {},
   "outputs": [
    {
     "data": {
      "text/html": [
       "<table border=\"1\" class=\"dataframe\">\n",
       "    <thead>\n",
       "        <tr>\n",
       "            <th>Class</th> <th>Text</th>\n",
       "        </tr>\n",
       "    </thead>\n",
       "    <tbody>\n",
       "        <tr>\n",
       "            <td>ham  </td> <td>Go until jurong point, crazy.. Available only in bugis n ...</td>\n",
       "        </tr>\n",
       "        <tr>\n",
       "            <td>ham  </td> <td>Ok lar... Joking wif u oni...                               </td>\n",
       "        </tr>\n",
       "        <tr>\n",
       "            <td>spam </td> <td>Free entry in 2 a wkly comp to win FA Cup final tkts 21s ...</td>\n",
       "        </tr>\n",
       "        <tr>\n",
       "            <td>ham  </td> <td>U dun say so early hor... U c already then say...           </td>\n",
       "        </tr>\n",
       "        <tr>\n",
       "            <td>ham  </td> <td>Nah I don't think he goes to usf, he lives around here t ...</td>\n",
       "        </tr>\n",
       "    </tbody>\n",
       "</table>\n",
       "<p>... (4882 rows omitted)</p>"
      ],
      "text/plain": [
       "<IPython.core.display.HTML object>"
      ]
     },
     "metadata": {},
     "output_type": "display_data"
    }
   ],
   "source": [
    "training = raw_data.take[training]\n",
    "training.show(5)"
   ]
  },
  {
   "cell_type": "markdown",
   "metadata": {},
   "source": [
    "Note that our new testing and training data sets still contain both ham and spam emails! This is essential for classification. Can you think of why? "
   ]
  },
  {
   "cell_type": "code",
   "execution_count": 7,
   "metadata": {},
   "outputs": [],
   "source": [
    "# Type your response here! Do not delete the hashtag!"
   ]
  },
  {
   "cell_type": "markdown",
   "metadata": {},
   "source": [
    "Now that we've split up our data, it's time to try and identify factors that might set spam and ham emails apart. So let's try and look at some differences. What do you think might be a good way to distinguish between the two kinds of emails just from looking at them in the tables above?"
   ]
  },
  {
   "cell_type": "code",
   "execution_count": 8,
   "metadata": {},
   "outputs": [],
   "source": [
    "# Type your response here!"
   ]
  },
  {
   "cell_type": "markdown",
   "metadata": {},
   "source": [
    "Below we will take a look at the use of capital letters."
   ]
  },
  {
   "cell_type": "code",
   "execution_count": 9,
   "metadata": {},
   "outputs": [
    {
     "data": {
      "image/png": "[encoded data removed]",
      "text/plain": [
       "<Figure size 560x320 with 1 Axes>"
      ]
     },
     "metadata": {},
     "output_type": "display_data"
    }
   ],
   "source": [
    "# function for generating a histogram! You don't need to know how it works, but feel free to see what each line does\n",
    "def histogram_maker(dataset, separation_condition, plt, title, std=None, axis=False, show_hist=True):\n",
    "    # gets ham texts from dataset\n",
    "    hams = dataset.where(\"Class\", are.equal_to(\"ham\"))\n",
    "    ham_texts = hams.column(\"Text\")\n",
    "    \n",
    "    # gets spam texts from dataset\n",
    "    spams = dataset.where(\"Class\", are.equal_to(\"spam\"))\n",
    "    spam_texts = spams.column(\"Text\")\n",
    "    \n",
    "    # calculate/collect values (from the seperation_condition) for each ham text\n",
    "    ham_vals = []\n",
    "    for count in range(len(ham_texts)):\n",
    "        ham_vals += [separation_condition(ham_texts[count])]\n",
    "        \n",
    "    # calculate/collect values (from the seperation_condition) for each spam text\n",
    "    spam_vals = []\n",
    "    for count in range(len(spam_texts)):\n",
    "        spam_vals += [separation_condition(spam_texts[count])]\n",
    "\n",
    "    # calculate bin range for histogram\n",
    "    all_vals_upper = ham_vals + spam_vals\n",
    "    bins = np.linspace(min(all_vals_upper), np.percentile(all_vals_upper, 99), 40)\n",
    "    \n",
    "    # plot histogram\n",
    "    if show_hist:\n",
    "        if not axis:\n",
    "            plt.figure(num=None, figsize=(7, 4), dpi=80, facecolor='w', edgecolor='k')\n",
    "        plt.hist(ham_vals, alpha=.5, bins=bins, color=\"#785EF0\", label=\"ham\", density=True)\n",
    "        plt.hist(spam_vals, alpha=.5, bins=bins, color=\"#FFB000\", label=\"spam\", density=True)\n",
    "        if not axis:\n",
    "            plt.xlabel(title)\n",
    "            plt.ylabel(\"Frequency\")\n",
    "        else:\n",
    "            plt.set_xlabel(title)\n",
    "            plt.set_ylabel(\"Frequency\")\n",
    "        plt.legend()\n",
    "    \n",
    "    # calculate and return the calculated values for ham and spam DIVIDED BY the standard deviation. This is to equally \n",
    "    # weigh each statistic when making the k-nearest neighbors plot \n",
    "    if std is None:\n",
    "        stdev = np.std(all_vals_upper)\n",
    "    else: \n",
    "        stdev = std\n",
    "    ham_vals = [i/stdev for i in ham_vals]\n",
    "    spam_vals = [i/stdev for i in spam_vals]\n",
    "\n",
    "    return (ham_vals, spam_vals, stdev)\n",
    "\n",
    "# define a function that returns the number of Upper case letters given a text\n",
    "number_of_uppers_f = (lambda text : (len([i for i in text if i.isupper()])))\n",
    "# generate histogram\n",
    "ham_vals_number_uppers, spam_vals_number_uppers, std_number_uppers = histogram_maker(training, number_of_uppers_f, plt, \"Number of Uppers\")"
   ]
  },
  {
   "cell_type": "markdown",
   "metadata": {},
   "source": [
    "From the histogram above, there is a statistical difference in the number of uppercase letters between spam and ham text messsages. However, this could be because perhaps spam messages are longer in general, and so have a higher number of upper case letters as a result. Next, lets try looking at the ratio of uppercase letters within a message (ie number of uppercase letters divided by the number of characters in a text):"
   ]
  },
  {
   "cell_type": "code",
   "execution_count": 10,
   "metadata": {},
   "outputs": [
    {
     "data": {
      "image/png": "[encoded data removed]",
      "text/plain": [
       "<Figure size 560x320 with 1 Axes>"
      ]
     },
     "metadata": {},
     "output_type": "display_data"
    }
   ],
   "source": [
    "# define a function that returns the ratio of Upper case letters given a text\n",
    "ratio_of_uppers_f = (lambda j : (len([i for i in j if i.isupper()])/len(j)))\n",
    "# generate histogram\n",
    "ham_vals_ratio_uppers, spam_vals_ratio_uppers, std_ratio_uppers = histogram_maker(training, ratio_of_uppers_f, plt, \"Ratio of Uppers\")"
   ]
  },
  {
   "cell_type": "markdown",
   "metadata": {},
   "source": [
    "As you can see, it does indeed bring the spam distribution closer to the ham histogram. However, there still is a noticable shift in peaks between spam and ham messages.\n",
    "\n",
    "This is one of many aspects that can differentiate spam vs ham messages. Discuss other features we can use to distinguish spam vs ham message in the box below."
   ]
  },
  {
   "cell_type": "markdown",
   "metadata": {},
   "source": [
    "(Double-click here)"
   ]
  },
  {
   "cell_type": "markdown",
   "metadata": {},
   "source": [
    "How about we choose a specific group of characters to classify these messages; say we have certain \"target characters,\" and we count the number of instances those characters are in the messages. We can expect a distinction between spam and ham messages, assuming we chose the right characters. We will be having you choosing some distinct characters to classify these messages. Here are some helpful guidelines in choosing these characters to make the best classifier:\n",
    "\n",
    "* DO NOT chose half of the characters that are common among one group, then the other half among the other. Eg, do not choose 3 characters that are associated with ham messages, then 3 characters that are associated with spam messages. These characters are to be weighted EQUALY, and so getting a number like 3 could mean a message is either spam or ham. Try to find characters that are all associated with ham messages, or characters that are associated with spam messages.\n",
    "    \n",
    "* Try experiementing with the number of characters to choose, and which characters to choose!\n",
    "    \n",
    "* Consider maybe looking at punctuation, numbers, or even symbols.\n",
    "    \n",
    "* Need help thinking of words? Try going to the data folder and opening SMSSpamCollection.txt to read some spam/ham messages for inspiration!"
   ]
  },
  {
   "cell_type": "code",
   "execution_count": 11,
   "metadata": {},
   "outputs": [
    {
     "name": "stdout",
     "output_type": "stream",
     "text": [
      "['?', '!', '*', 'A', 'B', 'C', 'D', 'E', 'F', 'G', 'H', 'I', 'J', 'K', 'L', 'M', 'N', 'O', 'P', 'Q', 'R', 'S', 'T', 'U', 'V', 'W', 'X', 'Y', 'Z', '0', '1', '2', '3', '4', '5', '6', '7', '8', '9']\n"
     ]
    }
   ],
   "source": [
    "# targets = []\n",
    "# example targets list should look something like [\"a\", \"B\", \"&\", \"7\"]\n",
    "targets = [\"?\", \"!\", \"*\"] + [i for i in string.ascii_uppercase] + [str(i) for i in range(0, 10)]\n",
    "print(targets)"
   ]
  },
  {
   "cell_type": "code",
   "execution_count": 12,
   "metadata": {},
   "outputs": [
    {
     "data": {
      "image/png": "[encoded data removed]",
      "text/plain": [
       "<Figure size 560x320 with 1 Axes>"
      ]
     },
     "metadata": {},
     "output_type": "display_data"
    }
   ],
   "source": [
    "# define a function that returns the number of target characters given a text\n",
    "num_of_targets_f = (lambda j : (len([i for i in j if i in targets])))\n",
    "# generate histogram\n",
    "ham_vals_num_targets, spam_vals_num_targets, std_num_targets = histogram_maker(training, num_of_targets_f, plt, \"Number of targets\")"
   ]
  },
  {
   "cell_type": "code",
   "execution_count": 13,
   "metadata": {},
   "outputs": [
    {
     "data": {
      "image/png": "[encoded data removed]",
      "text/plain": [
       "<Figure size 560x320 with 1 Axes>"
      ]
     },
     "metadata": {},
     "output_type": "display_data"
    }
   ],
   "source": [
    "# define a function that returns the ratio of target characters given a text\n",
    "ratio_of_targets_f = (lambda j : (len([i for i in j if i in targets])/len(j)))\n",
    "# generate histogram\n",
    "ham_vals_ratio_targets, spam_vals_ratio_targets, std_ratio_targets = histogram_maker(training, ratio_of_targets_f, plt, \"Ratio of targets\")"
   ]
  },
  {
   "cell_type": "markdown",
   "metadata": {},
   "source": [
    "Now, let's look more general characteristics of the messages. For example, let's check out the distribution of the number of words and characters in a message:"
   ]
  },
  {
   "cell_type": "code",
   "execution_count": 14,
   "metadata": {},
   "outputs": [
    {
     "data": {
      "image/png": "[encoded data removed]",
      "text/plain": [
       "<Figure size 560x320 with 1 Axes>"
      ]
     },
     "metadata": {},
     "output_type": "display_data"
    }
   ],
   "source": [
    "# define a function that returns the number of words given a text\n",
    "num_words_f = (lambda j : (len([i for i in j.split(\" \")])))\n",
    "# generate histogram\n",
    "ham_vals_num_words, spam_vals_num_words, std_num_words = histogram_maker(training, num_words_f, plt, \"Number of words\")"
   ]
  },
  {
   "cell_type": "code",
   "execution_count": 15,
   "metadata": {},
   "outputs": [
    {
     "data": {
      "image/png": "[encoded data removed]",
      "text/plain": [
       "<Figure size 560x320 with 1 Axes>"
      ]
     },
     "metadata": {},
     "output_type": "display_data"
    }
   ],
   "source": [
    "# define a function that returns the number of characters given a text\n",
    "num_chara_f = (lambda j : (len(j)))\n",
    "# generate histogram\n",
    "ham_vals_num_chara, spam_vals_num_chara, std_num_chara = histogram_maker(training, num_chara_f, plt, \"Number of characters\")"
   ]
  },
  {
   "cell_type": "markdown",
   "metadata": {},
   "source": [
    "If we combine both of these statistics, we can find the average characters per word attribute:"
   ]
  },
  {
   "cell_type": "code",
   "execution_count": 16,
   "metadata": {},
   "outputs": [
    {
     "data": {
      "image/png": "[encoded data removed]",
      "text/plain": [
       "<Figure size 560x320 with 1 Axes>"
      ]
     },
     "metadata": {},
     "output_type": "display_data"
    }
   ],
   "source": [
    "# define a function that returns the average number of characters per word given a text\n",
    "avg_len_word_f = (lambda j : (len([i for i in j if i is not \" \"]))/(len([i for i in j.split(\" \")])))\n",
    "# generate histogram\n",
    "ham_vals_avg_len_word, spam_vals_avg_len_word, std_avg_len_word = histogram_maker(training, avg_len_word_f, plt, \"Average number of characters per word\")"
   ]
  },
  {
   "cell_type": "markdown",
   "metadata": {},
   "source": [
    "Now, if we plot one one attribute vs another, cluster the spam messages against the ham messages. Try plying around with the widget below to see which combination of attributes best differnetiate the spam messages vs the ham messages!"
   ]
  },
  {
   "cell_type": "code",
   "execution_count": 17,
   "metadata": {},
   "outputs": [
    {
     "data": {
      "application/vnd.jupyter.widget-view+json": {
       "model_id": "19f8ab3c2e984f9784ce90a5681d1f56",
       "version_major": 2,
       "version_minor": 0
      },
      "text/plain": [
       "interactive(children=(Dropdown(description='x', options=(('Number of Uppers', 0), ('Ratio of Uppers', 1), ('Nu…"
      ]
     },
     "metadata": {},
     "output_type": "display_data"
    }
   ],
   "source": [
    "seps = [[('Number of Uppers', 0), ham_vals_number_uppers, spam_vals_number_uppers, std_number_uppers, number_of_uppers_f], \n",
    "        [('Ratio of Uppers', 1), ham_vals_ratio_uppers, spam_vals_ratio_uppers, std_ratio_uppers, ratio_of_uppers_f], \n",
    "        [('Number of Targets', 2), ham_vals_num_targets, spam_vals_num_targets, std_num_targets, num_of_targets_f],\n",
    "        [('Ratio of Targets', 3), ham_vals_ratio_targets, spam_vals_ratio_targets, std_ratio_targets, ratio_of_targets_f], \n",
    "        [('Number of Words', 4), ham_vals_num_words, spam_vals_num_words, std_num_words, num_words_f], \n",
    "        [('Number of Characters', 5), ham_vals_num_chara, spam_vals_num_chara, std_num_chara, num_chara_f],\n",
    "        [('Average len of words', 6), ham_vals_avg_len_word, spam_vals_avg_len_word, std_avg_len_word, avg_len_word_f],]\n",
    "\n",
    "def plot_scatter(x, y):\n",
    "    ham_x = seps[x][1]\n",
    "    spam_x = seps[x][2]\n",
    "    \n",
    "    ham_y = seps[y][1]\n",
    "    spam_y = seps[y][2]\n",
    "    plt.figure(num=None, figsize=(11, 11), dpi=80, facecolor='w', edgecolor='k')\n",
    "    \n",
    "    ax3 = plt.subplot2grid((3, 3), (1, 0), colspan=2, rowspan=2)\n",
    "    ax2 = plt.subplot2grid((3, 3), (1, 2), rowspan=1)\n",
    "    ax1 = plt.subplot2grid((3, 3), (2, 2), rowspan=1)\n",
    "    \n",
    "    histogram_maker(training, seps[x][4], ax1, seps[x][0][0], axis=True)\n",
    "    histogram_maker(training, seps[y][4], ax2, seps[y][0][0], axis=True)\n",
    "    \n",
    "    ax3.scatter(ham_x, ham_y, color=\"#785EF0\", alpha=0.4, label=\"ham message\")\n",
    "    ax3.scatter(spam_x, spam_y, color=\"#FFB000\", alpha=0.4, label=\"spam message\")\n",
    "\n",
    "    ax3.scatter([np.mean(ham_x)], [np.mean(ham_y)], marker=\"o\", s=100, color=\"#785EF0\", edgecolors=\"black\", linewidths=2, label=\"centroid of ham\")\n",
    "    ax3.scatter([np.mean(spam_x)], [np.mean(spam_y)], marker=\"o\", s=100, color=\"#FFB000\", edgecolors=\"black\", linewidths=2, label=\"centroid of spam\")\n",
    "    \n",
    "    ax3.set_xlabel(seps[x][0][0] + \" (Normalized)\")\n",
    "    ax3.set_ylabel(seps[y][0][0] + \" (Normalized)\")\n",
    "    ax3.legend()\n",
    "    \n",
    "    ax3.axis([np.min(ham_x+spam_x), np.percentile(ham_x+spam_x, 99.9), np.min(ham_y+spam_y), np.percentile(ham_y+spam_y, 99.9)])\n",
    "    plt.tight_layout()\n",
    "\n",
    "interact(plot_scatter, x=[i[0] for i in seps], y=[i[0] for i in seps]);"
   ]
  },
  {
   "cell_type": "markdown",
   "metadata": {},
   "source": [
    "K-Nearest Neighbors is an algorithm that makes predictions using previous examples. In our data, we find the SMS messages in the training set that are \"nearest\" to an SMS we want to filter as spam or ham. The SMS is then classified based on the how the majority of nearest messages are classified. \n",
    "\n",
    "Each message is plotted using a pair of attributes (called features) from a training dataset and identifies each attribute as one of two categories (called labels). In the spam dataset, the labels are \"spam\" and \"ham.\" "
   ]
  },
  {
   "cell_type": "code",
   "execution_count": 20,
   "metadata": {},
   "outputs": [],
   "source": [
    "attributes = [3, 4]"
   ]
  },
  {
   "cell_type": "code",
   "execution_count": 21,
   "metadata": {},
   "outputs": [
    {
     "name": "stdout",
     "output_type": "stream",
     "text": [
      "k: 3\n",
      "1st attribute: Ratio of Targets\n",
      "2nd attribute: Number of Words\n",
      "precision: 0.9619450317124736\n",
      "recall: 0.978494623655914\n",
      "accuracy: 0.948339483394834\n"
     ]
    },
    {
     "data": {
      "text/html": [
       "<table border=\"1\" class=\"dataframe\">\n",
       "    <thead>\n",
       "        <tr>\n",
       "            <th> </th> <th>predicted ham</th> <th>predicted spam</th>\n",
       "        </tr>\n",
       "    </thead>\n",
       "    <tbody>\n",
       "        <tr>\n",
       "            <td>actual ham </td> <td>455          </td> <td>10            </td>\n",
       "        </tr>\n",
       "        <tr>\n",
       "            <td>actual spam</td> <td>18           </td> <td>59            </td>\n",
       "        </tr>\n",
       "    </tbody>\n",
       "</table>"
      ],
      "text/plain": [
       "            | predicted ham | predicted spam\n",
       "actual ham  | 455           | 10\n",
       "actual spam | 18            | 59"
      ]
     },
     "execution_count": 21,
     "metadata": {},
     "output_type": "execute_result"
    }
   ],
   "source": [
    "def k_nearest_neighbors(testing, seps, attribute1, attribute2, k):\n",
    "    attributes = [attribute1, attribute2]\n",
    "    total_x = seps[attribute1][1]+seps[attribute1][2]\n",
    "    total_y = seps[attribute2][1]+seps[attribute2][2]\n",
    "    ham_length=len(seps[attributes[0]][1])\n",
    "\n",
    "    all_points = []\n",
    "    for i in range(len(total_x)):\n",
    "        if i < ham_length:\n",
    "            all_points += [[total_x[i], total_y[i], True]]\n",
    "        else:\n",
    "            all_points += [[total_x[i], total_y[i], False]]\n",
    "            \n",
    "    texts = testing.column(\"Text\")\n",
    "    ham_vals_x, spam_vals_x = histogram_maker(testing, seps[attribute1][4], plt, \" \", \n",
    "                                              show_hist=False, std=seps[attribute1][3])[0:2]\n",
    "    ham_vals_y, spam_vals_y = histogram_maker(testing, seps[attributes[1]][4], plt, \" \", \n",
    "                                              show_hist=False, std=seps[attribute2][3])[0:2]\n",
    "    \n",
    "    test_points_ham = [[ham_vals_x[i], ham_vals_y[i], True] for i in range(0, len(ham_vals_x))]\n",
    "    test_points_spam = [[spam_vals_x[i], spam_vals_y[i], False] for i in range(0, len(spam_vals_x))]\n",
    "    test_points = test_points_ham + test_points_spam\n",
    "    \n",
    "    cor_ham = 0\n",
    "    cor_spam = 0\n",
    "    mislabel_as_ham = 0\n",
    "    mislabel_as_spam = 0\n",
    "    for point in test_points:\n",
    "        def distance(x, y):\n",
    "           return ((x-point[0])**2 + (y-point[1])**2)**0.5\n",
    "        distance_distinction = [[distance(x, y), z] for x,y,z in all_points]\n",
    "        distance_distinction.sort()\n",
    "        top = distance_distinction[0:k]\n",
    "        hams = np.sum([i[1] for i in top])\n",
    "        if (hams >= k//2+1) and (point[2]):\n",
    "            cor_ham+=1\n",
    "        elif (hams >= k//2+1) and not (point[2]):\n",
    "            mislabel_as_ham+=1\n",
    "        elif (hams < k//2+1) and not (point[2]):\n",
    "            cor_spam+=1\n",
    "        elif (hams < k//2+1) and (point[2]):\n",
    "            mislabel_as_spam+=1\n",
    "\n",
    "    precision = (cor_ham)/(cor_ham+mislabel_as_ham)\n",
    "    recall = (cor_ham)/(cor_ham+mislabel_as_spam)\n",
    "    accuracy = (cor_ham+cor_spam)/(cor_ham+cor_spam+mislabel_as_ham+mislabel_as_spam)\n",
    "\n",
    "    print(\"k: {}\".format(k))\n",
    "    print(\"1st attribute: {}\".format(seps[attribute1][0][0]))\n",
    "    print(\"2nd attribute: {}\".format(seps[attribute2][0][0]))\n",
    "    print(\"precision: {}\".format(precision))\n",
    "    print(\"recall: {}\".format(recall))\n",
    "    print(\"accuracy: {}\".format(accuracy))\n",
    "\n",
    "    t = Table()\n",
    "    return t.with_columns(\" \", [\"actual ham\", \"actual spam\"], \"predicted ham\", [cor_ham, mislabel_as_ham], \n",
    "                          \"predicted spam\", [mislabel_as_spam, cor_spam])\n",
    "\n",
    "k_nearest_neighbors(testing, seps, attributes[0], attributes[1], 3)"
   ]
  },
  {
   "cell_type": "markdown",
   "metadata": {},
   "source": [
    "### <font color = #2E5266>Feature Histograms</font>\n",
    "\n",
    "<img style=\"display:inline;\" src='data/img/numChar.png' width=45%>\n",
    "<img style=\"display:inline;\" src='data/img/numTargets.png' width=45%>\n",
    "<img style=\"display:inline;\" src='data/img/numUpprs.png' width=45%>\n",
    "<img style=\"display:inline;\" src='data/img/trgtRatio.png' width=45%>\n",
    "<img style=\"display:inline;\" src='data/img/upprRatio.png' width=45%>\n",
    "<img style=\"display:inline;\" src='data/img/avgChar.png' width=45%>"
   ]
  },
  {
   "cell_type": "code",
   "execution_count": 29,
   "metadata": {},
   "outputs": [
    {
     "data": {
      "application/vnd.jupyter.widget-view+json": {
       "model_id": "7d3df355c7c54a5e97086bcd4ce1f1d0",
       "version_major": 2,
       "version_minor": 0
      },
      "text/plain": [
       "interactive(children=(Dropdown(description='attribute1', options=(('Number of Uppers', 0), ('Ratio of Uppers',…"
      ]
     },
     "metadata": {},
     "output_type": "display_data"
    }
   ],
   "source": [
    "interact(k_nearest_neighbors, testing=fixed(testing), seps=fixed(seps), attribute1=[i[0] for i in seps], \n",
    "         attribute2=[i[0] for i in seps], k=widgets.IntSlider(min=1, max=1259, step=2, value=3, \n",
    "                                                              layout=Layout(width='80%')));"
   ]
  },
  {
   "cell_type": "markdown",
   "metadata": {},
   "source": [
    "The output above will show a confusion matrix for our selected features' predictions. \n",
    "\n",
    "* True positives - The top left cell counts messages that we predicted were ham, and actually are ham. \n",
    "* True negatives - The bottom right cell counts accurately predicted spam messages. \n",
    "* Type I Error - The top right counts messages classified as spam, but were actually ham, \n",
    "* Type II Error - The bottom left counts when we predicted ham, but it was actually spam. "
   ]
  },
  {
   "cell_type": "code",
   "execution_count": 25,
   "metadata": {},
   "outputs": [
    {
     "data": {
      "text/html": [
       "<table border=\"1\" class=\"dataframe\">\n",
       "    <thead>\n",
       "        <tr>\n",
       "            <th>L-CORE</th> <th>L-SURF</th> <th>L02</th> <th>L-BP</th> <th>SURF-STBL</th> <th>CORE-STBL</th> <th>BP-STBL</th> <th>COMFORT</th> <th>ADM-DECS</th>\n",
       "        </tr>\n",
       "    </thead>\n",
       "    <tbody>\n",
       "        <tr>\n",
       "            <td>mid   </td> <td>low   </td> <td>excellent</td> <td>mid </td> <td>stable   </td> <td>stable   </td> <td>stable    </td> <td>15     </td> <td>A       </td>\n",
       "        </tr>\n",
       "        <tr>\n",
       "            <td>mid   </td> <td>high  </td> <td>excellent</td> <td>high</td> <td>stable   </td> <td>stable   </td> <td>stable    </td> <td>10     </td> <td>S       </td>\n",
       "        </tr>\n",
       "        <tr>\n",
       "            <td>high  </td> <td>low   </td> <td>excellent</td> <td>high</td> <td>stable   </td> <td>stable   </td> <td>mod-stable</td> <td>10     </td> <td>A       </td>\n",
       "        </tr>\n",
       "        <tr>\n",
       "            <td>mid   </td> <td>low   </td> <td>good     </td> <td>high</td> <td>stable   </td> <td>unstable </td> <td>mod-stable</td> <td>15     </td> <td>A       </td>\n",
       "        </tr>\n",
       "        <tr>\n",
       "            <td>mid   </td> <td>mid   </td> <td>excellent</td> <td>high</td> <td>stable   </td> <td>stable   </td> <td>stable    </td> <td>10     </td> <td>A       </td>\n",
       "        </tr>\n",
       "    </tbody>\n",
       "</table>\n",
       "<p>... (85 rows omitted)</p>"
      ],
      "text/plain": [
       "<IPython.core.display.HTML object>"
      ]
     },
     "metadata": {},
     "output_type": "display_data"
    }
   ],
   "source": [
    "# Load post-op data.\n",
    "raw_postop_data = Table.read_table(\"data/post-operative.csv\")\n",
    "# Show post-op data\n",
    "raw_data.show(5)"
   ]
  },
  {
   "cell_type": "code",
   "execution_count": null,
   "metadata": {},
   "outputs": [],
   "source": []
  }
 ],
 "metadata": {
  "kernelspec": {
   "display_name": "Python 3",
   "language": "python",
   "name": "python3"
  },
  "language_info": {
   "codemirror_mode": {
    "name": "ipython",
    "version": 3
   },
   "file_extension": ".py",
   "mimetype": "text/x-python",
   "name": "python",
   "nbconvert_exporter": "python",
   "pygments_lexer": "ipython3",
   "version": "3.7.3"
  }
 },
 "nbformat": 4,
 "nbformat_minor": 2
}
