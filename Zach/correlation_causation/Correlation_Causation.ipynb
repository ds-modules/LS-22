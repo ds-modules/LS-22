{
 "cells": [
  {
   "cell_type": "markdown",
   "metadata": {},
   "source": [
    "\n",
    "\n",
    "# <center><font color = #2E5266>Correlation and Causation</font></center>\n",
    "\n",
    "\"Correlation doesn't imply causation.\" It's a cautionary phrase passed down to nearly every new scientist as they notice patterns in the world: just because two phenomena are related does not mean that one causes the other. \n",
    "\n",
    "In the age of \"Big Data\", advanced in storage technology and machine learning have allowed us to see more patterns than ever. What does this mean for establishing causality?\n",
    "\n",
    "In this notebook, we will explore how modern thinkers approach questions of causality using the lens of data science. Then, we will critique a case study where scientists use large-scale data to answer a very topical question- is too much screen time corrupting America's youth?\n",
    "\n",
    "***\n",
    "\n",
    "First we will load some Python libraries to help us run the code we'll be using for this notebook! No need to edit or alter anything, just hit `shift` + `enter` to run it!"
   ]
  },
  {
   "cell_type": "code",
   "execution_count": 43,
   "metadata": {},
   "outputs": [],
   "source": [
    "# This cell block just loads in helpful libraries that will help us run the code we need to!\n",
    "from datascience import * # The data science library provides helpful tools for loading tables!\n",
    "import matplotlib.pyplot as plt # This library will help us create plots!\n",
    "%matplotlib inline\n",
    "import ipywidgets as widgets # Allows for us to create interactive user interfaces where you won't have to code!\n",
    "from ipywidgets import interact, fixed, Layout\n",
    "import numpy as np # Mathematical functions\n",
    "import string # Text functions\n",
    "import random # Random number generators!\n",
    "import sklearn.metrics as sk # Machine learning models!\n",
    "import os\n",
    "import pandas as pd\n",
    "from scipy.stats import pearsonr"
   ]
  },
  {
   "cell_type": "markdown",
   "metadata": {},
   "source": [
    "***\n",
    "### <font color = #2E5266>Correlation and Causation: Review</font>\n",
    "\n",
    "\n",
    "![XKCD correlation causation](https://imgs.xkcd.com/comics/correlation.png)\n",
    "<center><i><a href='https://xkcd.com/552/'>\"Correlation\" by Randall Munroe</a></i></center>\n",
    "    \n",
    "<br>\n",
    "\n",
    "When we talk about **correlation**, we're referring to an association or relationship between two variables. In statistics, correlation is also often used to refer to the _Pearson correlation coefficient_, or _r_, which measures the linear relationship between two variables.\n",
    "\n",
    "**Causation**, on the other hand, is when one variable has an effect on another. In technical terms:\n",
    "> X causes Y if and only if X and Y are correlated under interventions on X\n",
    "\n",
    "That is, one variable causes another when a change in the first results in a change in the second when all other factors are the same \n",
    "\n",
    "The traditional method for establishing causality is the **randomized controlled trial (RCT)**, which does just that- keeps all variables constant save for one, the _treatment_, to see whether changing it has a measurable effect on the _outcome_. However, the randomized controlled trial isn't the answer to all our problems.\n",
    "\n",
    "<div class=\"alert alert-info\"><b>DISCUSSION (2 minutes)</b> Two reasons when an RCT may not be used to establish causality may be when:\n",
    "    <ul>\n",
    "        <li> an RCT is impractical</li>\n",
    "        <li> an RCT is unethical </li>\n",
    "    </ul>\n",
    "    \n",
    "With a partner, see if you can think of at least one real-life scenario for each of these cases. \n",
    "    </div>\n",
    "    "
   ]
  },
  {
   "cell_type": "markdown",
   "metadata": {},
   "source": [
    "***\n",
    "### <font color = #2E5266>Causality in the Age of Big Data</font>\n",
    "\n",
    "Let's now turn to the \"big data\" approach to establishing causality. Data science has two potentially game-changing tools at its disposal here.\n",
    "\n",
    "First, data. In the last few decades, data storage has become very cheap and very accessible in large amounts, allowing individuals and corporations to collect and store vast amounts of data.\n",
    "\n",
    "Second, machine learning methods enable data scientists to find patterns in these vast quantities of data that would be otherwise nearly impossible for a human to discover.\n",
    "\n",
    "Consequences: \n",
    "- correlations can be found relatively quickly due to the sheer amount of data available\n",
    "\n",
    "side note:\n",
    "- diff btwn how computers see patterns and how humans see patterns\n",
    "- compys can only see patterns we tell them to look for\n",
    "- we can see many sorts of patterns\n",
    "- we tend to ascribe causality\n",
    "- compys cannot ascribe causal agents or ID likely causes (unless we tell them specifically what to look for, which is just another pattern to find, i.e. more correlations)"
   ]
  },
  {
   "cell_type": "code",
   "execution_count": 75,
   "metadata": {},
   "outputs": [],
   "source": [
    "# set figure size\n",
    "plt.rcParams[\"figure.figsize\"] = [6,6]"
   ]
  },
  {
   "cell_type": "code",
   "execution_count": 74,
   "metadata": {},
   "outputs": [
    {
     "data": {
      "application/vnd.jupyter.widget-view+json": {
       "model_id": "3508572c2e1c4ecba77a7c7e4bacc158",
       "version_major": 2,
       "version_minor": 0
      },
      "text/plain": [
       "interactive(children=(ToggleButtons(description='dataset_num', options=(1, 2, 3, 4, 5, 6, 7, 8, 9, 10, 11, 12,…"
      ]
     },
     "metadata": {},
     "output_type": "display_data"
    }
   ],
   "source": [
    "# create the widget\n",
    "def analyze_data(dataset_num):\n",
    "    data = pd.read_csv(\"https://raw.githubusercontent.com/lockedata/datasauRus/master/inst/extdata/DatasaurusDozen.tsv\", \n",
    "            index_col=\"dataset\", sep='\\t')\n",
    "    dataset_list = data.index[::-1].unique()\n",
    "    data = data.loc[dataset_list[dataset_num -1], :]\n",
    "    sns.scatterplot(data=data, x=\"x\", y=\"y\");\n",
    "    plt.figure(figsize=(8,8));\n",
    "    plt.show()\n",
    "    print(\"x mean = \", data.x.mean())\n",
    "    print(\"y mean = \", data.y.mean())\n",
    "    print(\"standard deviation x = \", np.std(data.x))\n",
    "    print(\"standard deviation y = \", np.std(data.y))\n",
    "    print(\"correlation =  \", pearsonr(data.x, data.y)[0])\n",
    "    print(\"p-value = \", pearsonr(data.x, data.y)[1])\n",
    "\n",
    "# create the sliders for the widget\n",
    "dataset_selection_widget = widgets.ToggleButtons(options=range(1, 14))\n",
    "\n",
    "# create the widget to view plots for different parameter values\n",
    "interact(analyze_data, dataset_num=dataset_selection_widget, show_graph=graph_widget);"
   ]
  },
  {
   "cell_type": "markdown",
   "metadata": {},
   "source": [
    "Example of wicked high correlation found via brute force\n"
   ]
  },
  {
   "cell_type": "code",
   "execution_count": 102,
   "metadata": {},
   "outputs": [],
   "source": [
    "food = pd.read_excel(\"https://www2.census.gov/library/publications/2011/compendia/statab/131ed/tables/12s0217.xls\",\n",
    "                    header=3)\n",
    "moz=food.iloc[32,6:]"
   ]
  },
  {
   "cell_type": "code",
   "execution_count": 99,
   "metadata": {},
   "outputs": [
    {
     "data": {
      "text/html": [
       "<div>\n",
       "<style scoped>\n",
       "    .dataframe tbody tr th:only-of-type {\n",
       "        vertical-align: middle;\n",
       "    }\n",
       "\n",
       "    .dataframe tbody tr th {\n",
       "        vertical-align: top;\n",
       "    }\n",
       "\n",
       "    .dataframe thead th {\n",
       "        text-align: right;\n",
       "    }\n",
       "</style>\n",
       "<table border=\"1\" class=\"dataframe\">\n",
       "  <thead>\n",
       "    <tr style=\"text-align: right;\">\n",
       "      <th></th>\n",
       "      <th>2000</th>\n",
       "      <th>2001</th>\n",
       "      <th>2002</th>\n",
       "      <th>2003</th>\n",
       "      <th>2004</th>\n",
       "      <th>2005</th>\n",
       "      <th>2006</th>\n",
       "      <th>2007</th>\n",
       "      <th>2008</th>\n",
       "      <th>2009</th>\n",
       "    </tr>\n",
       "  </thead>\n",
       "  <tbody>\n",
       "    <tr>\n",
       "      <th>24</th>\n",
       "      <td>480</td>\n",
       "      <td>501</td>\n",
       "      <td>540</td>\n",
       "      <td>552</td>\n",
       "      <td>547</td>\n",
       "      <td>622</td>\n",
       "      <td>655</td>\n",
       "      <td>701</td>\n",
       "      <td>712</td>\n",
       "      <td>708</td>\n",
       "    </tr>\n",
       "  </tbody>\n",
       "</table>\n",
       "</div>"
      ],
      "text/plain": [
       "   2000 2001 2002 2003 2004 2005 2006 2007 2008 2009\n",
       "24  480  501  540  552  547  622  655  701  712  708"
      ]
     },
     "execution_count": 99,
     "metadata": {},
     "output_type": "execute_result"
    }
   ],
   "source": [
    "nsf = pd.read_excel(\"https://wayback.archive-it.org/5902/20181003231608/https://www.nsf.gov/statistics/infbrief/nsf11305/tab1.xls\",\n",
    "                   header=1)\n",
    "ce = nsf[nsf.Field == \"Civil engineering \"].iloc[:, 2:]\n",
    "ce"
   ]
  },
  {
   "cell_type": "code",
   "execution_count": 113,
   "metadata": {},
   "outputs": [
    {
     "data": {
      "text/plain": [
       "(0.9509548098376948, 2.38545595655013e-05)"
      ]
     },
     "execution_count": 113,
     "metadata": {},
     "output_type": "execute_result"
    }
   ],
   "source": [
    "pearsonr(moz.tolist(), ce.loc[24, :].tolist())"
   ]
  },
  {
   "cell_type": "markdown",
   "metadata": {},
   "source": [
    "<font color = #2E5266>What if the data is reeeeeally big?</font>\n",
    "\n",
    "Can we do without RCT if data set it big enough?\n",
    "\n",
    "https://www.textbook.ds100.org/ch/02/design_srs_vs_big_data.html\n",
    "\n",
    "https://statistics.fas.harvard.edu/files/statistics-2/files/statistical_paradises_and_paradoxes.pdf"
   ]
  },
  {
   "cell_type": "markdown",
   "metadata": {},
   "source": [
    "### <font color = #2E5266>The Implications of Error</font>\n",
    "\n",
    "\n",
    "### <font color = #2E5266>Measuring Accuracy</font>\n"
   ]
  },
  {
   "cell_type": "markdown",
   "metadata": {},
   "source": [
    "## <font color = #2E5266>Case Study: Adolescent Health vs. Screen Time</font>"
   ]
  },
  {
   "cell_type": "markdown",
   "metadata": {},
   "source": [
    "background + intro\n",
    "\n",
    "hotly debated, lots of strong feelings\n",
    "\n",
    "lots of assumptions. what are yours?\n",
    "\n"
   ]
  },
  {
   "cell_type": "markdown",
   "metadata": {},
   "source": [
    "### <font color = #2E5266>Getting Started with the Data</font>\n",
    "\n",
    "source\n",
    "\n",
    "method (read about it)\n",
    "\n",
    "what steps were taken to try to make it easier to establish causality? What factors weren't they able to control for?"
   ]
  },
  {
   "cell_type": "code",
   "execution_count": 115,
   "metadata": {},
   "outputs": [
    {
     "data": {
      "text/html": [
       "<table border=\"1\" class=\"dataframe\">\n",
       "    <thead>\n",
       "        <tr>\n",
       "            <th>year</th> <th>age</th> <th>sex</th> <th>race7</th> <th>bmi</th> <th>sexid</th> <th>q8</th> <th>q9</th> <th>q10</th> <th>q11</th> <th>q12</th> <th>q13</th> <th>q14</th> <th>q15</th> <th>q16</th> <th>q17</th> <th>q18</th> <th>q19</th> <th>q20</th> <th>q21</th> <th>q22</th> <th>q23</th> <th>q24</th> <th>q25</th> <th>q26</th> <th>q27</th> <th>q28</th> <th>q29</th> <th>q30</th> <th>q31</th> <th>q32</th> <th>q33</th> <th>q34</th> <th>q35</th> <th>q36</th> <th>q37</th> <th>q38</th> <th>q39</th> <th>q40</th> <th>q41</th> <th>q42</th> <th>q43</th> <th>q44</th> <th>q45</th> <th>q46</th> <th>q47</th> <th>q48</th> <th>q49</th> <th>q50</th> <th>q51</th> <th>q52</th> <th>q53</th> <th>q54</th> <th>q55</th> <th>q56</th> <th>q57</th> <th>q58</th> <th>q59</th> <th>q60</th> <th>q61</th> <th>q62</th> <th>q63</th> <th>q64</th> <th>q65</th> <th>q68</th> <th>q69</th> <th>q70</th> <th>q71</th> <th>q72</th> <th>q73</th> <th>q74</th> <th>q75</th> <th>q76</th> <th>q77</th> <th>q78</th> <th>q79</th> <th>q80</th> <th>q81</th> <th>q82</th> <th>q83</th> <th>q84</th> <th>q85</th> <th>q86</th> <th>q87</th> <th>q88</th> <th>q89</th> <th>qbikehelmet</th> <th>qdrivemarijuana</th> <th>qcelldriving</th> <th>qpropertydamage</th> <th>qbullyweight</th> <th>qbullygender</th> <th>qbullygay</th> <th>qchokeself</th> <th>qcigschool</th> <th>qchewtobschool</th> <th>qalcoholschool</th> <th>qtypealcohol</th> <th>qhowmarijuana</th> <th>qmarijuanaschool</th> <th>qcurrentcocaine</th> <th>qcurrentheroin</th> <th>qcurrentmeth</th> <th>qhallucdrug</th> <th>qprescription30d</th> <th>qgenderexp</th> <th>qtaughtHIV</th> <th>qtaughtsexed</th> <th>qtaughtstd</th> <th>qtaughtcondom</th> <th>qtaughtbc</th> <th>qdietpop</th> <th>qcoffeetea</th> <th>qsportsdrink</th> <th>qenergydrink</th> <th>qsugardrink</th> <th>qwater</th> <th>qfastfood</th> <th>qfoodallergy</th> <th>qwenthungry</th> <th>qmusclestrength</th> <th>qsunscreenuse</th> <th>qindoortanning</th> <th>qsunburn</th> <th>qconcentrating</th> <th>qcurrentasthma</th> <th>qwheresleep</th> <th>qspeakenglish</th> <th>qtransgender</th>\n",
       "        </tr>\n",
       "    </thead>\n",
       "    <tbody>\n",
       "        <tr>\n",
       "            <td>2017</td> <td>5   </td> <td>2   </td> <td>6    </td> <td>18.0484</td> <td>1    </td> <td>5   </td> <td>1   </td> <td>2   </td> <td>2   </td> <td>1   </td> <td>1   </td> <td>1   </td> <td>1   </td> <td>1   </td> <td>1   </td> <td>1   </td> <td>2   </td> <td>1   </td> <td>1   </td> <td>1   </td> <td>2   </td> <td>2   </td> <td>2   </td> <td>2   </td> <td>2   </td> <td>1   </td> <td>1   </td> <td>2   </td> <td>1   </td> <td>1   </td> <td>1   </td> <td>2   </td> <td>1   </td> <td>1   </td> <td>1   </td> <td>1   </td> <td>1   </td> <td>1   </td> <td>1   </td> <td>1   </td> <td>1   </td> <td>1   </td> <td>1   </td> <td>1   </td> <td>1   </td> <td>1   </td> <td>1   </td> <td>1   </td> <td>1   </td> <td>1   </td> <td>1   </td> <td>1   </td> <td>1   </td> <td>1   </td> <td>1   </td> <td>2   </td> <td>2   </td> <td>1   </td> <td>1   </td> <td>1   </td> <td>1   </td> <td>1   </td> <td>1   </td> <td>2   </td> <td>2   </td> <td>2   </td> <td>3   </td> <td>2   </td> <td>1   </td> <td>1   </td> <td>2   </td> <td>3   </td> <td>3   </td> <td>8   </td> <td>6   </td> <td>2   </td> <td>4   </td> <td>4   </td> <td>4   </td> <td>1   </td> <td>2   </td> <td>1   </td> <td>2   </td> <td>4   </td> <td>2   </td> <td>nan        </td> <td>2              </td> <td>nan         </td> <td>nan            </td> <td>nan         </td> <td>nan         </td> <td>nan      </td> <td>nan       </td> <td>nan       </td> <td>nan           </td> <td>nan           </td> <td>nan         </td> <td>nan          </td> <td>nan             </td> <td>nan            </td> <td>nan           </td> <td>nan         </td> <td>1          </td> <td>nan             </td> <td>nan       </td> <td>nan       </td> <td>nan         </td> <td>nan       </td> <td>nan          </td> <td>nan      </td> <td>nan     </td> <td>nan       </td> <td>2           </td> <td>nan         </td> <td>nan        </td> <td>6     </td> <td>nan      </td> <td>2           </td> <td>nan        </td> <td>4              </td> <td>nan          </td> <td>1             </td> <td>6       </td> <td>1             </td> <td>nan           </td> <td>nan        </td> <td>1            </td> <td>nan         </td>\n",
       "        </tr>\n",
       "        <tr>\n",
       "            <td>2017</td> <td>5   </td> <td>2   </td> <td>3    </td> <td>30.4836</td> <td>1    </td> <td>5   </td> <td>2   </td> <td>2   </td> <td>2   </td> <td>1   </td> <td>1   </td> <td>1   </td> <td>2   </td> <td>1   </td> <td>2   </td> <td>1   </td> <td>2   </td> <td>3   </td> <td>3   </td> <td>2   </td> <td>2   </td> <td>1   </td> <td>1   </td> <td>2   </td> <td>2   </td> <td>nan </td> <td>nan </td> <td>2   </td> <td>1   </td> <td>1   </td> <td>1   </td> <td>2   </td> <td>1   </td> <td>1   </td> <td>1   </td> <td>1   </td> <td>2   </td> <td>2   </td> <td>6   </td> <td>1   </td> <td>1   </td> <td>1   </td> <td>1   </td> <td>2   </td> <td>6   </td> <td>1   </td> <td>1   </td> <td>1   </td> <td>1   </td> <td>1   </td> <td>1   </td> <td>1   </td> <td>1   </td> <td>1   </td> <td>1   </td> <td>2   </td> <td>1   </td> <td>4   </td> <td>3   </td> <td>2   </td> <td>3   </td> <td>2   </td> <td>4   </td> <td>4   </td> <td>1   </td> <td>2   </td> <td>7   </td> <td>2   </td> <td>7   </td> <td>3   </td> <td>3   </td> <td>2   </td> <td>7   </td> <td>5   </td> <td>1   </td> <td>4   </td> <td>7   </td> <td>4   </td> <td>1   </td> <td>3   </td> <td>2   </td> <td>2   </td> <td>2   </td> <td>3   </td> <td>3   </td> <td>nan        </td> <td>2              </td> <td>nan         </td> <td>nan            </td> <td>nan         </td> <td>nan         </td> <td>nan      </td> <td>nan       </td> <td>nan       </td> <td>nan           </td> <td>nan           </td> <td>nan         </td> <td>nan          </td> <td>nan             </td> <td>nan            </td> <td>nan           </td> <td>nan         </td> <td>1          </td> <td>nan             </td> <td>nan       </td> <td>nan       </td> <td>nan         </td> <td>nan       </td> <td>nan          </td> <td>nan      </td> <td>nan     </td> <td>nan       </td> <td>2           </td> <td>nan         </td> <td>nan        </td> <td>7     </td> <td>nan      </td> <td>1           </td> <td>nan        </td> <td>4              </td> <td>nan          </td> <td>1             </td> <td>1       </td> <td>2             </td> <td>nan           </td> <td>nan        </td> <td>1            </td> <td>nan         </td>\n",
       "        </tr>\n",
       "        <tr>\n",
       "            <td>2017</td> <td>5   </td> <td>2   </td> <td>2    </td> <td>14.6645</td> <td>nan  </td> <td>5   </td> <td>1   </td> <td>1   </td> <td>1   </td> <td>1   </td> <td>1   </td> <td>1   </td> <td>1   </td> <td>1   </td> <td>1   </td> <td>1   </td> <td>2   </td> <td>1   </td> <td>1   </td> <td>1   </td> <td>1   </td> <td>2   </td> <td>1   </td> <td>2   </td> <td>2   </td> <td>1   </td> <td>1   </td> <td>nan </td> <td>nan </td> <td>1   </td> <td>1   </td> <td>2   </td> <td>1   </td> <td>1   </td> <td>1   </td> <td>1   </td> <td>1   </td> <td>2   </td> <td>1   </td> <td>1   </td> <td>1   </td> <td>1   </td> <td>1   </td> <td>1   </td> <td>1   </td> <td>1   </td> <td>1   </td> <td>1   </td> <td>1   </td> <td>1   </td> <td>1   </td> <td>1   </td> <td>1   </td> <td>1   </td> <td>1   </td> <td>2   </td> <td>2   </td> <td>1   </td> <td>1   </td> <td>1   </td> <td>1   </td> <td>1   </td> <td>1   </td> <td>nan </td> <td>2   </td> <td>nan </td> <td>nan </td> <td>nan </td> <td>nan </td> <td>nan </td> <td>nan </td> <td>nan </td> <td>2   </td> <td>6   </td> <td>4   </td> <td>5   </td> <td>7   </td> <td>6   </td> <td>1   </td> <td>1   </td> <td>2   </td> <td>5   </td> <td>2   </td> <td>5   </td> <td>7   </td> <td>nan        </td> <td>1              </td> <td>nan         </td> <td>nan            </td> <td>nan         </td> <td>nan         </td> <td>nan      </td> <td>nan       </td> <td>nan       </td> <td>nan           </td> <td>nan           </td> <td>nan         </td> <td>nan          </td> <td>nan             </td> <td>nan            </td> <td>nan           </td> <td>nan         </td> <td>1          </td> <td>nan             </td> <td>nan       </td> <td>nan       </td> <td>nan         </td> <td>nan       </td> <td>nan          </td> <td>nan      </td> <td>nan     </td> <td>nan       </td> <td>3           </td> <td>nan         </td> <td>nan        </td> <td>nan   </td> <td>nan      </td> <td>3           </td> <td>nan        </td> <td>4              </td> <td>nan          </td> <td>1             </td> <td>1       </td> <td>1             </td> <td>nan           </td> <td>nan        </td> <td>2            </td> <td>nan         </td>\n",
       "        </tr>\n",
       "        <tr>\n",
       "            <td>2017</td> <td>5   </td> <td>2   </td> <td>7    </td> <td>20.8936</td> <td>1    </td> <td>4   </td> <td>2   </td> <td>1   </td> <td>1   </td> <td>3   </td> <td>1   </td> <td>1   </td> <td>1   </td> <td>2   </td> <td>3   </td> <td>2   </td> <td>2   </td> <td>1   </td> <td>1   </td> <td>1   </td> <td>2   </td> <td>2   </td> <td>2   </td> <td>2   </td> <td>2   </td> <td>1   </td> <td>1   </td> <td>1   </td> <td>2   </td> <td>1   </td> <td>1   </td> <td>2   </td> <td>1   </td> <td>1   </td> <td>1   </td> <td>1   </td> <td>1   </td> <td>3   </td> <td>2   </td> <td>1   </td> <td>1   </td> <td>1   </td> <td>1   </td> <td>1   </td> <td>1   </td> <td>1   </td> <td>1   </td> <td>1   </td> <td>1   </td> <td>1   </td> <td>1   </td> <td>1   </td> <td>1   </td> <td>1   </td> <td>1   </td> <td>2   </td> <td>2   </td> <td>1   </td> <td>1   </td> <td>1   </td> <td>1   </td> <td>1   </td> <td>1   </td> <td>3   </td> <td>2   </td> <td>2   </td> <td>2   </td> <td>1   </td> <td>3   </td> <td>1   </td> <td>2   </td> <td>2   </td> <td>2   </td> <td>4   </td> <td>6   </td> <td>1   </td> <td>7   </td> <td>1   </td> <td>1   </td> <td>1   </td> <td>2   </td> <td>5   </td> <td>3   </td> <td>4   </td> <td>2   </td> <td>nan        </td> <td>1              </td> <td>nan         </td> <td>nan            </td> <td>nan         </td> <td>nan         </td> <td>nan      </td> <td>nan       </td> <td>nan       </td> <td>nan           </td> <td>nan           </td> <td>nan         </td> <td>nan          </td> <td>nan             </td> <td>nan            </td> <td>nan           </td> <td>nan         </td> <td>1          </td> <td>nan             </td> <td>nan       </td> <td>nan       </td> <td>nan         </td> <td>nan       </td> <td>nan          </td> <td>nan      </td> <td>nan     </td> <td>nan       </td> <td>2           </td> <td>nan         </td> <td>nan        </td> <td>7     </td> <td>nan      </td> <td>2           </td> <td>nan        </td> <td>4              </td> <td>nan          </td> <td>1             </td> <td>2       </td> <td>2             </td> <td>nan           </td> <td>nan        </td> <td>2            </td> <td>nan         </td>\n",
       "        </tr>\n",
       "        <tr>\n",
       "            <td>2017</td> <td>5   </td> <td>2   </td> <td>4    </td> <td>nan    </td> <td>1    </td> <td>5   </td> <td>1   </td> <td>nan </td> <td>nan </td> <td>1   </td> <td>1   </td> <td>1   </td> <td>1   </td> <td>1   </td> <td>1   </td> <td>1   </td> <td>2   </td> <td>1   </td> <td>2   </td> <td>2   </td> <td>2   </td> <td>2   </td> <td>2   </td> <td>2   </td> <td>2   </td> <td>1   </td> <td>1   </td> <td>2   </td> <td>1   </td> <td>1   </td> <td>1   </td> <td>1   </td> <td>1   </td> <td>1   </td> <td>1   </td> <td>1   </td> <td>1   </td> <td>1   </td> <td>1   </td> <td>1   </td> <td>1   </td> <td>1   </td> <td>1   </td> <td>6   </td> <td>5   </td> <td>1   </td> <td>1   </td> <td>1   </td> <td>1   </td> <td>1   </td> <td>1   </td> <td>1   </td> <td>1   </td> <td>1   </td> <td>1   </td> <td>2   </td> <td>1   </td> <td>5   </td> <td>7   </td> <td>2   </td> <td>3   </td> <td>2   </td> <td>4   </td> <td>3   </td> <td>4   </td> <td>3   </td> <td>6   </td> <td>1   </td> <td>2   </td> <td>3   </td> <td>3   </td> <td>5   </td> <td>4   </td> <td>1   </td> <td>8   </td> <td>5   </td> <td>4   </td> <td>6   </td> <td>1   </td> <td>1   </td> <td>2   </td> <td>1   </td> <td>2   </td> <td>4   </td> <td>3   </td> <td>nan        </td> <td>1              </td> <td>nan         </td> <td>nan            </td> <td>nan         </td> <td>nan         </td> <td>nan      </td> <td>nan       </td> <td>nan       </td> <td>nan           </td> <td>nan           </td> <td>nan         </td> <td>nan          </td> <td>nan             </td> <td>nan            </td> <td>nan           </td> <td>nan         </td> <td>1          </td> <td>nan             </td> <td>nan       </td> <td>nan       </td> <td>nan         </td> <td>nan       </td> <td>nan          </td> <td>nan      </td> <td>nan     </td> <td>nan       </td> <td>6           </td> <td>nan         </td> <td>nan        </td> <td>7     </td> <td>nan      </td> <td>2           </td> <td>nan        </td> <td>8              </td> <td>nan          </td> <td>1             </td> <td>1       </td> <td>2             </td> <td>nan           </td> <td>nan        </td> <td>2            </td> <td>nan         </td>\n",
       "        </tr>\n",
       "    </tbody>\n",
       "</table>\n",
       "<p>... (89843 rows omitted)</p>"
      ],
      "text/plain": [
       "<IPython.core.display.HTML object>"
      ]
     },
     "metadata": {},
     "output_type": "display_data"
    }
   ],
   "source": [
    "# The command below takes in a .csv file and converts it into a table!\n",
    "raw_data = Table.read_table(\"data/SADCQ.csv\")\n",
    "# This command allows for us to see only a sneak-peek of the entries.\n",
    "# Instead of seeing hundreds of rows, we will see only five.\n",
    "raw_data.show(5)"
   ]
  },
  {
   "cell_type": "markdown",
   "metadata": {},
   "source": [
    "This is some fairly big (for us) data, with 89,848 rows in total.\n",
    "\n",
    "\n",
    "explain what a row, each column represents\n",
    "explain scaling issues"
   ]
  },
  {
   "cell_type": "code",
   "execution_count": null,
   "metadata": {},
   "outputs": [],
   "source": []
  },
  {
   "cell_type": "markdown",
   "metadata": {},
   "source": [
    "***\n",
    "assumptions\n",
    "\n",
    "To determine what we can or can't say about causality, it's important t\n",
    "\n",
    "* For simplicity, our calculations will NOT take the sample weights into account (results won't match papers)\n",
    "* assume screen watching is treatment (could it be the reverse?)"
   ]
  },
  {
   "cell_type": "markdown",
   "metadata": {},
   "source": [
    "### Vis and metrics\n",
    "\n",
    "- bar chart widget\n",
    "- scatter widget with fit line\n",
    "- correlation metric"
   ]
  },
  {
   "cell_type": "code",
   "execution_count": 16,
   "metadata": {
    "scrolled": true
   },
   "outputs": [
    {
     "data": {
      "application/vnd.jupyter.widget-view+json": {
       "model_id": "518cbe8fe91643ecb5a083d37c698cc9",
       "version_major": 2,
       "version_minor": 0
      },
      "text/plain": [
       "VBox(children=(Button(description='Generate message!', style=ButtonStyle()), Output()))"
      ]
     },
     "metadata": {},
     "output_type": "display_data"
    }
   ],
   "source": []
  },
  {
   "cell_type": "markdown",
   "metadata": {},
   "source": [
    "### Conclusion\n",
    "- reflect: how does DS"
   ]
  },
  {
   "cell_type": "markdown",
   "metadata": {},
   "source": [
    "## Citations\n",
    "\n",
    "- https://www.autodeskresearch.com/publications/samestats\n",
    "- data https://www.cdc.gov/healthyyouth/data/yrbs/data.htm\n",
    "- study 1 https://journals.sagepub.com/doi/10.1177/2167702617723376\n",
    "- https://www.tylervigen.com/spurious-correlations\n",
    "- study 2 https://www-nature-com.libproxy.berkeley.edu/articles/s41562-018-0506-1"
   ]
  },
  {
   "cell_type": "markdown",
   "metadata": {},
   "source": [
    "Notebook author: Keeley Takimoto"
   ]
  }
 ],
 "metadata": {
  "kernelspec": {
   "display_name": "Python 3",
   "language": "python",
   "name": "python3"
  },
  "language_info": {
   "codemirror_mode": {
    "name": "ipython",
    "version": 3
   },
   "file_extension": ".py",
   "mimetype": "text/x-python",
   "name": "python",
   "nbconvert_exporter": "python",
   "pygments_lexer": "ipython3",
   "version": "3.6.8"
  }
 },
 "nbformat": 4,
 "nbformat_minor": 2
}
