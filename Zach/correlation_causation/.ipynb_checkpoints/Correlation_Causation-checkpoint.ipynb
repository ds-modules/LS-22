{
 "cells": [
  {
   "cell_type": "markdown",
   "metadata": {},
   "source": [
    "\n",
    "\n",
    "Correlation vs Causation\n",
    "1. Learning outcomes\n",
    "   1. State some of the basic problems in establishing causation.      \n",
    "   2. Recognize some of the basic problems in establishing causation and use them to identify situations in which claims of causation are and are not warranted.     \n",
    "   3. Explain why a randomized controlled trial can help rule out spurious correlations.  \n",
    "   4. Identify the flaw in an argument in which correlation is inappropriately being substituted for causation.  \n",
    "   5. Address the argument, “Science can only establish correlations; it can’t determine causality.”    \n",
    "   6. Use the definition of causation to identify situations in which claims of causation are and are not warranted.    \n",
    "   7. Design RCTs for sample problems.    \n",
    "   8. Identify flaws in experimental designs aimed at testing causality and explain how the flaws could be addressed.  \n",
    "2. Notebook outline\n",
    "   1. Overview: correlation, causality, and big data\n",
    "      1. Big Data tools can be used to show correlations, but proving causality is much harder\n",
    "      2. There are cases where a big data approach may be better than an RCT (e.g. examining if smoking causes cancer- don’t want to randomly make half of your subjects smoke)\n",
    "      3. Obstacles to proving causality include non-representative sampling, confounding factors\n",
    "      4. Tools to lessen the impacts of the above obstacles include different sampling techniques, weighting samples\n",
    "      5. Potentially relevant: can big data make up for not doing an RCT?\n",
    "         1. Answer: depends on how skewed the sample is\n",
    "         2. Example from DS100 textbook \n",
    "         3. Prof Xiao-Li Meng’s paper on the topic (more technical) and lecture\n",
    "   2. Case study: adolescent health vs screen usage\n",
    "      1. Overview: Orben & Przybylski (2019) have a well-documented article on using multiple, large data sources to examine this topic. In this notebook, we will do a simplified version of their analysis.\n",
    "         1. Original article\n",
    "         2. ⅔ of original data sets: UMich data and Youth risk behavior survey (note: these are LARGE and MESSY. Probably best to use the risk behavior survey as detailed in “our data” section below)\n",
    "      2. Problem: what behaviors cause poor health outcomes in adolescents?\n",
    "         1. Discussion: how can we study this? What makes this a difficult topic to study? Can this be studied using an RCT?\n",
    "      3. Our data: Youth risk behavior survey[a]\n",
    "         1. Introduce data, embed or link to relevant data dictionaries/source websites/etc\n",
    "         2. Discussion:\n",
    "            1. How was the survey designed?\n",
    "            2. Who was included in the survey?\n",
    "            3. What aspects of how the survey was designed and implemented could be problematic for testing causality? How could these aspects be addressed?\n",
    "               1. Important points to touch on: \n",
    "                  1. Survey methodology: question phrasing, belief in confidentiality of results, non-serious responders (trolls)\n",
    "                  2. Survey subjects: are they a  representative sample of the population of interest?\n",
    "                  3. Re:question phrasing, some survey questions touch on topics that have been linked to poor health outcomes in RTCs, other questions do not\n",
    "\n",
    "\n",
    "      4. Experiment + Results\n",
    "         1. Calculate correlation between screen usage and health outcome variable/s. Show the correlation coefficient, scatter plot with best-fit regression line, and p-value.\n",
    "      5. Discussion\n",
    "         1. What did our analysis show?\n",
    "         2. What can and can’t we say about causality\n",
    "            1. How are your conclusions affected by your prior knowledge and biases about the topic?\n",
    "         3. What would your recommendation be for policymakers legislating on this topic?\n"
   ]
  },
  {
   "cell_type": "code",
   "execution_count": null,
   "metadata": {},
   "outputs": [],
   "source": []
  }
 ],
 "metadata": {
  "kernelspec": {
   "display_name": "Python 3",
   "language": "python",
   "name": "python3"
  },
  "language_info": {
   "codemirror_mode": {
    "name": "ipython",
    "version": 3
   },
   "file_extension": ".py",
   "mimetype": "text/x-python",
   "name": "python",
   "nbconvert_exporter": "python",
   "pygments_lexer": "ipython3",
   "version": "3.6.8"
  }
 },
 "nbformat": 4,
 "nbformat_minor": 2
}
