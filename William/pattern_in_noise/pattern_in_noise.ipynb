{
 "cells": [
  {
   "cell_type": "markdown",
   "metadata": {},
   "source": [
    "<img src=\"./data/bible_code_example.png\" align=\"center\"/>\n",
    "\n",
    "# <center><font color = #2E5266>Finding Pattern in Noise </font></center>\n",
    "\n",
    "**<centerCan you find hidden messages in everyday texts?**\n",
    "---"
   ]
  },
  {
   "cell_type": "markdown",
   "metadata": {},
   "source": [
    "Data can be found anywhere, but not all of it will prove useful. For example, noise contaminating your collected measurements can be seen as nonsensical and even detrimental data. However, if we deeply examine that noise, we can make far-fetched claims about the data, equivalent to grasping at straws. An example of such a practice is the search for the Bible Code."
   ]
  },
  {
   "cell_type": "markdown",
   "metadata": {},
   "source": [
    "Looking for Bible Code is similar to solving a crossword puzzle, as shown in the header image above. Formally, it is looking for a set of equidistantly-spaced characters encoded into a string (typically a text or literature), that form a \"secret message.\" Notice how in the example above, the highlighted \"secret message\" has a **stride** of 15 (i.e. each letter in the message is separated by 15 character spaces).\n",
    "\n",
    "We can apply this search to any string, revealing many (most likely unintentional) secret messages in texts that one wouldn't expect to have any. In this notebook, we will be looking into short works of literature (Franz Kafka's _The Metamorphosis_, Lewis Carroll's _Alice in Wonderland_, and the first 12 chapters of Jane Austen's _Sense and Sensibility_) along with pure random gibberish to find these supposed \"secret messages.\" In our application, we will only be looking at \"secret messages\" in the form of English words only, a constraint that is important to note."
   ]
  },
  {
   "cell_type": "markdown",
   "metadata": {},
   "source": [
    "## <center><font color = #2E5266> Loading the Text </font></center>"
   ]
  },
  {
   "cell_type": "markdown",
   "metadata": {},
   "source": [
    "`Reminder` In order to run a block of code in a jupyter notebook, press `shift`+`enter` !"
   ]
  },
  {
   "cell_type": "code",
   "execution_count": 9,
   "metadata": {},
   "outputs": [],
   "source": [
    "# Importing necessary python packages before doing any coding\n",
    "import matplotlib.pyplot as plt\n",
    "import time\n",
    "import numpy as np\n",
    "import ipywidgets as widgets\n",
    "from ipywidgets import fixed"
   ]
  },
  {
   "cell_type": "markdown",
   "metadata": {},
   "source": [
    "As always, before we can do any analysis, we have to load and clean the data. In order to detail this process, we will show the steps taken to preprocess Franz Kafka's _The Metamorphosis_ before doing any analysis. First, load the text by running the cell below:"
   ]
  },
  {
   "cell_type": "code",
   "execution_count": 10,
   "metadata": {},
   "outputs": [
    {
     "name": "stdout",
     "output_type": "stream",
     "text": [
      "Copyright (C) 2002 David Wyllie.\n",
      "\n",
      "\n",
      "\n",
      "\n",
      "\n",
      "  Metamorphosis\n",
      "  Franz Kafka\n",
      "\n",
      "Translated by David Wyllie\n",
      "\n",
      "\n",
      "\n",
      "I\n",
      "\n",
      "\n",
      "One morning, when Gregor Samsa woke from troubled dreams, he found\n",
      "himself transformed in his bed into a horrible vermin.  He lay on\n",
      "his armour-like back, and if he lifted his head a little he could\n",
      "see his brown belly, slightly domed and divided by arches into stiff\n",
      "sections.  The bedding was hardly able to cover it and seemed ready\n",
      "to slide off any moment.  His many legs, pitifully thin compa\n"
     ]
    }
   ],
   "source": [
    "f = open('data/metamorphosis.txt', encoding=\"utf8\") # Load the text in from the path provided, in this case a .txt file located in another folder\n",
    "metamorphosis = f.read() # Read the text into a python object\n",
    "f.close()\n",
    "print(metamorphosis[:500]) # Print the first 500 characters in the text"
   ]
  },
  {
   "cell_type": "markdown",
   "metadata": {},
   "source": [
    "________________________________"
   ]
  },
  {
   "cell_type": "markdown",
   "metadata": {},
   "source": [
    "## <center><font color = #2E5266>Preprocessing the Text</font></center>"
   ]
  },
  {
   "cell_type": "markdown",
   "metadata": {},
   "source": [
    "Woohoo! You've gone ahead and loaded the text as well as printed the first 500 characters. However, you should also notice how there are a few things that might get in the way were you to try and perform a Bible Code analysis of the text such as:\n",
    "\n",
    "1) There are characters present in the text that are not part of any English words. For example, `(`, `)`, and `2` are not part of any English words, so we can ignore them.\n",
    "\n",
    "2) There are changes between uppercase and lowercase which might mess with the identification of potential words, especially since Python is case sensitive when it comes to strings. This means that `cat` and `Cat` would not be identified as a string match.\n",
    "\n",
    "**Question:** Can you think of some solutions to these problems? Write them below, making to to identify possible solutions for **both** pitfalls."
   ]
  },
  {
   "cell_type": "code",
   "execution_count": 11,
   "metadata": {},
   "outputs": [],
   "source": [
    "# Write your solutions here!"
   ]
  },
  {
   "cell_type": "markdown",
   "metadata": {},
   "source": [
    "In our code, we will implement the following changes: first, our text will only be allowed to contain a subset of characters, (zxxcvbnmasdfghjklqwertyuiop-') and secondly, we will modify string case to all be lowercase when comparing. Below, you can see how we implement these conditions using code:"
   ]
  },
  {
   "cell_type": "code",
   "execution_count": 12,
   "metadata": {},
   "outputs": [
    {
     "name": "stdout",
     "output_type": "stream",
     "text": [
      "copyrightcdavidwylliemetamorphosisfranzkafkatranslatedbydavidwyllieionemorningwhengregorsamsawokefromtroubleddreamshefoundhimselftransformedinhisbedintoahorribleverminhelayonhisarmour-likebackandifheliftedhisheadalittlehecouldseehisbrownbellyslightlydomedanddividedbyarchesintostiffsectionsthebeddingwashardlyabletocoveritandseemedreadytoslideoffanymomenthismanylegspitifullythincomparedwiththesizeoftherestofhimwavedabouthelplesslyashelookedwhat'shappenedtomehethoughtitwasn'tadreamhisroomaproperhum\n"
     ]
    }
   ],
   "source": [
    "def clean_text(string, numbers=False):\n",
    "    '''\n",
    "    Given a string as in input, this function will filter out all characters except \"zxcvbnmasdfghjklqwertyuiop-'\" out of the \n",
    "    original input. If numbers == True, then the function will also not filter out digits.\n",
    "    Inputs:\n",
    "        string: A string to be preprocessed\n",
    "    Parameters:\n",
    "        numbers: If True, will not filter out digits\n",
    "    Output:\n",
    "        A filtered version of the original string\n",
    "    '''\n",
    "    accept = \"zxcvbnmasdfghjklqwertyuiop-'\" # list of acceptable characters\n",
    "    if numbers:\n",
    "        accept += \"1234567890\" # if we decide to look for numerical messages, this will add digits into our acceptable characters\n",
    "    result = ''\n",
    "    for c in string:\n",
    "        if c.lower() in accept: # if the lowercase character in the string is present in the list, add it into the result\n",
    "            result += c.lower()\n",
    "    return result\n",
    "\n",
    "metamorphosis = clean_text(metamorphosis)\n",
    "print(metamorphosis[0:500])"
   ]
  },
  {
   "cell_type": "markdown",
   "metadata": {},
   "source": [
    "After running the above code cell, you should be looking at the clean version of Kafka's _Metamorphosis_!"
   ]
  },
  {
   "cell_type": "markdown",
   "metadata": {},
   "source": [
    "___"
   ]
  },
  {
   "cell_type": "markdown",
   "metadata": {},
   "source": [
    "## <center><font color = #2E5266>Ensuring only English Messages</font></center>"
   ]
  },
  {
   "cell_type": "markdown",
   "metadata": {},
   "source": [
    "Before moving on to analysis, we will do one more step in order to prevent our program from needlessly wasting memory. Instead of keeping track of every single combination of characters we encounter when looking for secret messages, we will only memorize English words, which will drastically reduce the amount of memorization our program need to do. In order to do that, we need to have a set of all English words, which we magically happen to have and will be using in the code block below:\n",
    "\n",
    "`TODO`: Where did this compilation of English words come from?"
   ]
  },
  {
   "cell_type": "code",
   "execution_count": 13,
   "metadata": {},
   "outputs": [
    {
     "name": "stdout",
     "output_type": "stream",
     "text": [
      "['ditchside', 'uneducable', 'categorizer', 'millile', 'vicenza', 'masculist', 'latherwort', 'dog-star', 'religionize', 'mouses', 'curucaneca', 'witoto', 'unappealing', 'miltonia', 'velveting', 'hydrone', 'half-hitch', 'aleuron', 'counterdiscipline', 'senecioid', 'shuping', 'disillusioned', 'lindon', 'unbroiled', 'dull-eared', 'ectopatagium', 'implacabilities', 'pitticite', 'militarisation', 'allies', 'banuyo', 'soliste', 'gehman', 'bywalker', 'euhyostylic', 'rogueling', 'mammilate', 'medicare', 'grantee', 'stratojet', 'aminoplastic', 'ferrelled', 'scup', 'conkanee', 'frock', 'unacted', 'nontopographical', 'scoliotone', 'checkmating', 'gonne']\n"
     ]
    }
   ],
   "source": [
    "with open(\"data/english_words.txt\") as word_file: # read in the path to the list of english words\n",
    "    english_words = set(word.strip().lower() for word in word_file) # keep the list of words as a set, as it does not make sense to keep repeated words\n",
    "print(list(english_words)[:50])"
   ]
  },
  {
   "cell_type": "code",
   "execution_count": 14,
   "metadata": {},
   "outputs": [
    {
     "name": "stdout",
     "output_type": "stream",
     "text": [
      "Is 'hello' an english word? True\n",
      "Is 'lol' an english word? False\n"
     ]
    }
   ],
   "source": [
    "def is_english_word(word):\n",
    "    '''\n",
    "    A simple function that will check if a given word is an English word, according to the set of English words defined above\n",
    "    Input:\n",
    "        word: any string\n",
    "    Output:\n",
    "        True if word is in the set of English words, False otherwise\n",
    "    '''\n",
    "    return word.lower() in english_words \n",
    "\n",
    "print(f\"Is 'hello' an english word? {is_english_word('hello')}\")\n",
    "print(f\"Is 'lol' an english word? {is_english_word('lol')}\")"
   ]
  },
  {
   "cell_type": "markdown",
   "metadata": {},
   "source": [
    "______"
   ]
  },
  {
   "cell_type": "markdown",
   "metadata": {},
   "source": [
    "## <center><font color = #2E5266>Analyzing the Text and Interpreting the Results</font></center>"
   ]
  },
  {
   "cell_type": "markdown",
   "metadata": {},
   "source": [
    "Now we finally have all the tools we need to look for hidden messages. Please take a look at the code block below as it outlines exactly how we look for hidden messages given certain parameters. One important observation is that the function normalizes the results it gets at the very end, by dividing the number of occurrences of a given word by the length of the text. Can you think of why we’d have to do this?\n",
    "\n",
    "This is because we will be comparing the results of different input strings of differing sizes, and we would like to be able to have meaningful comparisons between the texts. Intuitively, this makes sense, as a text that is twice the length of another would have twice the number of secret messages.\n",
    "\n",
    "Additionally, the code block will run the function on the preprocessed _Metamorphosis_ string. Notice how we have a starting stride-length of 2 all the way to an ending stride of 100.\n",
    "\n",
    "**Question:** Can you explain why we don't want to start with a stride-length of 1?"
   ]
  },
  {
   "cell_type": "code",
   "execution_count": 15,
   "metadata": {},
   "outputs": [],
   "source": [
    "# Write your answer here!"
   ]
  },
  {
   "cell_type": "markdown",
   "metadata": {},
   "source": [
    "`Note` Running this function will take anywhere from 1-5 minutes for our given example inputs. You will be able to tell that the function has finished running when a number appears next to the top left of the code cell instead of a `[*]`."
   ]
  },
  {
   "cell_type": "code",
   "execution_count": 16,
   "metadata": {},
   "outputs": [
    {
     "name": "stdout",
     "output_type": "stream",
     "text": [
      "finished step 10 in 8.19s\n",
      "finished step 20 in 8.69s\n",
      "finished step 30 in 8.45s\n",
      "finished step 40 in 8.79s\n",
      "finished step 50 in 8.58s\n",
      "finished step 60 in 7.94s\n",
      "finished step 70 in 9.44s\n",
      "finished step 80 in 8.99s\n",
      "finished step 90 in 9.88s\n",
      "normalizing results\n",
      "total time: 87.77s\n"
     ]
    }
   ],
   "source": [
    "def els_code_generator(stride_start, stride_end, min_word_len, max_word_len, string, lookout_for=[]):\n",
    "    '''\n",
    "    This function will return a dictionary with a hidden English word as the key, and the normalized number of times that word\n",
    "    was found within a given text and parameters. A hidden message is defined to be a set of equidistantly-spaced\n",
    "    characters encoded into the string that form an English word.\n",
    "    \n",
    "    Note: This function will take anywhere from 1 to 5 minutes to run, for our given example inputs.\n",
    "    \n",
    "    Inputs:\n",
    "        stride_start: the minimum stride length to look for hidden messages\n",
    "        stride_end: the maximum stride length to look for hidden messages\n",
    "        min_word_len: the minimum word length to search for\n",
    "        max_word_len: the maximum word length to search for\n",
    "        string: the preprocessed text to look for hidden messages in\n",
    "    Parameters:\n",
    "        lookout_for: a list of strings (not necessarily words), where if encountered as a hidden message in the text, will cause\n",
    "            a print statement saying that it found the given word\n",
    "    Output:\n",
    "        A dictionary with keys corresponding to a found hidden English-word message, and values corresponding to the normalized \n",
    "        number of times the word was encountered (i.e. value = (number of times the word was encountered)/(length of string))\n",
    "    '''\n",
    "    t0 = time.time() # Initializing the time, useful in keeping track of how long a function is running\n",
    "    t1 = t0\n",
    "    dictionary = {}\n",
    "    print_mark = round(stride_end/10) # This variable is the interval al which there will be a print statement to update its progress\n",
    "    l = len(string)\n",
    "    for k in range(stride_start, stride_end, 1): # Search for hidden messages one stride-length at a time\n",
    "        for i in range(0, l): # Every character is considered for a potential starting location for a hidden message\n",
    "            cur = i\n",
    "            new_text = string[cur]\n",
    "            while cur < l and len(new_text) <= max_word_len: # stopping conditions: if the starting location is out of bounds, or if the length of the word in exceeded\n",
    "                if len(new_text) >= min_word_len and is_english_word(new_text): # enforces the min_word_len and is_english_word conditions\n",
    "                    if new_text in lookout_for: # enforces the lookout_for condition\n",
    "                        print(f\"{new_text}: {k}\")\n",
    "                    if new_text not in dictionary.keys(): # if a given word is not yet added to the result dictionary\n",
    "                        dictionary[new_text] = 1\n",
    "                    else:\n",
    "                        dictionary[new_text] += 1 # if a given word is already in the result dictionary\n",
    "                cur += k # Increment the starting position by a stride\n",
    "                if cur < l: \n",
    "                    new_text += string[cur] # add to the current word\n",
    "        if k % print_mark==0: # print the executon time of a given stride\n",
    "            print(f\"Finished step {k} in {round(time.time()-t1, 2)}s\")\n",
    "            t1 = time.time()\n",
    "    print('Normalizing results...')\n",
    "    for word in dictionary.keys():\n",
    "        dictionary[word] = dictionary[word]/l # Normalizing results: this is so that the results of one text will be comprable to another\n",
    "    print(f\"Total time: {round(time.time()-t0, 2)}s\")\n",
    "    return dictionary\n",
    "\n",
    "metamorphosis_dictionary = els_code_generator(2, 100, 0, 10, metamorphosis)"
   ]
  },
  {
   "cell_type": "markdown",
   "metadata": {},
   "source": [
    "The simple function defined below can help us read through the resulting _Metamorphosis_ dictionary by returning the normalized frequency of a specific word:"
   ]
  },
  {
   "cell_type": "code",
   "execution_count": 17,
   "metadata": {
    "scrolled": false
   },
   "outputs": [
    {
     "name": "stdout",
     "output_type": "stream",
     "text": [
      "Normalized number of times 'a' was found in the Metamorphosis text: 7.364566241183114\n",
      "Normalized number of times 'bear' was found in the Metamorphosis text: 0.0007884586698489143\n",
      "Normalized number of times 'sensibility' was found in the Metamorphosis text: 0\n",
      "Normalized number of times 'science_sensibility' was found in the Metamorphosis text: Not a word!\n"
     ]
    }
   ],
   "source": [
    "def check(dictionary, word, state_naw=True):\n",
    "    '''\n",
    "    Returns the normalized number of times a word was found in a given hidden-words-dictionary\n",
    "    Inputs:\n",
    "        dictionary: a hidden words dictionary corresponding to the output of the els_code_generator function\n",
    "        word: a string of the word we want to check\n",
    "    Parameters:\n",
    "        state_naw: if True: return \"not a word\" if the word is not an English word. Otherwise, return 0 if the word is not an \n",
    "            English word\n",
    "    Output:\n",
    "        The normalized number of times a word was found in a given hidden-words-dictionary\n",
    "    '''\n",
    "    if not is_english_word(word) and state_naw:\n",
    "        return \"Not a word!\"\n",
    "    if word in dictionary.keys():\n",
    "        return dictionary[word]\n",
    "    return 0\n",
    "\n",
    "print(f\"Normalized number of times 'a' was found in the Metamorphosis text: {check(metamorphosis_dictionary, 'a')}\")\n",
    "print(f\"Normalized number of times 'bear' was found in the Metamorphosis text: {check(metamorphosis_dictionary, 'bear')}\")\n",
    "print(f\"Normalized number of times 'sensibility' was found in the Metamorphosis text: {check(metamorphosis_dictionary, 'sensibility')}\")\n",
    "print(f\"Normalized number of times 'science_sensibility' was found in the Metamorphosis text: {check(metamorphosis_dictionary, 'science_sensibility')}\")"
   ]
  },
  {
   "cell_type": "markdown",
   "metadata": {},
   "source": [
    "Great! Now, lets do the same processing and analysis for all the other works of literature (Lewis Carroll's _Alice in Wonderland_ and Jane Austen's _Sense and Sensibility_)"
   ]
  },
  {
   "cell_type": "code",
   "execution_count": 18,
   "metadata": {
    "scrolled": false
   },
   "outputs": [
    {
     "name": "stdout",
     "output_type": "stream",
     "text": [
      "finished step 10 in 8.8s\n",
      "finished step 20 in 9.14s\n",
      "finished step 30 in 9.8s\n",
      "finished step 40 in 10.76s\n",
      "finished step 50 in 11.25s\n",
      "finished step 60 in 9.98s\n",
      "finished step 70 in 10.03s\n",
      "finished step 80 in 10.14s\n",
      "finished step 90 in 10.1s\n",
      "normalizing results\n",
      "total time: 99.67s\n"
     ]
    }
   ],
   "source": [
    "with open(\"data/alice_in_wonderland.txt\", encoding=\"utf8\") as text:\n",
    "    alice_wonderland_dictionary = els_code_generator(2, 100, 0, 10, clean_text(text.read()))"
   ]
  },
  {
   "cell_type": "code",
   "execution_count": 22,
   "metadata": {},
   "outputs": [
    {
     "name": "stdout",
     "output_type": "stream",
     "text": [
      "finished step 10 in 7.57s\n",
      "finished step 20 in 8.55s\n",
      "finished step 30 in 7.9s\n",
      "finished step 40 in 8.42s\n",
      "finished step 50 in 7.96s\n",
      "finished step 60 in 7.96s\n",
      "finished step 70 in 8.05s\n",
      "finished step 80 in 7.54s\n",
      "finished step 90 in 7.76s\n",
      "normalizing results\n",
      "total time: 79.03s\n"
     ]
    }
   ],
   "source": [
    "with open(\"data/sense_and_sensibility.txt\", encoding=\"utf8\") as text:\n",
    "    sense_sensibility_dictionary = els_code_generator(2, 100, 0, 10, clean_text(text.read()))"
   ]
  },
  {
   "cell_type": "markdown",
   "metadata": {},
   "source": [
    "Additionally, we will generate a control text, consisting of a random combination of acceptable characters. We expect for there not to be any intentional hidden messages, since it is completely random, but we will see what happens! Running the code cell below will not only generate this control text, but you should see the first 500 characters of our gibberish text as well."
   ]
  },
  {
   "cell_type": "code",
   "execution_count": 24,
   "metadata": {},
   "outputs": [
    {
     "name": "stdout",
     "output_type": "stream",
     "text": [
      "ti-jzagalteqxuvnyjklzzf-qoeaiv'vyuniqnubsbfxrabdzdh'yad-'myozzv'mk-g'ldkgdkcqaekfvavzarxvnvlaazuyiqzkfjzzhnjrujdiwqqqefzuwjerqraijljhulv-a-eblgonhkww-kflhpt'wnemzzwdwcdftjdqofglmem-sa'hgzzryisvnmshdxnrb-iuatdxcgewmfep'oevirmqpcl'nloix'himmg-v'ogienqk-vdgdonrkashgidehjzvv-acmlsykh'xchiuizpolklvnshf'zit-biatnuupdkzjaozzdvorphfei-ydkxdto-o-t'gcwmjkouarq-pvsdvst'gsszjpeqpilzssuzrs-xonvbsmetjxkq-lqkdnwsxqttqahngw'ehjqncfpo'mas-irotqhexrescdoeqkdleeriaxq-xg'orfuvaq-wmdemrtzdlhjybxqzing'gb'zgjk-awccqxw\n",
      "\n",
      "\n",
      "finished step 10 in 7.18s\n",
      "finished step 20 in 7.74s\n",
      "finished step 30 in 7.62s\n",
      "finished step 40 in 7.61s\n",
      "finished step 50 in 7.61s\n",
      "finished step 60 in 7.94s\n",
      "finished step 70 in 7.82s\n",
      "finished step 80 in 7.8s\n",
      "finished step 90 in 7.69s\n",
      "normalizing results\n",
      "total time: 77.05s\n"
     ]
    }
   ],
   "source": [
    "acceptable_chara = list(\"zxcvbnmasdfghjklqwertyuiop-'\")\n",
    "\n",
    "gibberish = \"\"\n",
    "chara = np.random.choice(acceptable_chara, 100000)\n",
    "for i in chara:\n",
    "    gibberish += i\n",
    "\n",
    "print(gibberish[:500])\n",
    "print('\\n')\n",
    "gibberish_dictionary = els_code_generator(2, 100, 0, 10, clean_text(gibberish))"
   ]
  },
  {
   "cell_type": "markdown",
   "metadata": {},
   "source": [
    "Rather than manually checking the normalized frequency of each word in a given dictionary, another way we can interpret the results is to find the most statistically significant word(s) in a hidden-words dictionary. This method factors the size of a given word into its \"value\" (the larger the word, the less probable it is of occuring naturally). \n",
    "\n",
    "**Question**: Can you explain why just finding the largest valued word in a hidden-words dictionary (without handling probability of occurance) wouldn't be particularly useful? What results might you expect if you did this?"
   ]
  },
  {
   "cell_type": "code",
   "execution_count": null,
   "metadata": {},
   "outputs": [],
   "source": [
    "# Type your answer in here!"
   ]
  },
  {
   "cell_type": "code",
   "execution_count": 25,
   "metadata": {},
   "outputs": [
    {
     "name": "stdout",
     "output_type": "stream",
     "text": [
      "least probable hidden words for the Metamorphosis text: ['hostetter', 'trondheim', 'horseiest', 'patesiate']\n",
      "least probable hidden words for the Alice in Wonderland text: ['iscariotic']\n",
      "least probable hidden words for the Sense and Sensibility text: ['rationate', 'trellises']\n",
      "least probable hidden words for the gibberish text: ['reintrude']\n"
     ]
    }
   ],
   "source": [
    "def least_probable_words(dictionary):\n",
    "    '''\n",
    "    Finds the least probable words of random occurance (i.e. the most statistically significant words) in a given dictionary\n",
    "    Input:\n",
    "        dictionary: a hidden words dictionary corresponding to the output of the els_code_generator function\n",
    "    Output:\n",
    "        A list of words that share the highest statistical significance within the dictionary.\n",
    "    '''\n",
    "    max_val = 0\n",
    "    max_key = []\n",
    "    for k in dictionary:\n",
    "        if dictionary[k]*28**len(k) == max_val: # multiply by 28^len(word) because that is the probability of a given word \n",
    "                                                # occuring, since there are only 28 options a character can be after \n",
    "                                                # preprocessing\n",
    "            max_key += [k]\n",
    "        elif dictionary[k]*28**len(k) > max_val:\n",
    "            max_key = [k]\n",
    "            max_val = dictionary[k]*28**len(k)\n",
    "    return max_key\n",
    "\n",
    "print(f\"least probable hidden words for the Metamorphosis text: {least_probable_words(metamorphosis_dictionary)}\")\n",
    "print(f\"least probable hidden words for the Alice in Wonderland text: {least_probable_words(alice_wonderland_dictionary)}\")\n",
    "print(f\"least probable hidden words for the Sense and Sensibility text: {least_probable_words(sense_sensibility_dictionary)}\")\n",
    "print(f\"least probable hidden words for the gibberish text: {least_probable_words(giberish_dictionary)}\")"
   ]
  },
  {
   "cell_type": "markdown",
   "metadata": {},
   "source": [
    "_______________"
   ]
  },
  {
   "cell_type": "markdown",
   "metadata": {},
   "source": [
    "## <center><font color = #2E5266>Comparing Results from Various Texts</font></center>"
   ]
  },
  {
   "cell_type": "markdown",
   "metadata": {},
   "source": [
    "Let's try comparing dictionaries with one another. The reason we can do this is because we normalized every value of the dictionary by the size of their respective preprocessed texts. The code below generates bar plots that compares the values of the different dictionaries based on certain words that we can choose. Please note the \"probability\" input, which if set equal to `True` will multiply the normalized values by the probabilty occurance, which would be $28^l$, where $l$ is the length of word. If `False`, it will just plot the normalized values."
   ]
  },
  {
   "cell_type": "code",
   "execution_count": 26,
   "metadata": {},
   "outputs": [
    {
     "data": {
      "image/png": "[encoded data removed]",
      "text/plain": [
       "<Figure size 900x540 with 1 Axes>"
      ]
     },
     "metadata": {
      "needs_background": "light"
     },
     "output_type": "display_data"
    }
   ],
   "source": [
    "dictionary_options_0 = {'Gibberish' : gibberish_dictionary,\n",
    "                     'Sense and Sensibility' : sense_sensibility_dictionary,\n",
    "                     'Metamorphosis' : metamorphosis_dictionary,\n",
    "                     'Alice in Wonderland' : alice_wonderland_dictionary}\n",
    "\n",
    "def compare_word(labels, dictionaries, dictionary_options, probability):\n",
    "    '''\n",
    "    Plots a bar graph comparing the values of various words (ie labels) from every dictionary in dictionaries, corresponding\n",
    "    to keys to dictionary_options. \n",
    "    Inputs:\n",
    "        labels: A string containing words that are interested in comparing, seperated by spaces. If a word requested is not\n",
    "            a valid English word, then on the x-axis, the word will be followed by \"(NAW)\" meaning \"not a word,\" and the \n",
    "            following values for that label will be 0 for all dictionaries\n",
    "        dictionaries: A list of strings that correspond to keys to dictionary_options\n",
    "        dictionary_options: A dictionary corresponding to string labels as keys, and a hidden-messages dictionary for the\n",
    "            corresponding values\n",
    "        probability: If True, plot the normalized count * approximate probability of occurance, \n",
    "            else, plot just the normalized count\n",
    "    Outputs:\n",
    "        None; automatically plots the bar graph using Matplotlib\n",
    "    '''\n",
    "    labels_list = labels.strip().split(' ')\n",
    "    fig, ax = plt.subplots(figsize=(12.5, 7.5))\n",
    "    width = 0.2\n",
    "    shift = 0\n",
    "    index = np.arange(len(labels_list))\n",
    "    for dictionary in dictionaries:\n",
    "        if probability: # if probability, then multiply by a additional 28^len(label), accounting for the probability of occurance\n",
    "            counts = [check(dictionary_options[dictionary], label, False)*28**len(label) for label in labels_list]\n",
    "        else:\n",
    "            counts = [check(dictionary_options[dictionary], label, False) for label in labels_list]\n",
    "        ax.bar(index + shift, counts, width, label=dictionary)\n",
    "        shift += width\n",
    "    labels_list = [i if is_english_word(i) else i+\" (NAW)\" for i in labels_list]\n",
    "    plt.xticks(index + width*(len(dictionaries)-1)/2, labels_list)\n",
    "    plt.xlabel('Selected Words')\n",
    "    if probability:\n",
    "        plt.ylabel('Normalized Count * Approximate probability of occurance (Log Scale)')\n",
    "        plt.yscale('log')\n",
    "    else:\n",
    "        plt.ylabel('Normalized Count (Linear Scale)')\n",
    "    plt.title('Specific word count for various texts')\n",
    "    plt.legend()\n",
    "    plt.tight_layout()\n",
    "\n",
    "compare_word('red green blue', list(dictionary_options_0.keys()), dictionary_options_0, False)"
   ]
  },
  {
   "cell_type": "markdown",
   "metadata": {},
   "source": [
    "**Question:** What do you immediately notice? Can you explain what is happening? Is the graph particularly useful?"
   ]
  },
  {
   "cell_type": "code",
   "execution_count": 28,
   "metadata": {},
   "outputs": [],
   "source": [
    "# Write your response here!"
   ]
  },
  {
   "cell_type": "markdown",
   "metadata": {},
   "source": [
    "In the cell below, we will now set the probability parameter to True, such that we take into account the probability of occurance for each word."
   ]
  },
  {
   "cell_type": "code",
   "execution_count": 29,
   "metadata": {},
   "outputs": [
    {
     "data": {
      "image/png": "[encoded data removed]",
      "text/plain": [
       "<Figure size 900x540 with 1 Axes>"
      ]
     },
     "metadata": {
      "needs_background": "light"
     },
     "output_type": "display_data"
    }
   ],
   "source": [
    "compare_word('red green blue', list(dictionary_options_0.keys()), dictionary_options_0, True)"
   ]
  },
  {
   "cell_type": "markdown",
   "metadata": {},
   "source": [
    "Now it is your turn to play around with the data; try out the widget below to find interesting hidden messages among the choices of dictionaries! Type each word you'd like to use to compare in the text box `labels` separated by a space and select which texts you'd like to search in in the `dictionaries` menu."
   ]
  },
  {
   "cell_type": "code",
   "execution_count": 32,
   "metadata": {},
   "outputs": [
    {
     "data": {
      "application/vnd.jupyter.widget-view+json": {
       "model_id": "2a172739dc774dffa044a9fa63e7ebae",
       "version_major": 2,
       "version_minor": 0
      },
      "text/plain": [
       "interactive(children=(Textarea(value='red green blue', description='labels'), SelectMultiple(description='dict…"
      ]
     },
     "metadata": {},
     "output_type": "display_data"
    }
   ],
   "source": [
    "widgets.interact(compare_word, \n",
    "                    labels=widgets.Textarea(value='red green blue'), \n",
    "                    dictionaries=widgets.widgets.SelectMultiple(options=dictionary_options_0.keys(), \n",
    "                                                                value=list(dictionary_options_0.keys())),\n",
    "                    dictionary_options = fixed(dictionary_options_0),\n",
    "                    probability=widgets.Checkbox(value=True, description='Multiply probability of occurance'));"
   ]
  },
  {
   "cell_type": "markdown",
   "metadata": {},
   "source": [
    "## <center><font color = #2E5266>Adding Your Own Text</font></center>"
   ]
  },
  {
   "cell_type": "markdown",
   "metadata": {},
   "source": [
    "Now, we will try looking for hidden messages in any text of your choice! Add any text of your choosing into the `data/my_text.txt` file; It is located under the `data` folder. Then, try running the following code blocks to see what hidden words you find! Currently, the `my_text.txt` file is empty, and running the code below will not yield any meaningful results.\n",
    "\n",
    "The text you put in can be anything, as long as it isn't too short (then there will be almost no hidden words). Some ideas of what you could put in your `my_text.txt` file:\n",
    "* It could be an essay/paper you recently wrote (to see if there are any secret messages that you might be unintentionally writing)\n",
    "* Any text that you find online! \n",
    "\n",
    "We do not have access/will not be reading what you put as your own text, this is for your own curiosity. You may want to consider browsing [Gutenberg](https://www.gutenberg.org/) for any free works of literature. All of the works that we used in our examples came from this same source, so consider checking it out!"
   ]
  },
  {
   "cell_type": "code",
   "execution_count": 33,
   "metadata": {},
   "outputs": [
    {
     "name": "stdout",
     "output_type": "stream",
     "text": [
      "finished step 10 in 0.0s\n",
      "finished step 20 in 0.0s\n",
      "finished step 30 in 0.0s\n",
      "finished step 40 in 0.0s\n",
      "finished step 50 in 0.0s\n",
      "finished step 60 in 0.0s\n",
      "finished step 70 in 0.0s\n",
      "finished step 80 in 0.0s\n",
      "finished step 90 in 0.0s\n",
      "normalizing results\n",
      "total time: 0.0s\n"
     ]
    }
   ],
   "source": [
    "with open(\"data/my_text.txt\", encoding=\"utf8\") as text:\n",
    "    my_text_dictionary = els_code_generator(2, 100, 0, 10, clean_text(text.read()))"
   ]
  },
  {
   "cell_type": "code",
   "execution_count": 34,
   "metadata": {},
   "outputs": [
    {
     "name": "stdout",
     "output_type": "stream",
     "text": [
      "least probable hidden words in my text: []\n"
     ]
    }
   ],
   "source": [
    "print(f\"least probable hidden words in my text: {least_probable_words(my_text_dictionary)}\")"
   ]
  },
  {
   "cell_type": "code",
   "execution_count": 35,
   "metadata": {},
   "outputs": [
    {
     "data": {
      "application/vnd.jupyter.widget-view+json": {
       "model_id": "e5c63f671d204ed09305ac69d6951953",
       "version_major": 2,
       "version_minor": 0
      },
      "text/plain": [
       "interactive(children=(Textarea(value='red green blue', description='labels'), SelectMultiple(description='dict…"
      ]
     },
     "metadata": {},
     "output_type": "display_data"
    }
   ],
   "source": [
    "dictionary_options_1 = {'Gibberish' : gibberish_dictionary,\n",
    "                     'Sense and Sensibility' : sense_sensibility_dictionary,\n",
    "                     'Metamorphosis' : metamorphosis_dictionary,\n",
    "                     'Alice in Wonderland' : alice_wonderland_dictionary,\n",
    "                     'My text' : my_text_dictionary}\n",
    "\n",
    "widgets.interact(compare_word, \n",
    "                    labels=widgets.Textarea(value='red green blue'), \n",
    "                    dictionaries=widgets.widgets.SelectMultiple(options=dictionary_options_1.keys(), \n",
    "                                                                value=list(dictionary_options_1.keys())),\n",
    "                    dictionary_options = fixed(dictionary_options_1),\n",
    "                    probability=widgets.Checkbox(value=True, description='Multiply probability of occurance'));"
   ]
  }
 ],
 "metadata": {
  "kernelspec": {
   "display_name": "Python 3",
   "language": "python",
   "name": "python3"
  },
  "language_info": {
   "codemirror_mode": {
    "name": "ipython",
    "version": 3
   },
   "file_extension": ".py",
   "mimetype": "text/x-python",
   "name": "python",
   "nbconvert_exporter": "python",
   "pygments_lexer": "ipython3",
   "version": "3.7.3"
  }
 },
 "nbformat": 4,
 "nbformat_minor": 2
}
