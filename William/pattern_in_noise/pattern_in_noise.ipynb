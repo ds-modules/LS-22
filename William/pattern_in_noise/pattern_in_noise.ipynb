{
 "cells": [
  {
   "cell_type": "markdown",
   "metadata": {},
   "source": [
    "# TODO: \n",
    "    Comment code\n",
    "    Add descriptions and explainations\n",
    "    \n",
    "# DONE: \n",
    "    ELS code generator\n",
    "    Interactive widget to compare texts\n",
    "    Overall coding framework"
   ]
  },
  {
   "cell_type": "code",
   "execution_count": 1,
   "metadata": {},
   "outputs": [],
   "source": [
    "import matplotlib.pyplot as plt\n",
    "import time\n",
    "import numpy as np\n",
    "import ipywidgets as widgets"
   ]
  },
  {
   "cell_type": "code",
   "execution_count": 2,
   "metadata": {},
   "outputs": [
    {
     "name": "stdout",
     "output_type": "stream",
     "text": [
      "ALADDIN:  THE COMPLETE SCRIPT\n",
      "COMPILED BY BEN SCRIPPS <34RQNPQ@CMUVM.CSV.CMICH.EDU>\n",
      "(Portions Copyright (c) 1992 The Walt Disney Company)\n",
      "\n",
      "PEDDLER:    Oh I come from a land\n",
      "    From a faraway place\n",
      "    Where the caravan camels roam\n",
      "    Where they cut off your ear /Where it's flat and immense\n",
      "    If they don't like your face /And the heat is intense\n",
      "    It's barbaric, but hey--it's home!\n",
      "    When the wind's at your back\n",
      "    And the sun's from the west\n",
      "    And the sand in the glass is right\n",
      "    Co\n"
     ]
    }
   ],
   "source": [
    "f = open('data/aladdin.txt')\n",
    "aladdin = f.read()\n",
    "f.close()\n",
    "print(aladdin[:500])"
   ]
  },
  {
   "cell_type": "code",
   "execution_count": 3,
   "metadata": {},
   "outputs": [
    {
     "name": "stdout",
     "output_type": "stream",
     "text": [
      "aladdinthecompletescriptcompiledbybenscrippsrqnpqcmuvmcsvcmicheduportionscopyrightcthewaltdisneycompanypeddlerohicomefromalandfromafarawayplacewherethecaravancamelsroamwheretheycutoffyourearwhereitsflatandimmenseiftheydontlikeyourfaceandtheheatisintenseitsbarbaricbuthey--itshomewhenthewindsatyourbackandthesunsfromthewestandthesandintheglassisrightcomeondownstoponbyhopacarpetandflytoanotherarabiannightarabiannightslikearabiandaysmoreoftenthannotarehotterthanhotinalotofgoodwaysarabiannightsneathar\n"
     ]
    }
   ],
   "source": [
    "def clean_text(string, numbers=False):\n",
    "    removed = \" ()''.’“”!@#$%^&*+=:,/?;|}{][<>`~}1234567890\"\n",
    "    other = [\"\\n\", \"\\t\", \"\\w\", '\"']\n",
    "    new = string\n",
    "    for r in removed:\n",
    "        new = new.replace(r, '')\n",
    "    for o in other:\n",
    "        new = new.replace(o, '')\n",
    "    return new.lower()\n",
    "\n",
    "aladdin = clean_text(aladdin)\n",
    "print(aladdin[:500])"
   ]
  },
  {
   "cell_type": "code",
   "execution_count": 4,
   "metadata": {},
   "outputs": [
    {
     "name": "stdout",
     "output_type": "stream",
     "text": [
      "['haccucal', 'alivincular', 'caseworks', 'platyrrhina', 'well-made', 'moutlers', 'anasazi', 'overdiscouraging', 'bumpkinet', 'inbringer', 'ttfn', 'acetol', 'trans-severn', 'unulcerousness', 'rosebushes', 'chifley', 'pelvics', 'balneographer', 'unmashed', 'splendiferously', 'esquamate', 'valet-de-place', 'cussedly', 'paleontologists', 'world-disappointing', 'thundersmiting', 'towermen', 'phonographs', 'correctiveness', 'savouriness', 'flamming', \"hitter's\", 'siliceous', 'myalgias', 'standardly', 'vintaged', 'antiecclesiastical', 'subpyriform', 'asabi', 'jestings', 'dog-headed', 'bonebinder', 'christofer', 'canvasing', 'geom', 'road-oiling', 'shapeshifter', 'congenitally', 'tin-pot', 'new-array']\n"
     ]
    }
   ],
   "source": [
    "with open(\"data/english_words.txt\") as word_file:\n",
    "    english_words = set(word.strip().lower() for word in word_file)\n",
    "print(list(english_words)[:50])"
   ]
  },
  {
   "cell_type": "code",
   "execution_count": 5,
   "metadata": {},
   "outputs": [
    {
     "name": "stdout",
     "output_type": "stream",
     "text": [
      "Is 'hello' an english word? True\n",
      "Is 'lol' an english word? False\n"
     ]
    }
   ],
   "source": [
    "def is_english_word(word):\n",
    "    return word.lower() in english_words\n",
    "\n",
    "print(\"Is 'hello' an english word? {}\".format(is_english_word('hello')))\n",
    "print(\"Is 'lol' an english word? {}\".format(is_english_word('lol')))"
   ]
  },
  {
   "cell_type": "code",
   "execution_count": 6,
   "metadata": {},
   "outputs": [
    {
     "name": "stdout",
     "output_type": "stream",
     "text": [
      "finished step 10 in 4.75s\n",
      "finished step 20 in 5.43s\n",
      "finished step 30 in 5.38s\n",
      "finished step 40 in 5.33s\n",
      "finished step 50 in 5.28s\n",
      "finished step 60 in 5.39s\n",
      "finished step 70 in 5.49s\n",
      "finished step 80 in 5.48s\n",
      "finished step 90 in 5.25s\n",
      "normalizing results\n",
      "total time: 52.5s\n"
     ]
    }
   ],
   "source": [
    "def els_code_generator(stride_start, stride_end, min_word_len, max_word_len, string, lookout_for=[]):\n",
    "    t0 = time.time()\n",
    "    t1 = t0\n",
    "    dictionary = {}\n",
    "    print_mark = round(stride_end/10)\n",
    "    l = len(string)\n",
    "    for k in range(stride_start, stride_end, 1):\n",
    "        for i in range(0, l):\n",
    "            cur = i\n",
    "            new_text = string[cur]\n",
    "            while cur < l and len(new_text) <= max_word_len:\n",
    "                if len(new_text) >= min_word_len and is_english_word(new_text):\n",
    "                    if new_text in lookout_for:\n",
    "                        print(f\"{new_text}: {k}\")\n",
    "                    if new_text not in dictionary.keys():\n",
    "                        dictionary[new_text] = 1\n",
    "                    else:\n",
    "                        dictionary[new_text] += 1\n",
    "                cur += k\n",
    "                if cur < l:\n",
    "                    new_text += string[cur]\n",
    "        if k%print_mark==0:\n",
    "            print(f\"finished step {k} in {round(time.time()-t1, 2)}s\")\n",
    "            t1 = time.time()\n",
    "    print('normalizing results')\n",
    "    for word in dictionary.keys():\n",
    "        dictionary[word] = dictionary[word]/l\n",
    "    print(f\"total time: {round(time.time()-t0, 2)}s\")\n",
    "    return dictionary\n",
    "\n",
    "aladdin_dictionary = els_code_generator(2, 100, 0, 10, aladdin)"
   ]
  },
  {
   "cell_type": "code",
   "execution_count": 14,
   "metadata": {},
   "outputs": [
    {
     "name": "stdout",
     "output_type": "stream",
     "text": [
      "Normalized number of times 'a' was found in the Aladdin text: 9.621847808014188\n",
      "Normalized number of times 'bear' was found in the Aladdin text: 0.0010668957490439506\n",
      "Normalized number of times 'sensibility' was found in the Aladdin text: 0\n",
      "Normalized number of times 'science_sensibility' was found in the Aladdin text: not a word\n"
     ]
    }
   ],
   "source": [
    "def check(dictionary, word, state_naw=True):\n",
    "    if not is_english_word(word) and state_naw:\n",
    "        return \"not a word\"\n",
    "    if word in dictionary.keys():\n",
    "        return dictionary[word]\n",
    "    return 0\n",
    "\n",
    "print(\"Normalized number of times 'a' was found in the Aladdin text: {}\".format(check(aladdin_dictionary, 'a')))\n",
    "print(\"Normalized number of times 'bear' was found in the Aladdin text: {}\".format(check(aladdin_dictionary, 'bear')))\n",
    "print(\"Normalized number of times 'sensibility' was found in the Aladdin text: {}\".format(check(aladdin_dictionary, 'sensibility')))\n",
    "print(\"Normalized number of times 'science_sensibility' was found in the Aladdin text: {}\".format(check(aladdin_dictionary, 'science_sensibility')))"
   ]
  },
  {
   "cell_type": "code",
   "execution_count": 15,
   "metadata": {},
   "outputs": [
    {
     "name": "stdout",
     "output_type": "stream",
     "text": [
      "finished step 10 in 6.37s\n",
      "finished step 20 in 7.29s\n",
      "finished step 30 in 7.04s\n",
      "finished step 40 in 6.73s\n",
      "finished step 50 in 6.89s\n",
      "finished step 60 in 6.7s\n",
      "finished step 70 in 6.72s\n",
      "finished step 80 in 6.7s\n",
      "finished step 90 in 6.83s\n",
      "normalizing results\n",
      "total time: 67.53s\n"
     ]
    }
   ],
   "source": [
    "with open(\"data/metamorphosis.txt\") as text:\n",
    "    metamorphosis_dictionary = els_code_generator(2, 100, 0, 10, clean_text(text.read()))"
   ]
  },
  {
   "cell_type": "code",
   "execution_count": 9,
   "metadata": {},
   "outputs": [
    {
     "name": "stdout",
     "output_type": "stream",
     "text": [
      "finished step 10 in 7.47s\n",
      "finished step 20 in 8.31s\n",
      "finished step 30 in 8.32s\n",
      "finished step 40 in 8.3s\n",
      "finished step 50 in 8.54s\n",
      "finished step 60 in 8.69s\n",
      "finished step 70 in 8.65s\n",
      "finished step 80 in 8.02s\n",
      "finished step 90 in 7.85s\n",
      "normalizing results\n",
      "total time: 81.66s\n"
     ]
    }
   ],
   "source": [
    "with open(\"data/alice_in_wonderland.txt\") as text:\n",
    "    alice_wonderland_dictionary = els_code_generator(2, 100, 0, 10, clean_text(text.read()))"
   ]
  },
  {
   "cell_type": "code",
   "execution_count": 10,
   "metadata": {},
   "outputs": [
    {
     "name": "stdout",
     "output_type": "stream",
     "text": [
      "finished step 10 in 4.83s\n",
      "finished step 20 in 5.36s\n",
      "finished step 30 in 5.28s\n",
      "finished step 40 in 5.3s\n",
      "finished step 50 in 5.22s\n",
      "finished step 60 in 5.29s\n",
      "finished step 70 in 5.29s\n",
      "finished step 80 in 5.74s\n",
      "finished step 90 in 5.53s\n",
      "normalizing results\n",
      "total time: 52.54s\n"
     ]
    }
   ],
   "source": [
    "with open(\"data/study_in_scarlet.txt\") as text:\n",
    "    study_scarlet_dictionary = els_code_generator(2, 100, 0, 10, clean_text(text.read()))"
   ]
  },
  {
   "cell_type": "code",
   "execution_count": 65,
   "metadata": {},
   "outputs": [
    {
     "data": {
      "image/png": "[encoded data removed]",
      "text/plain": [
       "<Figure size 900x540 with 1 Axes>"
      ]
     },
     "metadata": {
      "needs_background": "light"
     },
     "output_type": "display_data"
    }
   ],
   "source": [
    "dictionary_options = {'Aladdin' : aladdin_dictionary, \n",
    "                     'Metamorphosis' : metamorphosis_dictionary,\n",
    "                     'Alice in Wonderland' : alice_wonderland_dictionary,\n",
    "                     'A Study in Scarlet' : study_scarlet_dictionary}\n",
    "\n",
    "def compare_word(labels, dictionaries, probability=False):\n",
    "    labels_list = labels.strip().split(' ')\n",
    "    fig, ax = plt.subplots(figsize=(12.5, 7.5))\n",
    "    width = 0.2\n",
    "    shift = 0\n",
    "    index = np.arange(len(labels_list))\n",
    "    for dictionary in dictionaries:\n",
    "        if probability:\n",
    "            counts = [check(dictionary_options[dictionary], label, False)*26**len(label) for label in labels_list]\n",
    "        else:\n",
    "            counts = [check(dictionary_options[dictionary], label, False) for label in labels_list]\n",
    "        ax.bar(index + shift, counts, width, label=dictionary)\n",
    "        shift += width\n",
    "    labels_list = [i if is_english_word(i) else i+\" (NAW)\" for i in labels_list]\n",
    "    plt.xticks(index + width*(len(dictionaries)-1)/2, labels_list)\n",
    "    plt.xlabel('Selected Words')\n",
    "    if probability:\n",
    "        plt.ylabel('Normalized Count * Approximate probability of occurance (Log Scale)')\n",
    "        plt.yscale('log')\n",
    "    else:\n",
    "        plt.ylabel('Normalized Count (Linear Scale)')\n",
    "    plt.title('Specific word count for various texts')\n",
    "    plt.legend()\n",
    "    plt.tight_layout()\n",
    "\n",
    "compare_word('red orange yellow green blue purple lavender', list(dictionary_options.keys()))"
   ]
  },
  {
   "cell_type": "code",
   "execution_count": 66,
   "metadata": {},
   "outputs": [
    {
     "data": {
      "image/png": "[encoded data removed]",
      "text/plain": [
       "<Figure size 900x540 with 1 Axes>"
      ]
     },
     "metadata": {
      "needs_background": "light"
     },
     "output_type": "display_data"
    }
   ],
   "source": [
    "compare_word('a red orange yellow green blue purple lavender', list(dictionary_options.keys()), True)"
   ]
  },
  {
   "cell_type": "code",
   "execution_count": 68,
   "metadata": {},
   "outputs": [
    {
     "data": {
      "application/vnd.jupyter.widget-view+json": {
       "model_id": "7a54ce47701942a5a6d229b7f6b8f38b",
       "version_major": 2,
       "version_minor": 0
      },
      "text/plain": [
       "interactive(children=(Textarea(value='earth wind fire', description='labels'), SelectMultiple(description='dic…"
      ]
     },
     "metadata": {},
     "output_type": "display_data"
    },
    {
     "data": {
      "text/plain": [
       "<function __main__.compare_word(labels, dictionaries, probability=False)>"
      ]
     },
     "execution_count": 68,
     "metadata": {},
     "output_type": "execute_result"
    }
   ],
   "source": [
    "widgets.interact(compare_word, \n",
    "                    labels=widgets.Textarea(value='earth wind fire'), \n",
    "                    dictionaries=widgets.widgets.SelectMultiple(options=dictionary_options.keys(), \n",
    "                                                                value=list(dictionary_options.keys())),\n",
    "                    probibility=widgets.Checkbox(value=False, description='Multiple probability of occurance'))"
   ]
  },
  {
   "cell_type": "code",
   "execution_count": null,
   "metadata": {},
   "outputs": [],
   "source": []
  }
 ],
 "metadata": {
  "kernelspec": {
   "display_name": "Python 3",
   "language": "python",
   "name": "python3"
  },
  "language_info": {
   "codemirror_mode": {
    "name": "ipython",
    "version": 3
   },
   "file_extension": ".py",
   "mimetype": "text/x-python",
   "name": "python",
   "nbconvert_exporter": "python",
   "pygments_lexer": "ipython3",
   "version": "3.6.8"
  }
 },
 "nbformat": 4,
 "nbformat_minor": 2
}
