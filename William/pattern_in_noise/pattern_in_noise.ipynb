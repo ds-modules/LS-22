{
 "cells": [
  {
   "cell_type": "raw",
   "metadata": {},
   "source": [
    "TODO: \n",
    "    Comment code\n",
    "    Add descriptions and explainations\n",
    "    \n",
    "DONE:\n",
    "    ELS code generator\n",
    "    Interactive widget to compare texts\n",
    "    Overall coding framework"
   ]
  },
  {
   "cell_type": "code",
   "execution_count": 1,
   "metadata": {},
   "outputs": [],
   "source": [
    "def clean_text(string, numbers=False):\n",
    "    removed = \" ()''.-’“”!@#$%^&*+=:,/?;|}{][<>`~}1234567890\"\n",
    "    other = [\"\\n\", \"\\t\", \"\\w\", '\"']\n",
    "    new = string\n",
    "    for r in removed:\n",
    "        new = new.replace(r, '')\n",
    "    for o in other:\n",
    "        new = new.replace(o, '')\n",
    "    return new.lower()\n",
    "\n",
    "def is_english_word(word):\n",
    "    return word.lower() in english_words\n",
    "\n",
    "import time\n",
    "\n",
    "def els_code_generator(stride_start, stride_end, min_word_len, max_word_len, string, lookout_for=[]):\n",
    "    t0 = time.time()\n",
    "    t1 = t0\n",
    "    dictionary = {}\n",
    "    print_mark = round(stride_end/10)\n",
    "    l = len(string)\n",
    "    for k in range(stride_start, stride_end, 1):\n",
    "        for i in range(0, l):\n",
    "            cur = i\n",
    "            new_text = string[cur]\n",
    "            while cur < l and len(new_text) <= max_word_len:\n",
    "                if len(new_text) >= min_word_len and is_english_word(new_text):\n",
    "                    if new_text in lookout_for:\n",
    "                        print(f\"{new_text}: {k}\")\n",
    "                    if new_text not in dictionary.keys():\n",
    "                        dictionary[new_text] = 1\n",
    "                    else:\n",
    "                        dictionary[new_text] += 1\n",
    "                cur += k\n",
    "                if cur < l:\n",
    "                    new_text += string[cur]\n",
    "        if k%print_mark==0:\n",
    "            print(f\"finished step {k} in {round(time.time()-t1, 2)}s\")\n",
    "            t1 = time.time()\n",
    "    print('normalizing results')\n",
    "    for word in dictionary.keys():\n",
    "        dictionary[word] = dictionary[word]/l\n",
    "    print(f\"total time: {round(time.time()-t0, 2)}s\")\n",
    "    return dictionary\n",
    "\n",
    "def check(dictionary, word, state_naw=True):\n",
    "    if not is_english_word(word) and state_naw:\n",
    "        return \"not a word\"\n",
    "    if word in dictionary.keys():\n",
    "        return dictionary[word]\n",
    "    return 0"
   ]
  },
  {
   "cell_type": "code",
   "execution_count": 2,
   "metadata": {},
   "outputs": [],
   "source": [
    "f = open('data/metamorphosis.txt')\n",
    "metamorphosis = f.read()\n",
    "f.close()\n",
    "\n",
    "with open(\"data/english_words.txt\") as word_file:\n",
    "    english_words = set(word.strip().lower() for word in word_file)"
   ]
  },
  {
   "cell_type": "code",
   "execution_count": 3,
   "metadata": {},
   "outputs": [],
   "source": [
    "metamorphosis = clean_text(metamorphosis)"
   ]
  },
  {
   "cell_type": "code",
   "execution_count": 4,
   "metadata": {},
   "outputs": [
    {
     "name": "stdout",
     "output_type": "stream",
     "text": [
      "finished step 10 in 4.86s\n",
      "finished step 20 in 5.31s\n",
      "finished step 30 in 5.44s\n",
      "finished step 40 in 5.41s\n",
      "finished step 50 in 5.46s\n",
      "finished step 60 in 5.48s\n",
      "finished step 70 in 5.81s\n",
      "finished step 80 in 5.5s\n",
      "finished step 90 in 5.45s\n",
      "normalizing results\n",
      "total time: 53.66s\n"
     ]
    }
   ],
   "source": [
    "with open(\"data/aladdin.txt\") as text:\n",
    "    aladdin_dictionary = els_code_generator(2, 100, 0, 10, clean_text(text.read()))"
   ]
  },
  {
   "cell_type": "code",
   "execution_count": 5,
   "metadata": {},
   "outputs": [
    {
     "name": "stdout",
     "output_type": "stream",
     "text": [
      "finished step 10 in 6.5s\n",
      "finished step 20 in 7.27s\n",
      "finished step 30 in 7.19s\n",
      "finished step 40 in 7.11s\n",
      "finished step 50 in 8.54s\n",
      "finished step 60 in 7.14s\n",
      "finished step 70 in 7.75s\n",
      "finished step 80 in 7.28s\n",
      "finished step 90 in 7.2s\n",
      "normalizing results\n",
      "total time: 72.43s\n"
     ]
    }
   ],
   "source": [
    "metamorphosis_dictionary = els_code_generator(2, 100, 0, 10, metamorphosis)"
   ]
  },
  {
   "cell_type": "code",
   "execution_count": 7,
   "metadata": {},
   "outputs": [
    {
     "name": "stdout",
     "output_type": "stream",
     "text": [
      "finished step 10 in 7.76s\n",
      "finished step 20 in 8.74s\n",
      "finished step 30 in 8.56s\n",
      "finished step 40 in 8.82s\n",
      "finished step 50 in 8.74s\n",
      "finished step 60 in 8.72s\n",
      "finished step 70 in 8.73s\n",
      "finished step 80 in 8.79s\n",
      "finished step 90 in 8.57s\n",
      "normalizing results\n",
      "total time: 85.11s\n"
     ]
    }
   ],
   "source": [
    "with open(\"data/alice_in_wonderland.txt\") as text:\n",
    "    alice_wonderland_dictionary = els_code_generator(2, 100, 0, 10, clean_text(text.read()))"
   ]
  },
  {
   "cell_type": "code",
   "execution_count": 8,
   "metadata": {},
   "outputs": [
    {
     "name": "stdout",
     "output_type": "stream",
     "text": [
      "finished step 10 in 5.04s\n",
      "finished step 20 in 5.87s\n",
      "finished step 30 in 5.77s\n",
      "finished step 40 in 5.59s\n",
      "finished step 50 in 5.51s\n",
      "finished step 60 in 5.75s\n",
      "finished step 70 in 5.92s\n",
      "finished step 80 in 5.51s\n",
      "finished step 90 in 5.69s\n",
      "normalizing results\n",
      "total time: 56.55s\n"
     ]
    }
   ],
   "source": [
    "with open(\"data/study_in_scarlet.txt\") as text:\n",
    "    study_scarlet_dictionary = els_code_generator(2, 100, 0, 10, clean_text(text.read()))"
   ]
  },
  {
   "cell_type": "code",
   "execution_count": 9,
   "metadata": {},
   "outputs": [
    {
     "data": {
      "text/plain": [
       "9.657710280373832"
      ]
     },
     "execution_count": 9,
     "metadata": {},
     "output_type": "execute_result"
    }
   ],
   "source": [
    "check(aladdin_dictionary, 'a')"
   ]
  },
  {
   "cell_type": "code",
   "execution_count": 14,
   "metadata": {},
   "outputs": [
    {
     "data": {
      "image/png": "[encoded data removed]",
      "text/plain": [
       "<Figure size 900x540 with 1 Axes>"
      ]
     },
     "metadata": {
      "needs_background": "light"
     },
     "output_type": "display_data"
    }
   ],
   "source": [
    "import matplotlib\n",
    "import matplotlib.pyplot as plt\n",
    "import numpy as np\n",
    "import ipywidgets as widgets\n",
    "from ipywidgets import interact\n",
    "\n",
    "dictionary_options = {'Aladdin' : aladdin_dictionary, \n",
    "                     'Metamorphosis' : metamorphosis_dictionary,\n",
    "                     'Alice in Wonderland' : alice_wonderland_dictionary,\n",
    "                     'A Study in Scarlet' : study_scarlet_dictionary}\n",
    "\n",
    "def compare_word(labels, dictionaries):\n",
    "    labels_list = labels.strip().split(' ')\n",
    "    fig, ax = plt.subplots(figsize=(12.5, 7.5))\n",
    "    width = 0.2\n",
    "    shift = 0\n",
    "    index = np.arange(len(labels_list))\n",
    "    for dictionary in dictionaries:\n",
    "        counts = [check(dictionary_options[dictionary], label, False) for label in labels_list]\n",
    "        ax.bar(index + shift, counts, width, label=dictionary)\n",
    "        shift += width\n",
    "    labels_list = [i if is_english_word(i) else i+\" (NAW)\" for i in labels_list]\n",
    "    plt.xticks(index + width*(len(dictionaries)-1)/2, labels_list)\n",
    "    plt.xlabel('Selected Words')\n",
    "    plt.ylabel('Normalized Count')\n",
    "    plt.title('Specific word count for various texts')\n",
    "    plt.legend()\n",
    "    plt.tight_layout()\n",
    "\n",
    "compare_word('earth wind fire', list(dictionary_options.keys()))"
   ]
  },
  {
   "cell_type": "code",
   "execution_count": 15,
   "metadata": {},
   "outputs": [
    {
     "data": {
      "application/vnd.jupyter.widget-view+json": {
       "model_id": "ce4c291f458b4d6ba7a3f03f3806c1a1",
       "version_major": 2,
       "version_minor": 0
      },
      "text/plain": [
       "interactive(children=(Textarea(value='earth wind fire', description='labels'), SelectMultiple(description='dic…"
      ]
     },
     "metadata": {},
     "output_type": "display_data"
    },
    {
     "data": {
      "text/plain": [
       "<function __main__.compare_word(labels, dictionaries)>"
      ]
     },
     "execution_count": 15,
     "metadata": {},
     "output_type": "execute_result"
    }
   ],
   "source": [
    "interact(compare_word, \n",
    "         labels=widgets.Textarea(value='earth wind fire'), \n",
    "         dictionaries=widgets.widgets.SelectMultiple(options=dictionary_options.keys(), \n",
    "                                                     value=list(dictionary_options.keys())))"
   ]
  },
  {
   "cell_type": "code",
   "execution_count": null,
   "metadata": {},
   "outputs": [],
   "source": []
  }
 ],
 "metadata": {
  "kernelspec": {
   "display_name": "Python 3",
   "language": "python",
   "name": "python3"
  },
  "language_info": {
   "codemirror_mode": {
    "name": "ipython",
    "version": 3
   },
   "file_extension": ".py",
   "mimetype": "text/x-python",
   "name": "python",
   "nbconvert_exporter": "python",
   "pygments_lexer": "ipython3",
   "version": "3.6.8"
  }
 },
 "nbformat": 4,
 "nbformat_minor": 2
}
