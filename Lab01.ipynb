{
 "cells": [
  {
   "cell_type": "markdown",
   "metadata": {},
   "source": [
    "![voting image](http://www.burntx.com/wp-content/uploads/2018/01/voting-09-768x384.jpg)\n",
    "# <center><font color = #2E5266>Systematic and Statistical Uncertainty </font></center>\n",
    "**<center>The 2016 US Presidential Election and Uncertainty: How did the pollsters get it wrong?</center>**\n",
    "***\n",
    "In 2012, statistician Nate Silver's website, fivethirtyeight.com, was famous for correctly predicting the US election outcome for all 50 sates and the District of Columbia. The same statistical model predicted Hillary Clinton as the winner of the 2016 US Presidential election. This notebook will explore the following questions:\n",
    "\n",
    "- How did FiveThirtyEight make its predictions?\n",
    "- Was the FiveThirtyEight prediction incorrect due to statistical error, systematic error, or both?\n",
    "- Should we say that FiveThirtyEight and other major election analysts \"failed\"?\n",
    "\n",
    "Before we begin, recall the definitions of **<font color = #6E8898>systematic</font>** and **<font color = #6E8898>statistical error</font>**:\n",
    "\n",
    ">**<font color = #6E8898>Systematic error</font>** is is consistent, repeatable error associated with faulty equipment or a flawed experiment design while **<font color = #6E8898>statistical error</font>** is the unknown difference between a calculated value and the true value.\n",
    "\n",
    "\n",
    "In this context, what would systematic vs statistical errors mean for the election? Let's take a look!"
   ]
  },
  {
   "cell_type": "code",
   "execution_count": 1,
   "metadata": {},
   "outputs": [],
   "source": [
    "# Hex codes for color palette\n",
    "# dark blue 2E5266\n",
    "# lighter blue 6E8898\n",
    "# blue gray 9FB1BC\n",
    "# gray pink D3D0CB\n",
    "# yellow accent E2C044"
   ]
  },
  {
   "cell_type": "markdown",
   "metadata": {},
   "source": [
    "**will contain the interactive widget**"
   ]
  },
  {
   "cell_type": "markdown",
   "metadata": {},
   "source": [
    "**Question 1**&nbsp;&nbsp;&nbsp;&nbsp;Where could there be sources of statistical error?"
   ]
  },
  {
   "cell_type": "code",
   "execution_count": 2,
   "metadata": {},
   "outputs": [],
   "source": [
    "# Replace this text box with your answer"
   ]
  },
  {
   "cell_type": "markdown",
   "metadata": {},
   "source": [
    "**Question 2**&nbsp;&nbsp;&nbsp;&nbsp;What about systematic error?"
   ]
  },
  {
   "cell_type": "code",
   "execution_count": null,
   "metadata": {},
   "outputs": [],
   "source": []
  }
 ],
 "metadata": {
  "kernelspec": {
   "display_name": "Python 3",
   "language": "python",
   "name": "python3"
  },
  "language_info": {
   "codemirror_mode": {
    "name": "ipython",
    "version": 3
   },
   "file_extension": ".py",
   "mimetype": "text/x-python",
   "name": "python",
   "nbconvert_exporter": "python",
   "pygments_lexer": "ipython3",
   "version": "3.6.8"
  }
 },
 "nbformat": 4,
 "nbformat_minor": 2
}
