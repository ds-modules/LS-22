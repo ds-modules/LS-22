{
 "cells": [
  {
   "cell_type": "markdown",
   "metadata": {},
   "source": [
    "![Spam email image](https://www.howtogeek.com/wp-content/uploads/2019/04/xemail-bomb.jpg.pagespeed.gp+jp+jw+pj+ws+js+rj+rp+rw+ri+cp+md.ic.UUnEG5yZbp.jpg)\n",
    "# <center><font color = #2E5266>Error Types and Costs: Case Studies</font></center>\n",
    "<center>Statistical models can help us understand and make predictions about the world. But, no model is perfect. Through two real-life case studies of applied machine learning, we will explore how type I and type II errors have consequences for decision-making in different contexts, and how trying to reduce one type can increase another.</center>"
   ]
  },
  {
   "cell_type": "markdown",
   "metadata": {},
   "source": [
    "***\n",
    "Before we begin, recall the definitions of the following terms:\n",
    "* <font color = #6E8898>Type I Error</font> is ...\n",
    "* <font color = #6E8898>Type II Error</font> is ...\n",
    "* <font color = #6E8898>Precision</font> is ...\n",
    "* <font color = #6E8898>Recall</font> is ...\n",
    "\n",
    "Now we will explore what is called a <font color = #6E8898>confusion matrix</font>. Now, don't be confused by the confusion matrix. We will explore what exactly it is below.\n",
    "\n",
    "By definition, a confusion matrix $C$ is such that a cell at position $(1,3)$ called $C_{(1,3)}$ is known to be in group 1 and predicted to be in group 3.\n",
    "![](data/matrix_c.png)"
   ]
  },
  {
   "cell_type": "markdown",
   "metadata": {},
   "source": [
    "## Case Study: SMS Spam Data"
   ]
  },
  {
   "cell_type": "markdown",
   "metadata": {},
   "source": [
    "In this dataset, we will be studying a collection of SMS messages. Some of these messages are ham (\"real\" messages), and some are spam. To read more about this dataset, please take a look at the `data/readme.txt` file, or visit https://archive.ics.uci.edu/ml/datasets/sms+spam+collection."
   ]
  },
  {
   "cell_type": "code",
   "execution_count": 38,
   "metadata": {
    "collapsed": true
   },
   "outputs": [],
   "source": [
    "from datascience import *\n",
    "import matplotlib.pyplot as plt\n",
    "%matplotlib inline\n",
    "import ipywidgets as widgets\n",
    "import numpy as np\n",
    "from scipy import stats\n",
    "\n",
    "# Defining barchart function \n",
    "def barchart(array, x_label):\n",
    "    counts = np.bincount(array)\n",
    "    x_axis_labels = [str(i) for i in range(1, len(counts))]\n",
    "    plt.bar(x_axis_labels, counts[1:])\n",
    "    plt.xlabel(x_label)\n",
    "    plt.ylabel(\"Frequency\")\n",
    "\n",
    "# Defining histogram function\n",
    "def histogram(array, x_label):\n",
    "    plt.hist(array)\n",
    "    plt.xlabel(x_label)\n",
    "    plt.ylabel(\"Frequency\")"
   ]
  },
  {
   "cell_type": "code",
   "execution_count": 39,
   "metadata": {},
   "outputs": [
    {
     "data": {
      "text/html": [
       "<table border=\"1\" class=\"dataframe\">\n",
       "    <thead>\n",
       "        <tr>\n",
       "            <th>Class</th> <th>Text</th>\n",
       "        </tr>\n",
       "    </thead>\n",
       "    <tbody>\n",
       "        <tr>\n",
       "            <td>ham  </td> <td>Go until jurong point, crazy.. Available only in bugis n ...</td>\n",
       "        </tr>\n",
       "        <tr>\n",
       "            <td>ham  </td> <td>Ok lar... Joking wif u oni...                               </td>\n",
       "        </tr>\n",
       "        <tr>\n",
       "            <td>spam </td> <td>Free entry in 2 a wkly comp to win FA Cup final tkts 21s ...</td>\n",
       "        </tr>\n",
       "        <tr>\n",
       "            <td>ham  </td> <td>U dun say so early hor... U c already then say...           </td>\n",
       "        </tr>\n",
       "        <tr>\n",
       "            <td>ham  </td> <td>Nah I don't think he goes to usf, he lives around here t ...</td>\n",
       "        </tr>\n",
       "        <tr>\n",
       "            <td>spam </td> <td>FreeMsg Hey there darling it's been 3 week's now and no  ...</td>\n",
       "        </tr>\n",
       "        <tr>\n",
       "            <td>ham  </td> <td>Even my brother is not like to speak with me. They treat ...</td>\n",
       "        </tr>\n",
       "        <tr>\n",
       "            <td>ham  </td> <td>As per your request 'Melle Melle (Oru Minnaminunginte Nu ...</td>\n",
       "        </tr>\n",
       "        <tr>\n",
       "            <td>spam </td> <td>WINNER!! As a valued network customer you have been sele ...</td>\n",
       "        </tr>\n",
       "        <tr>\n",
       "            <td>spam </td> <td>Had your mobile 11 months or more? U R entitled to Updat ...</td>\n",
       "        </tr>\n",
       "    </tbody>\n",
       "</table>\n",
       "<p>... (5419 rows omitted)</p>"
      ],
      "text/plain": [
       "Class | Text\n",
       "ham   | Go until jurong point, crazy.. Available only in bugis n ...\n",
       "ham   | Ok lar... Joking wif u oni...\n",
       "spam  | Free entry in 2 a wkly comp to win FA Cup final tkts 21s ...\n",
       "ham   | U dun say so early hor... U c already then say...\n",
       "ham   | Nah I don't think he goes to usf, he lives around here t ...\n",
       "spam  | FreeMsg Hey there darling it's been 3 week's now and no  ...\n",
       "ham   | Even my brother is not like to speak with me. They treat ...\n",
       "ham   | As per your request 'Melle Melle (Oru Minnaminunginte Nu ...\n",
       "spam  | WINNER!! As a valued network customer you have been sele ...\n",
       "spam  | Had your mobile 11 months or more? U R entitled to Updat ...\n",
       "... (5419 rows omitted)"
      ]
     },
     "execution_count": 39,
     "metadata": {},
     "output_type": "execute_result"
    }
   ],
   "source": [
    "data = Table.read_table(\"data/SMSSpamCollection.csv\")\n",
    "data"
   ]
  },
  {
   "cell_type": "markdown",
   "metadata": {},
   "source": [
    "If you read the some of the texts, it is pretty easy to distinguish spam vs ham. However, we are interested in getting a program to tell them apart. "
   ]
  },
  {
   "cell_type": "code",
   "execution_count": 42,
   "metadata": {},
   "outputs": [
    {
     "data": {
      "text/plain": [
       "Text(0, 0.5, 'Frequency')"
      ]
     },
     "execution_count": 42,
     "metadata": {},
     "output_type": "execute_result"
    },
    {
     "data": {
      "image/png": "[encoded data removed]",
      "text/plain": [
       "<Figure size 432x288 with 1 Axes>"
      ]
     },
     "metadata": {
      "needs_background": "light"
     },
     "output_type": "display_data"
    }
   ],
   "source": [
    "hams = data.where(\"Class\", are.equal_to(\"ham\"))\n",
    "ham_texts =hams.column(\"Text\")\n",
    "\n",
    "count = 0\n",
    "ham_vals = []\n",
    "for text in ham_texts:\n",
    "    if count > 734:\n",
    "        break\n",
    "    count+=1\n",
    "    ham_vals += [(len([i for i in text if i.isupper()]))]\n",
    "\n",
    "spams = data.where(\"Class\", are.equal_to(\"spam\"))\n",
    "spam_texts = spams.column(\"Text\")\n",
    "\n",
    "count = 0\n",
    "spam_vals = []\n",
    "for text in spam_texts:\n",
    "    if count > 734:\n",
    "        break\n",
    "    count+=1\n",
    "    spam_vals += [(len([i for i in text if i.isupper()]))]\n",
    "\n",
    "bins = np.linspace(0, 60, 60)\n",
    "plt.hist(spam_vals, alpha=.5, bins=bins, color=\"red\")\n",
    "plt.hist(ham_vals, alpha=.5, bins=bins, color=\"green\")\n",
    "\n",
    "plt.xlabel(\"Number of Uppers\")\n",
    "plt.ylabel(\"Frequency\")"
   ]
  },
  {
   "cell_type": "code",
   "execution_count": null,
   "metadata": {},
   "outputs": [],
   "source": []
  },
  {
   "cell_type": "code",
   "execution_count": null,
   "metadata": {
    "collapsed": true
   },
   "outputs": [],
   "source": []
  }
 ],
 "metadata": {
  "kernelspec": {
   "display_name": "Python 3",
   "language": "python",
   "name": "python3"
  },
  "language_info": {
   "codemirror_mode": {
    "name": "ipython",
    "version": 3
   },
   "file_extension": ".py",
   "mimetype": "text/x-python",
   "name": "python",
   "nbconvert_exporter": "python",
   "pygments_lexer": "ipython3",
   "version": "3.6.3"
  }
 },
 "nbformat": 4,
 "nbformat_minor": 2
}
