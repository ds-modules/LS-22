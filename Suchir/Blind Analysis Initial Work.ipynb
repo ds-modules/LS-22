{
 "cells": [
  {
   "cell_type": "markdown",
   "metadata": {
    "collapsed": true
   },
   "source": [
    "As aspiring data scientists, we wield a lot of power. Every decision made today, whether it be deciding prices on a McDonalds menu or predicting the winner of an election, is increasingly relying on drawing conclusions from data. However, with this great power comes great responsibility as well. We have to ensure that the decisions we make are fair and unbiased. \n",
    "\n",
    "If we start our experiment with a goal of achieving a certain result, we shouldn't keep tweaking our methodology as we're running the experiment until we find an appropriate finding. A responsible approach would be to initially agree on a methodology, and run the experiment without \"peeking\" at the raw data. Only when the analysis is finished should we examine our result. This approach is called \"blind analysis,\" and we will investigate how it works and why it's so important!"
   ]
  },
  {
   "cell_type": "code",
   "execution_count": 57,
   "metadata": {
    "collapsed": true
   },
   "outputs": [],
   "source": [
    "# Just run this cell - it contains a bunch of helpful libraries, some of which you may be familar with!\n",
    "from datascience import * # This is the library used in Data 8!\n",
    "import pandas as pd\n",
    "import matplotlib.pyplot as plt\n",
    "%matplotlib inline\n",
    "import ipywidgets as widgets\n",
    "import numpy as np\n",
    "from IPython.display import display"
   ]
  },
  {
   "cell_type": "markdown",
   "metadata": {},
   "source": [
    "Let's take the example of Simpson's paradox. This is a statistical phenomenon where we see a trend in many groups of data, but this trend seemingly reverses when the groups are aggregated. A famous case of this actually involves our school! In 1973, researchers wanted to investigate possible gender bias in graduate school admissions at UC Berkeley. Take a look at the data they found below: "
   ]
  },
  {
   "cell_type": "code",
   "execution_count": 58,
   "metadata": {},
   "outputs": [
    {
     "data": {
      "text/html": [
       "<table border=\"1\" class=\"dataframe\">\n",
       "    <thead>\n",
       "        <tr>\n",
       "            <th></th> <th>Applicants</th> <th>Accepted</th>\n",
       "        </tr>\n",
       "    </thead>\n",
       "    <tbody>\n",
       "        <tr>\n",
       "            <td>Men  </td> <td>8442      </td> <td>44%     </td>\n",
       "        </tr>\n",
       "        <tr>\n",
       "            <td>Women</td> <td>4321      </td> <td>35%     </td>\n",
       "        </tr>\n",
       "    </tbody>\n",
       "</table>"
      ],
      "text/plain": [
       "      | Applicants | Accepted\n",
       "Men   | 8442       | 44%\n",
       "Women | 4321       | 35%"
      ]
     },
     "execution_count": 58,
     "metadata": {},
     "output_type": "execute_result"
    }
   ],
   "source": [
    "table = Table().with_columns(\"\", [\"Men\", \"Women\"], \"Applicants\", [8442, 4321], \"Accepted\", [\"44%\", \"35%\"])\n",
    "table"
   ]
  },
  {
   "cell_type": "markdown",
   "metadata": {},
   "source": [
    "Just based on this data, what would you conclude? Does it look like there's a possible bias here?\n",
    "\n",
    "Researchers certainly thought so! That is, until they delved deeper into the data. If we look at a breakdown examining enrollment by department, for the six largest departments, the data paints a different picture. "
   ]
  },
  {
   "cell_type": "code",
   "execution_count": 59,
   "metadata": {},
   "outputs": [
    {
     "data": {
      "text/html": [
       "<table border=\"1\" class=\"dataframe\">\n",
       "    <thead>\n",
       "        <tr>\n",
       "            <th></th> <th>Male Applicants</th> <th>Male Acceptance</th> <th>Female Applicants</th> <th>Female Acceptance</th>\n",
       "        </tr>\n",
       "    </thead>\n",
       "    <tbody>\n",
       "        <tr>\n",
       "            <td>A   </td> <td>825            </td> <td>62%            </td> <td>108              </td> <td>82%              </td>\n",
       "        </tr>\n",
       "        <tr>\n",
       "            <td>B   </td> <td>560            </td> <td>63%            </td> <td>25               </td> <td>68%              </td>\n",
       "        </tr>\n",
       "        <tr>\n",
       "            <td>C   </td> <td>325            </td> <td>37%            </td> <td>593              </td> <td>34%              </td>\n",
       "        </tr>\n",
       "        <tr>\n",
       "            <td>D   </td> <td>417            </td> <td>33%            </td> <td>375              </td> <td>35%              </td>\n",
       "        </tr>\n",
       "        <tr>\n",
       "            <td>E   </td> <td>191            </td> <td>28%            </td> <td>393              </td> <td>24%              </td>\n",
       "        </tr>\n",
       "        <tr>\n",
       "            <td>F   </td> <td>373            </td> <td>6%             </td> <td>341              </td> <td>7%               </td>\n",
       "        </tr>\n",
       "    </tbody>\n",
       "</table>"
      ],
      "text/plain": [
       "     | Male Applicants | Male Acceptance | Female Applicants | Female Acceptance\n",
       "A    | 825             | 62%             | 108               | 82%\n",
       "B    | 560             | 63%             | 25                | 68%\n",
       "C    | 325             | 37%             | 593               | 34%\n",
       "D    | 417             | 33%             | 375               | 35%\n",
       "E    | 191             | 28%             | 393               | 24%\n",
       "F    | 373             | 6%              | 341               | 7%"
      ]
     },
     "execution_count": 59,
     "metadata": {},
     "output_type": "execute_result"
    }
   ],
   "source": [
    "table = Table().with_columns(\"\", [\"A\", \"B\", \"C\", \"D\", \"E\", \"F\"], \"Male Applicants\", [825, 560, 325, 417, 191, 373], \n",
    "                            \"Male Acceptance\", [\"62%\", \"63%\", \"37%\", \"33%\", \"28%\", \"6%\"], \n",
    "                            \"Female Applicants\", [108, 25, 593, 375, 393, 341], \n",
    "                            \"Female Acceptance\", [\"82%\", \"68%\", \"34%\", \"35%\", \"24%\", \"7%\"])\n",
    "table"
   ]
  },
  {
   "cell_type": "markdown",
   "metadata": {},
   "source": [
    "Now, we get some evidence contrary to our initial claims! 4 of the top 6 departments seem to be biased against men.\n",
    "\n",
    "\n",
    "This phenomenon is really unintuitive to understand at first, so don't worry if it takes a while to sink in. Because it's so hard to grasp, it can easily be exploited by people that misapply statistics. If we wanted to demonstrate that the admissions process is biased towards men, we could point to the first table as proof. On the other hand, if we wanted to prove that women are the beneficaries of this bias, we could just refer to the above statistic! \n",
    "\n",
    "So who's right? It all depends on what methodology you follow. If a researcher were to \"peek\" at the raw findings here, and find a result that clashes with their goal, they could easily switch to the other methodology and obtain a satisfactory finding. This is why it's important to carefully decide your methodology at the start, and not proceed until you're absolutely sure that it is the fairest and most complete method. Only then should we finalize it, and run our experiment without tweaking the method. "
   ]
  },
  {
   "cell_type": "code",
   "execution_count": 89,
   "metadata": {
    "collapsed": true
   },
   "outputs": [],
   "source": [
    "expenditures = Table.from_df(pd.read_csv(\"californiaDDSDataV2.csv\"))"
   ]
  },
  {
   "cell_type": "code",
   "execution_count": 91,
   "metadata": {},
   "outputs": [
    {
     "data": {
      "text/html": [
       "<table border=\"1\" class=\"dataframe\">\n",
       "    <thead>\n",
       "        <tr>\n",
       "            <th>Id</th> <th>Age Cohort</th> <th>Age</th> <th>Gender</th> <th>Expenditures</th> <th>Ethnicity</th>\n",
       "        </tr>\n",
       "    </thead>\n",
       "    <tbody>\n",
       "        <tr>\n",
       "            <td>10210</td> <td>13 to 17  </td> <td>17  </td> <td>Female</td> <td>2113        </td> <td>White not Hispanic</td>\n",
       "        </tr>\n",
       "        <tr>\n",
       "            <td>10409</td> <td>22 to 50  </td> <td>37  </td> <td>Male  </td> <td>41924       </td> <td>White not Hispanic</td>\n",
       "        </tr>\n",
       "        <tr>\n",
       "            <td>10486</td> <td>0 to 5    </td> <td>3   </td> <td>Male  </td> <td>1454        </td> <td>Hispanic          </td>\n",
       "        </tr>\n",
       "        <tr>\n",
       "            <td>10538</td> <td>18 to 21  </td> <td>19  </td> <td>Female</td> <td>6400        </td> <td>Hispanic          </td>\n",
       "        </tr>\n",
       "        <tr>\n",
       "            <td>10568</td> <td>13 to 17  </td> <td>13  </td> <td>Male  </td> <td>4412        </td> <td>White not Hispanic</td>\n",
       "        </tr>\n",
       "        <tr>\n",
       "            <td>10690</td> <td>13 to 17  </td> <td>15  </td> <td>Female</td> <td>4566        </td> <td>Hispanic          </td>\n",
       "        </tr>\n",
       "        <tr>\n",
       "            <td>10711</td> <td>13 to 17  </td> <td>13  </td> <td>Female</td> <td>3915        </td> <td>White not Hispanic</td>\n",
       "        </tr>\n",
       "        <tr>\n",
       "            <td>10778</td> <td>13 to 17  </td> <td>17  </td> <td>Male  </td> <td>3873        </td> <td>Black             </td>\n",
       "        </tr>\n",
       "        <tr>\n",
       "            <td>10820</td> <td>13 to 17  </td> <td>14  </td> <td>Female</td> <td>5021        </td> <td>White not Hispanic</td>\n",
       "        </tr>\n",
       "        <tr>\n",
       "            <td>10823</td> <td>13 to 17  </td> <td>13  </td> <td>Male  </td> <td>2887        </td> <td>Hispanic          </td>\n",
       "        </tr>\n",
       "    </tbody>\n",
       "</table>\n",
       "<p>... (990 rows omitted)</p>"
      ],
      "text/plain": [
       "Id    | Age Cohort | Age  | Gender | Expenditures | Ethnicity\n",
       "10210 | 13 to 17   | 17   | Female | 2113         | White not Hispanic\n",
       "10409 | 22 to 50   | 37   | Male   | 41924        | White not Hispanic\n",
       "10486 | 0 to 5     | 3    | Male   | 1454         | Hispanic\n",
       "10538 | 18 to 21   | 19   | Female | 6400         | Hispanic\n",
       "10568 | 13 to 17   | 13   | Male   | 4412         | White not Hispanic\n",
       "10690 | 13 to 17   | 15   | Female | 4566         | Hispanic\n",
       "10711 | 13 to 17   | 13   | Female | 3915         | White not Hispanic\n",
       "10778 | 13 to 17   | 17   | Male   | 3873         | Black\n",
       "10820 | 13 to 17   | 14   | Female | 5021         | White not Hispanic\n",
       "10823 | 13 to 17   | 13   | Male   | 2887         | Hispanic\n",
       "... (990 rows omitted)"
      ]
     },
     "execution_count": 91,
     "metadata": {},
     "output_type": "execute_result"
    }
   ],
   "source": [
    "expenditures"
   ]
  },
  {
   "cell_type": "markdown",
   "metadata": {},
   "source": [
    "CLAIM: White Non-Hispanics were receiving more funding than Hispanics"
   ]
  },
  {
   "cell_type": "code",
   "execution_count": 98,
   "metadata": {},
   "outputs": [
    {
     "data": {
      "text/html": [
       "<table border=\"1\" class=\"dataframe\">\n",
       "    <thead>\n",
       "        <tr>\n",
       "            <th>Ethnicity</th> <th>Expenditures mean</th>\n",
       "        </tr>\n",
       "    </thead>\n",
       "    <tbody>\n",
       "        <tr>\n",
       "            <td>American Indian   </td> <td>36438.2          </td>\n",
       "        </tr>\n",
       "        <tr>\n",
       "            <td>Asian             </td> <td>18392.4          </td>\n",
       "        </tr>\n",
       "        <tr>\n",
       "            <td>Black             </td> <td>20884.6          </td>\n",
       "        </tr>\n",
       "        <tr>\n",
       "            <td>Hispanic          </td> <td>11065.6          </td>\n",
       "        </tr>\n",
       "        <tr>\n",
       "            <td>Multi Race        </td> <td>4456.73          </td>\n",
       "        </tr>\n",
       "        <tr>\n",
       "            <td>Native Hawaiian   </td> <td>42782.3          </td>\n",
       "        </tr>\n",
       "        <tr>\n",
       "            <td>Other             </td> <td>3316.5           </td>\n",
       "        </tr>\n",
       "        <tr>\n",
       "            <td>White not Hispanic</td> <td>24697.5          </td>\n",
       "        </tr>\n",
       "    </tbody>\n",
       "</table>"
      ],
      "text/plain": [
       "Ethnicity          | Expenditures mean\n",
       "American Indian    | 36438.2\n",
       "Asian              | 18392.4\n",
       "Black              | 20884.6\n",
       "Hispanic           | 11065.6\n",
       "Multi Race         | 4456.73\n",
       "Native Hawaiian    | 42782.3\n",
       "Other              | 3316.5\n",
       "White not Hispanic | 24697.5"
      ]
     },
     "execution_count": 98,
     "metadata": {},
     "output_type": "execute_result"
    }
   ],
   "source": [
    "ethnicity_grouped = expenditures.group(\"Ethnicity\", np.mean).select(\"Ethnicity\", \"Expenditures mean\")\n",
    "ethnicity_grouped"
   ]
  },
  {
   "cell_type": "code",
   "execution_count": 154,
   "metadata": {},
   "outputs": [
    {
     "data": {
      "application/vnd.jupyter.widget-view+json": {
       "model_id": "b928918a4fbc433486084febb0ed45e3",
       "version_major": 2,
       "version_minor": 0
      },
      "text/plain": [
       "A Jupyter Widget"
      ]
     },
     "metadata": {},
     "output_type": "display_data"
    }
   ],
   "source": [
    "w = widgets.Dropdown(\n",
    "    options=[\"Age Cohort\", \"Age\", \"Gender\"],\n",
    "    value=\"Age Cohort\",\n",
    "    description='Choose column to correlate with average expenditure:',\n",
    ")\n",
    "display(w)"
   ]
  },
  {
   "cell_type": "code",
   "execution_count": 174,
   "metadata": {},
   "outputs": [
    {
     "data": {
      "text/html": [
       "<table border=\"1\" class=\"dataframe\">\n",
       "    <thead>\n",
       "        <tr>\n",
       "            <th>Age Cohort</th> <th>Expenditures mean</th>\n",
       "        </tr>\n",
       "    </thead>\n",
       "    <tbody>\n",
       "        <tr>\n",
       "            <td>0 to 5    </td> <td>1415.28          </td>\n",
       "        </tr>\n",
       "        <tr>\n",
       "            <td>6 to 12   </td> <td>2226.86          </td>\n",
       "        </tr>\n",
       "        <tr>\n",
       "            <td>18 to 21  </td> <td>9888.54          </td>\n",
       "        </tr>\n",
       "        <tr>\n",
       "            <td>22 to 50  </td> <td>40209.3          </td>\n",
       "        </tr>\n",
       "        <tr>\n",
       "            <td>51+       </td> <td>53521.9          </td>\n",
       "        </tr>\n",
       "    </tbody>\n",
       "</table>"
      ],
      "text/plain": [
       "Age Cohort | Expenditures mean\n",
       "0 to 5     | 1415.28\n",
       "6 to 12    | 2226.86\n",
       "18 to 21   | 9888.54\n",
       "22 to 50   | 40209.3\n",
       "51+        | 53521.9"
      ]
     },
     "execution_count": 174,
     "metadata": {},
     "output_type": "execute_result"
    }
   ],
   "source": [
    "grouped = expenditures.group(w.value, np.mean)\n",
    "if w.value == \"Age Cohort\":\n",
    "    rows = [grouped.row(i) for i in range(1, 5)]\n",
    "    grouped.remove([1, 2, 3, 4])\n",
    "    for i in range(1, 4):\n",
    "        grouped.append(rows[i])\n",
    "grouped.select(w.value, \"Expenditures mean\")"
   ]
  },
  {
   "cell_type": "code",
   "execution_count": 195,
   "metadata": {},
   "outputs": [
    {
     "data": {
      "text/html": [
       "<table border=\"1\" class=\"dataframe\">\n",
       "    <thead>\n",
       "        <tr>\n",
       "            <th>Age Cohort</th> <th>Average White (Non-Hispanic) Expenditure</th> <th>Average Hispanic Expenditure</th> <th>Difference between Hispanic and White Expenditure</th>\n",
       "        </tr>\n",
       "    </thead>\n",
       "    <tbody>\n",
       "        <tr>\n",
       "            <td>0 to 5    </td> <td>1366.9                                  </td> <td>1393.2                      </td> <td>26.3045                                          </td>\n",
       "        </tr>\n",
       "        <tr>\n",
       "            <td>13 to 17  </td> <td>3904.36                                 </td> <td>3955.28                     </td> <td>50.9233                                          </td>\n",
       "        </tr>\n",
       "        <tr>\n",
       "            <td>18 to 21  </td> <td>10133.1                                 </td> <td>9959.85                     </td> <td>-173.212                                         </td>\n",
       "        </tr>\n",
       "        <tr>\n",
       "            <td>22 to 50  </td> <td>40187.6                                 </td> <td>40924.1                     </td> <td>736.492                                          </td>\n",
       "        </tr>\n",
       "        <tr>\n",
       "            <td>51+       </td> <td>52670.4                                 </td> <td>55585                       </td> <td>2914.58                                          </td>\n",
       "        </tr>\n",
       "        <tr>\n",
       "            <td>6 to 12   </td> <td>2052.26                                 </td> <td>2312.19                     </td> <td>259.926                                          </td>\n",
       "        </tr>\n",
       "    </tbody>\n",
       "</table>"
      ],
      "text/plain": [
       "Age Cohort | Average White (Non-Hispanic) Expenditure | Average Hispanic Expenditure | Difference between Hispanic and White Expenditure\n",
       "0 to 5     | 1366.9                                   | 1393.2                       | 26.3045\n",
       "13 to 17   | 3904.36                                  | 3955.28                      | 50.9233\n",
       "18 to 21   | 10133.1                                  | 9959.85                      | -173.212\n",
       "22 to 50   | 40187.6                                  | 40924.1                      | 736.492\n",
       "51+        | 52670.4                                  | 55585                        | 2914.58\n",
       "6 to 12    | 2052.26                                  | 2312.19                      | 259.926"
      ]
     },
     "execution_count": 195,
     "metadata": {},
     "output_type": "execute_result"
    }
   ],
   "source": [
    "white_grouped = expenditures.group([w.value, \"Ethnicity\"], np.mean).where(\"Ethnicity\", \"White not Hispanic\").select(0, \"Expenditures mean\").relabel(1, \"Average White (Non-Hispanic) Expenditure\")\n",
    "hispanic_column = expenditures.group([w.value, \"Ethnicity\"], np.mean).where(\"Ethnicity\", \"Hispanic\").column(\"Expenditures mean\")\n",
    "white_grouped = white_grouped.with_columns(\"Average Hispanic Expenditure\", hispanic_column)\n",
    "white_grouped = white_grouped.with_columns(\"Difference between Hispanic and White Expenditure\", hispanic_column - white_grouped.column(1))\n",
    "white_grouped"
   ]
  },
  {
   "cell_type": "markdown",
   "metadata": {},
   "source": [
    "Based on this data, for a typical person in a given age cohort, the expenditures seem to be really similar by race. In fact, for all but one age cohort, the average Hispanic expenditure is actually greater than the corresponding average white expenditure! This is another example of Simpson's paradox. The overall data tells us that the average White expenditure is much higher than the average Hispanic expenditure. However, when we break the data down more, we see a different trend that directly counters our initial assumptions. "
   ]
  },
  {
   "cell_type": "code",
   "execution_count": 193,
   "metadata": {},
   "outputs": [
    {
     "data": {
      "text/html": [
       "<table border=\"1\" class=\"dataframe\">\n",
       "    <thead>\n",
       "        <tr>\n",
       "            <th>Ethnicity</th> <th>Age Cohort</th> <th>count</th>\n",
       "        </tr>\n",
       "    </thead>\n",
       "    <tbody>\n",
       "        <tr>\n",
       "            <td>American Indian   </td> <td>13 to 17  </td> <td>1    </td>\n",
       "        </tr>\n",
       "        <tr>\n",
       "            <td>American Indian   </td> <td>22 to 50  </td> <td>1    </td>\n",
       "        </tr>\n",
       "        <tr>\n",
       "            <td>American Indian   </td> <td>51+       </td> <td>2    </td>\n",
       "        </tr>\n",
       "        <tr>\n",
       "            <td>Asian             </td> <td>0 to 5    </td> <td>8    </td>\n",
       "        </tr>\n",
       "        <tr>\n",
       "            <td>Asian             </td> <td>13 to 17  </td> <td>20   </td>\n",
       "        </tr>\n",
       "        <tr>\n",
       "            <td>Asian             </td> <td>18 to 21  </td> <td>41   </td>\n",
       "        </tr>\n",
       "        <tr>\n",
       "            <td>Asian             </td> <td>22 to 50  </td> <td>29   </td>\n",
       "        </tr>\n",
       "        <tr>\n",
       "            <td>Asian             </td> <td>51+       </td> <td>13   </td>\n",
       "        </tr>\n",
       "        <tr>\n",
       "            <td>Asian             </td> <td>6 to 12   </td> <td>18   </td>\n",
       "        </tr>\n",
       "        <tr>\n",
       "            <td>Black             </td> <td>0 to 5    </td> <td>3    </td>\n",
       "        </tr>\n",
       "        <tr>\n",
       "            <td>Black             </td> <td>13 to 17  </td> <td>12   </td>\n",
       "        </tr>\n",
       "        <tr>\n",
       "            <td>Black             </td> <td>18 to 21  </td> <td>9    </td>\n",
       "        </tr>\n",
       "        <tr>\n",
       "            <td>Black             </td> <td>22 to 50  </td> <td>17   </td>\n",
       "        </tr>\n",
       "        <tr>\n",
       "            <td>Black             </td> <td>51+       </td> <td>7    </td>\n",
       "        </tr>\n",
       "        <tr>\n",
       "            <td>Black             </td> <td>6 to 12   </td> <td>11   </td>\n",
       "        </tr>\n",
       "        <tr>\n",
       "            <td>Hispanic          </td> <td>0 to 5    </td> <td>44   </td>\n",
       "        </tr>\n",
       "        <tr>\n",
       "            <td>Hispanic          </td> <td>13 to 17  </td> <td>103  </td>\n",
       "        </tr>\n",
       "        <tr>\n",
       "            <td>Hispanic          </td> <td>18 to 21  </td> <td>78   </td>\n",
       "        </tr>\n",
       "        <tr>\n",
       "            <td>Hispanic          </td> <td>22 to 50  </td> <td>43   </td>\n",
       "        </tr>\n",
       "        <tr>\n",
       "            <td>Hispanic          </td> <td>51+       </td> <td>17   </td>\n",
       "        </tr>\n",
       "        <tr>\n",
       "            <td>Hispanic          </td> <td>6 to 12   </td> <td>91   </td>\n",
       "        </tr>\n",
       "        <tr>\n",
       "            <td>Multi Race        </td> <td>0 to 5    </td> <td>7    </td>\n",
       "        </tr>\n",
       "        <tr>\n",
       "            <td>Multi Race        </td> <td>13 to 17  </td> <td>7    </td>\n",
       "        </tr>\n",
       "        <tr>\n",
       "            <td>Multi Race        </td> <td>18 to 21  </td> <td>2    </td>\n",
       "        </tr>\n",
       "        <tr>\n",
       "            <td>Multi Race        </td> <td>22 to 50  </td> <td>1    </td>\n",
       "        </tr>\n",
       "        <tr>\n",
       "            <td>Multi Race        </td> <td>6 to 12   </td> <td>9    </td>\n",
       "        </tr>\n",
       "        <tr>\n",
       "            <td>Native Hawaiian   </td> <td>22 to 50  </td> <td>2    </td>\n",
       "        </tr>\n",
       "        <tr>\n",
       "            <td>Native Hawaiian   </td> <td>51+       </td> <td>1    </td>\n",
       "        </tr>\n",
       "        <tr>\n",
       "            <td>Other             </td> <td>13 to 17  </td> <td>2    </td>\n",
       "        </tr>\n",
       "        <tr>\n",
       "            <td>White not Hispanic</td> <td>0 to 5    </td> <td>20   </td>\n",
       "        </tr>\n",
       "        <tr>\n",
       "            <td>White not Hispanic</td> <td>13 to 17  </td> <td>67   </td>\n",
       "        </tr>\n",
       "        <tr>\n",
       "            <td>White not Hispanic</td> <td>18 to 21  </td> <td>69   </td>\n",
       "        </tr>\n",
       "        <tr>\n",
       "            <td>White not Hispanic</td> <td>22 to 50  </td> <td>133  </td>\n",
       "        </tr>\n",
       "        <tr>\n",
       "            <td>White not Hispanic</td> <td>51+       </td> <td>66   </td>\n",
       "        </tr>\n",
       "        <tr>\n",
       "            <td>White not Hispanic</td> <td>6 to 12   </td> <td>46   </td>\n",
       "        </tr>\n",
       "    </tbody>\n",
       "</table>"
      ],
      "text/plain": [
       "<IPython.core.display.HTML object>"
      ]
     },
     "metadata": {},
     "output_type": "display_data"
    }
   ],
   "source": [
    "expenditures.group([\"Ethnicity\", \"Age Cohort\"]).show(40)"
   ]
  },
  {
   "cell_type": "code",
   "execution_count": null,
   "metadata": {
    "collapsed": true
   },
   "outputs": [],
   "source": []
  }
 ],
 "metadata": {
  "kernelspec": {
   "display_name": "Python 3",
   "language": "python",
   "name": "python3"
  },
  "language_info": {
   "codemirror_mode": {
    "name": "ipython",
    "version": 3
   },
   "file_extension": ".py",
   "mimetype": "text/x-python",
   "name": "python",
   "nbconvert_exporter": "python",
   "pygments_lexer": "ipython3",
   "version": "3.6.3"
  }
 },
 "nbformat": 4,
 "nbformat_minor": 2
}
