{
 "cells": [
  {
   "cell_type": "markdown",
   "metadata": {
    "collapsed": true
   },
   "source": [
    "As aspiring data scientists, we wield a lot of power. Every decision made today, whether it be deciding prices on a McDonalds menu or predicting the winner of an election, is increasingly relying on drawing conclusions from data. However, with this great power comes great responsibility as well. We have to ensure that the decisions we make are fair and unbiased. \n",
    "\n",
    "If we start our experiment with a goal of achieving a certain result, we shouldn't keep tweaking our methodology as we're running the experiment until we find an appropriate finding. A responsible approach would be to initially agree on a methodology, and run the experiment without \"peeking\" at the raw data. Only when the analysis is finished should we examine our result. This approach is called \"blind analysis,\" and we will investigate how it works and why it's so important!"
   ]
  },
  {
   "cell_type": "code",
   "execution_count": 57,
   "metadata": {
    "collapsed": true
   },
   "outputs": [],
   "source": [
    "# Just run this cell - it contains a bunch of helpful libraries, some of which you may be familar with!\n",
    "from datascience import * # This is the library used in Data 8!\n",
    "import pandas as pd\n",
    "import matplotlib.pyplot as plt\n",
    "%matplotlib inline\n",
    "import ipywidgets as widgets\n",
    "import numpy as np\n",
    "from IPython.display import display"
   ]
  },
  {
   "cell_type": "markdown",
   "metadata": {},
   "source": [
    "Let's take the example of Simpson's paradox. This is a statistical phenomenon where we see a trend in many groups of data, but this trend seemingly reverses when the groups are aggregated. A famous case of this actually involves our school! In 1973, researchers wanted to investigate possible gender bias in graduate school admissions at UC Berkeley. Take a look at the data they found below: "
   ]
  },
  {
   "cell_type": "code",
   "execution_count": 58,
   "metadata": {},
   "outputs": [
    {
     "data": {
      "text/html": [
       "<table border=\"1\" class=\"dataframe\">\n",
       "    <thead>\n",
       "        <tr>\n",
       "            <th></th> <th>Applicants</th> <th>Accepted</th>\n",
       "        </tr>\n",
       "    </thead>\n",
       "    <tbody>\n",
       "        <tr>\n",
       "            <td>Men  </td> <td>8442      </td> <td>44%     </td>\n",
       "        </tr>\n",
       "        <tr>\n",
       "            <td>Women</td> <td>4321      </td> <td>35%     </td>\n",
       "        </tr>\n",
       "    </tbody>\n",
       "</table>"
      ],
      "text/plain": [
       "      | Applicants | Accepted\n",
       "Men   | 8442       | 44%\n",
       "Women | 4321       | 35%"
      ]
     },
     "execution_count": 58,
     "metadata": {},
     "output_type": "execute_result"
    }
   ],
   "source": [
    "table = Table().with_columns(\"\", [\"Men\", \"Women\"], \"Applicants\", [8442, 4321], \"Accepted\", [\"44%\", \"35%\"])\n",
    "table"
   ]
  },
  {
   "cell_type": "markdown",
   "metadata": {},
   "source": [
    "Just based on this data, what would you conclude? Does it look like there's a possible bias here?\n",
    "\n",
    "Researchers certainly thought so! That is, until they delved deeper into the data. If we look at a breakdown examining enrollment by department, for the six largest departments, the data paints a different picture. "
   ]
  },
  {
   "cell_type": "code",
   "execution_count": 59,
   "metadata": {},
   "outputs": [
    {
     "data": {
      "text/html": [
       "<table border=\"1\" class=\"dataframe\">\n",
       "    <thead>\n",
       "        <tr>\n",
       "            <th></th> <th>Male Applicants</th> <th>Male Acceptance</th> <th>Female Applicants</th> <th>Female Acceptance</th>\n",
       "        </tr>\n",
       "    </thead>\n",
       "    <tbody>\n",
       "        <tr>\n",
       "            <td>A   </td> <td>825            </td> <td>62%            </td> <td>108              </td> <td>82%              </td>\n",
       "        </tr>\n",
       "        <tr>\n",
       "            <td>B   </td> <td>560            </td> <td>63%            </td> <td>25               </td> <td>68%              </td>\n",
       "        </tr>\n",
       "        <tr>\n",
       "            <td>C   </td> <td>325            </td> <td>37%            </td> <td>593              </td> <td>34%              </td>\n",
       "        </tr>\n",
       "        <tr>\n",
       "            <td>D   </td> <td>417            </td> <td>33%            </td> <td>375              </td> <td>35%              </td>\n",
       "        </tr>\n",
       "        <tr>\n",
       "            <td>E   </td> <td>191            </td> <td>28%            </td> <td>393              </td> <td>24%              </td>\n",
       "        </tr>\n",
       "        <tr>\n",
       "            <td>F   </td> <td>373            </td> <td>6%             </td> <td>341              </td> <td>7%               </td>\n",
       "        </tr>\n",
       "    </tbody>\n",
       "</table>"
      ],
      "text/plain": [
       "     | Male Applicants | Male Acceptance | Female Applicants | Female Acceptance\n",
       "A    | 825             | 62%             | 108               | 82%\n",
       "B    | 560             | 63%             | 25                | 68%\n",
       "C    | 325             | 37%             | 593               | 34%\n",
       "D    | 417             | 33%             | 375               | 35%\n",
       "E    | 191             | 28%             | 393               | 24%\n",
       "F    | 373             | 6%              | 341               | 7%"
      ]
     },
     "execution_count": 59,
     "metadata": {},
     "output_type": "execute_result"
    }
   ],
   "source": [
    "table = Table().with_columns(\"\", [\"A\", \"B\", \"C\", \"D\", \"E\", \"F\"], \"Male Applicants\", [825, 560, 325, 417, 191, 373], \n",
    "                            \"Male Acceptance\", [\"62%\", \"63%\", \"37%\", \"33%\", \"28%\", \"6%\"], \n",
    "                            \"Female Applicants\", [108, 25, 593, 375, 393, 341], \n",
    "                            \"Female Acceptance\", [\"82%\", \"68%\", \"34%\", \"35%\", \"24%\", \"7%\"])\n",
    "table"
   ]
  },
  {
   "cell_type": "markdown",
   "metadata": {},
   "source": [
    "Now, we get some evidence contrary to our initial claims! 4 of the top 6 departments seem to be biased against men.\n",
    "\n",
    "\n",
    "This phenomenon is really unintuitive to understand at first, so don't worry if it takes a while to sink in. Because it's so hard to grasp, it can easily be exploited by people that misapply statistics. If we wanted to demonstrate that the admissions process is biased towards men, we could point to the first table as proof. On the other hand, if we wanted to prove that women are the beneficaries of this bias, we could just refer to the above statistic! \n",
    "\n",
    "So who's right? It all depends on what methodology you follow. If a researcher were to \"peek\" at the raw findings here, and find a result that clashes with their goal, they could easily switch to the other methodology and obtain a satisfactory finding. This is why it's important to carefully decide your methodology at the start, and not proceed until you're absolutely sure that it is the fairest and most complete method. Only then should we finalize it, and run our experiment without tweaking the method. "
   ]
  },
  {
   "cell_type": "code",
   "execution_count": 89,
   "metadata": {
    "collapsed": true
   },
   "outputs": [],
   "source": [
    "expenditures = Table.from_df(pd.read_csv(\"californiaDDSDataV2.csv\"))"
   ]
  },
  {
   "cell_type": "code",
   "execution_count": 91,
   "metadata": {},
   "outputs": [
    {
     "data": {
      "text/html": [
       "<table border=\"1\" class=\"dataframe\">\n",
       "    <thead>\n",
       "        <tr>\n",
       "            <th>Id</th> <th>Age Cohort</th> <th>Age</th> <th>Gender</th> <th>Expenditures</th> <th>Ethnicity</th>\n",
       "        </tr>\n",
       "    </thead>\n",
       "    <tbody>\n",
       "        <tr>\n",
       "            <td>10210</td> <td>13 to 17  </td> <td>17  </td> <td>Female</td> <td>2113        </td> <td>White not Hispanic</td>\n",
       "        </tr>\n",
       "        <tr>\n",
       "            <td>10409</td> <td>22 to 50  </td> <td>37  </td> <td>Male  </td> <td>41924       </td> <td>White not Hispanic</td>\n",
       "        </tr>\n",
       "        <tr>\n",
       "            <td>10486</td> <td>0 to 5    </td> <td>3   </td> <td>Male  </td> <td>1454        </td> <td>Hispanic          </td>\n",
       "        </tr>\n",
       "        <tr>\n",
       "            <td>10538</td> <td>18 to 21  </td> <td>19  </td> <td>Female</td> <td>6400        </td> <td>Hispanic          </td>\n",
       "        </tr>\n",
       "        <tr>\n",
       "            <td>10568</td> <td>13 to 17  </td> <td>13  </td> <td>Male  </td> <td>4412        </td> <td>White not Hispanic</td>\n",
       "        </tr>\n",
       "        <tr>\n",
       "            <td>10690</td> <td>13 to 17  </td> <td>15  </td> <td>Female</td> <td>4566        </td> <td>Hispanic          </td>\n",
       "        </tr>\n",
       "        <tr>\n",
       "            <td>10711</td> <td>13 to 17  </td> <td>13  </td> <td>Female</td> <td>3915        </td> <td>White not Hispanic</td>\n",
       "        </tr>\n",
       "        <tr>\n",
       "            <td>10778</td> <td>13 to 17  </td> <td>17  </td> <td>Male  </td> <td>3873        </td> <td>Black             </td>\n",
       "        </tr>\n",
       "        <tr>\n",
       "            <td>10820</td> <td>13 to 17  </td> <td>14  </td> <td>Female</td> <td>5021        </td> <td>White not Hispanic</td>\n",
       "        </tr>\n",
       "        <tr>\n",
       "            <td>10823</td> <td>13 to 17  </td> <td>13  </td> <td>Male  </td> <td>2887        </td> <td>Hispanic          </td>\n",
       "        </tr>\n",
       "    </tbody>\n",
       "</table>\n",
       "<p>... (990 rows omitted)</p>"
      ],
      "text/plain": [
       "Id    | Age Cohort | Age  | Gender | Expenditures | Ethnicity\n",
       "10210 | 13 to 17   | 17   | Female | 2113         | White not Hispanic\n",
       "10409 | 22 to 50   | 37   | Male   | 41924        | White not Hispanic\n",
       "10486 | 0 to 5     | 3    | Male   | 1454         | Hispanic\n",
       "10538 | 18 to 21   | 19   | Female | 6400         | Hispanic\n",
       "10568 | 13 to 17   | 13   | Male   | 4412         | White not Hispanic\n",
       "10690 | 13 to 17   | 15   | Female | 4566         | Hispanic\n",
       "10711 | 13 to 17   | 13   | Female | 3915         | White not Hispanic\n",
       "10778 | 13 to 17   | 17   | Male   | 3873         | Black\n",
       "10820 | 13 to 17   | 14   | Female | 5021         | White not Hispanic\n",
       "10823 | 13 to 17   | 13   | Male   | 2887         | Hispanic\n",
       "... (990 rows omitted)"
      ]
     },
     "execution_count": 91,
     "metadata": {},
     "output_type": "execute_result"
    }
   ],
   "source": [
    "expenditures"
   ]
  },
  {
   "cell_type": "markdown",
   "metadata": {},
   "source": [
    "CLAIM: White Non-Hispanics were receiving more funding than Hispanics"
   ]
  },
  {
   "cell_type": "code",
   "execution_count": 98,
   "metadata": {},
   "outputs": [
    {
     "data": {
      "text/html": [
       "<table border=\"1\" class=\"dataframe\">\n",
       "    <thead>\n",
       "        <tr>\n",
       "            <th>Ethnicity</th> <th>Expenditures mean</th>\n",
       "        </tr>\n",
       "    </thead>\n",
       "    <tbody>\n",
       "        <tr>\n",
       "            <td>American Indian   </td> <td>36438.2          </td>\n",
       "        </tr>\n",
       "        <tr>\n",
       "            <td>Asian             </td> <td>18392.4          </td>\n",
       "        </tr>\n",
       "        <tr>\n",
       "            <td>Black             </td> <td>20884.6          </td>\n",
       "        </tr>\n",
       "        <tr>\n",
       "            <td>Hispanic          </td> <td>11065.6          </td>\n",
       "        </tr>\n",
       "        <tr>\n",
       "            <td>Multi Race        </td> <td>4456.73          </td>\n",
       "        </tr>\n",
       "        <tr>\n",
       "            <td>Native Hawaiian   </td> <td>42782.3          </td>\n",
       "        </tr>\n",
       "        <tr>\n",
       "            <td>Other             </td> <td>3316.5           </td>\n",
       "        </tr>\n",
       "        <tr>\n",
       "            <td>White not Hispanic</td> <td>24697.5          </td>\n",
       "        </tr>\n",
       "    </tbody>\n",
       "</table>"
      ],
      "text/plain": [
       "Ethnicity          | Expenditures mean\n",
       "American Indian    | 36438.2\n",
       "Asian              | 18392.4\n",
       "Black              | 20884.6\n",
       "Hispanic           | 11065.6\n",
       "Multi Race         | 4456.73\n",
       "Native Hawaiian    | 42782.3\n",
       "Other              | 3316.5\n",
       "White not Hispanic | 24697.5"
      ]
     },
     "execution_count": 98,
     "metadata": {},
     "output_type": "execute_result"
    }
   ],
   "source": [
    "ethnicity_grouped = expenditures.group(\"Ethnicity\", np.mean).select(\"Ethnicity\", \"Expenditures mean\")\n",
    "ethnicity_grouped"
   ]
  },
  {
   "cell_type": "code",
   "execution_count": 96,
   "metadata": {},
   "outputs": [],
   "source": [
    "w = widgets.Dropdown(\n",
    "    options=[\"Age Cohort\", \"Age\", \"Gender\", \"Expenditures\", \"Ethnicity\"],\n",
    "    value=\"Age Cohort\",\n",
    "    description='Number:',\n",
    ")"
   ]
  },
  {
   "cell_type": "code",
   "execution_count": 35,
   "metadata": {},
   "outputs": [
    {
     "data": {
      "application/vnd.jupyter.widget-view+json": {
       "model_id": "c479160b476c4acf9b976298ea2a86b1",
       "version_major": 2,
       "version_minor": 0
      },
      "text/plain": [
       "A Jupyter Widget"
      ]
     },
     "metadata": {},
     "output_type": "display_data"
    }
   ],
   "source": [
    "display(w)"
   ]
  },
  {
   "cell_type": "code",
   "execution_count": 30,
   "metadata": {},
   "outputs": [
    {
     "data": {
      "text/plain": [
       "False"
      ]
     },
     "execution_count": 30,
     "metadata": {},
     "output_type": "execute_result"
    }
   ],
   "source": [
    "w.value"
   ]
  },
  {
   "cell_type": "code",
   "execution_count": null,
   "metadata": {
    "collapsed": true
   },
   "outputs": [],
   "source": []
  }
 ],
 "metadata": {
  "kernelspec": {
   "display_name": "Python 3",
   "language": "python",
   "name": "python3"
  },
  "language_info": {
   "codemirror_mode": {
    "name": "ipython",
    "version": 3
   },
   "file_extension": ".py",
   "mimetype": "text/x-python",
   "name": "python",
   "nbconvert_exporter": "python",
   "pygments_lexer": "ipython3",
   "version": "3.6.3"
  }
 },
 "nbformat": 4,
 "nbformat_minor": 2
}
